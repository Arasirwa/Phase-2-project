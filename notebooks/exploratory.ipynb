{
 "cells": [
  {
   "cell_type": "markdown",
   "metadata": {},
   "source": [
    "# **Exploratory Data Analysis**"
   ]
  },
  {
   "cell_type": "markdown",
   "metadata": {},
   "source": [
    "   ## 1. **Business Understanding**\n",
    "\n",
    "   ### **Business Context**\n",
    "   Our company is entering the competitive movie production industry, by establishing a new movie studio. With major corporations increasingly investing in original video content, we need to strategically position ourselves to maximize our chances of box office success.\n",
    "\n",
    "   ### **Primary Stakeholder**\n",
    "   **Head of New Movie Studio** - The key decision-maker who will use our analysis to guide the studio's content creation strategy and investment decisions.\n",
    "\n",
    "   #### 1. **What genres are most profitable?**\n",
    "   - Which movie genres consistently generate the highest box office returns?\n",
    "   - Are there emerging genres showing strong growth potential?\n",
    "\n",
    "   #### 2. **What budget ranges optimize ROI?**\n",
    "   - What is the relationship between production budget and box office performance?\n",
    "   - What budget sweet spot maximizes return on investment?\n",
    "\n",
    "   #### 3. **When should we release our films?**\n",
    "   - Which months/seasons show the strongest box office performance?\n",
    "   - How can we avoid oversaturated release periods?\n",
    "\n",
    "   ### **Business Objectives**\n",
    "   - **Primary Goal:** Identify the most profitable film characteristics to guide our initial movie productions\n",
    "   - **Success Metrics:** Maximize box office revenue and return on investment\n",
    "   - **Risk Mitigation:** Minimize financial losses by avoiding poorly-performing film categories\n",
    "\n",
    "   ### **Data Requirements & Analysis Considerations**\n",
    "   #### Dataset Specifications Needed:\n",
    "   1. **What movie data do we have access to?** (Box office numbers, budgets, genres, release dates, ratings, etc.)\n",
    "   2. **What time period does our data cover?** (Recent years only, or historical data?)\n",
    "   3. **Is it domestic box office, international, or worldwide gross?**\n",
    "\n",
    "   #### Business Context Clarifications:\n",
    "   4. **What size studio are we targeting?** (Independent/small budget vs. major studio competitor?)\n",
    "   5. **Are there any genre restrictions?** (Family-friendly only, or open to all ratings?)\n",
    "   6. **Geographic focus?** (Domestic US market, international, or global?)\n",
    "\n",
    "   #### Analysis Scope Considerations:\n",
    "   7. **Should we consider streaming/digital revenue or just theatrical box office?**\n",
    "   8. **Do we want to analyze competitor studios' strategies?**\n",
    "   9. **Should seasonal trends consider COVID-19 impact on recent years?**\n",
    "\n",
    "   ### **Success Metrics Framework**\n",
    "   **Primary Metrics:**\n",
    "   - **Gross Revenue:** Total box office performance\n",
    "   - **Return on Investment (ROI):** (Revenue - Budget) / Budget × 100\n",
    "   - **Profit Margins:** Net profit as percentage of revenue\n",
    "   - **Budget Efficiency:** Revenue per dollar invested\n",
    "\n",
    "   **Secondary Metrics:**\n",
    "   - **Market Share:** Performance relative to industry\n",
    "   - **Risk Assessment:** Variance in returns by category\n",
    "   - **Audience Reach:** Ticket sales and demographic penetration\n",
    "\n",
    "   ### **Recommended Visualizations Strategy**\n",
    "   #### 1. **Genre Analysis**\n",
    "   - **Horizontal Bar Chart:** Average revenue by genre (easy comparison)\n",
    "   - **Box Plot:** Revenue distribution by genre (shows variability and outliers)\n",
    "   - **Scatter Plot:** Budget vs. Revenue by genre (profitability insights)\n",
    "   #### 2. **Budget Optimization**\n",
    "   - **Scatter Plot with Trend Line:** Budget vs. ROI (sweet spot identification)\n",
    "   - **Histogram:** Distribution of profitable budget ranges\n",
    "   - **Bubble Chart:** Budget vs. Revenue (bubble size = profit margin)\n",
    "   #### 3. **Release Timing**\n",
    "   - **Line Graph:** Monthly box office performance over time\n",
    "   - **Heatmap:** Revenue by month and genre combination\n",
    "   - **Seasonal Bar Chart:** Quarterly performance comparison\n",
    "\n",
    "   #### 4. **Risk vs. Reward Analysis**\n",
    "   - **Risk-Return Scatter Plot:** Average return vs. standard deviation by category\n",
    "   - **Waterfall Chart:** Success rate breakdown by film characteristics\n",
    "\n",
    "   ### **Expected Deliverables**\n",
    "   Three concrete, data-driven recommendations that the Head of Movie Studio can immediately implement in the studio's content strategy and production planning."
   ]
  },
  {
   "cell_type": "markdown",
   "metadata": {},
   "source": [
    "## 2. **Data Understanding**\n",
    "\n",
    "`bom.movie_gross.csv.gz` dataset from **Box Office Mojo** contains the revenue data for various films. It contains the following five columns:\n",
    "\n",
    "- **title**: movie title\n",
    "- **studio**: producing studio\n",
    "- **domestic_gross**: domestic gross earnings in USD\n",
    "- **foreign_gross**: international gross earnings\n",
    "- **year**: year film was released\n",
    "\n",
    "`im` database from **IMDB (Internet Movie Database)** contains information about the movies and those who worked on them. It contains eight tables with the following fields:\n",
    "- `directors` table contains the directors. It contains the following two fields:\n",
    "    - **movie_id**: unique movie ID (as per IMDb)\n",
    "    - **person_id**: director's ID (as per IMDb)\n",
    "- `known_for` table contains the notable works for each person. It contains the following two fields:\n",
    "    - **person_id**: unique person ID (as per IMDb)\n",
    "    - **movie_id**: unique movie ID (as per IMDb)\n",
    "- `movie_akas` table contains the alternative titles of the movies. It contains the following eight fields:\n",
    "    - **movie_id**: unique movie ID (as per IMDb)\n",
    "    - **ordering**: order in which movie title appears\n",
    "    - **title**: alternative title for the movie\n",
    "    - **region**: country code where movie was shown\n",
    "    - **language**: language code of the movie\n",
    "    - **types**: type of alternative title\n",
    "    - **attributes**: special attributes of the movie\n",
    "    - **is_original_title**: shows whether alternative title is the origianl title (1 = original title, 0 = alternative title)\n",
    "- `movie_basics` table contains basic information about the movies. It contains the following six fields:\n",
    "    - **movie_id**: unique identifier for the movie (as per IMDb)\n",
    "    - **primary_title**: official title of the movie\n",
    "    - **original_title**: official title of the movie in the original language\n",
    "    - **start_year**: year when the movie was released\n",
    "    - **runtime_minutes**: duration of the movie in minutes\n",
    "    - **genres**: genre(s) of the movie\n",
    "- `movie_ratings` table contains the ratings movies were given by IMDb. It contains the following three fields:\n",
    "    - **movie_id**: unique movie ID (as per IMDb)\n",
    "    - **averagerating**: average IMDb rating\n",
    "    - **numvotes**: number of votes received\n",
    "- `persons` table contains records of those involved in the movies. It has the following five fields:\n",
    "    - **person_id**: unique identifier for the person (as per IMDb)\n",
    "    - **primary_name**: full name of the person\n",
    "    - **birth_year**: year of birth\n",
    "    - **death_year**: year of death (if dead)\n",
    "    - **primary_profession**: role in the movie\n",
    "- `principals` table contains the information of the main cast and crew. It has the following five fields:\n",
    "    - **movie_id**: unique movie ID (as per IMDb)\n",
    "    - **ordering**: order of person in credits\n",
    "    - **person_id**: unique person ID (as per IMDb)\n",
    "    - **category**: role played\n",
    "    - **job**: specific role\n",
    "    - **characters**: character name\n",
    "- `writers` table contains the following two fields:\n",
    "    - **movie_id**: unique movie ID (as per IMDb)\n",
    "    - **person_id**: writer's ID (as per IMDb)\n",
    "\n",
    "`rt.movie_info.tsv.gz` dataset from **Rotten Tomatoes** contains general information about the movies. It contains the following twelve columns:\n",
    "- **id**: unique movie ID (as per Rotten Tomatoes)\n",
    "- **synopsis**: short summary of the movie\n",
    "- **rating**: Motion Picture Association of America(MPAA) Rating\n",
    "- **genre**: genre(s) of the movie\n",
    "- **director**: name of the director(s)\n",
    "- **writer**: name of the writer(s)\n",
    "- **theater_date**: date released in theaters\n",
    "- **dvd_date**: date released in DVD format\n",
    "- **currency**: currency symbol\n",
    "- **box_office**: total revenue from box office\n",
    "- **runtime**: movie duration in minutes\n",
    "- **studio**: producing studios\n",
    "\n",
    "`rt.reviews.tsv.gz` dataset from **Rotten Tomatoes** contains review information about movies. It contains the following eight columns:\n",
    "- **id**: unique movie ID (as per Rotten Tomatoes)\n",
    "- **review**: review text\n",
    "- **rating**: rating given by critic\n",
    "- **fresh**: categorization of the review (fresh = positive, rotten = negative)\n",
    "- **critic**: name of the critic\n",
    "- **top_critic**: highlights if a critic is regarded as a Top Critic by Rotten Tomatoes (1 = top critic, 0 = not a top critic)\n",
    "- **publisher**: publication name\n",
    "- **date**: date of the review\n",
    "\n",
    "`tmdb.movies.csv.gz` from **The Movie Database** (TMDb) contains movie and rating informations about various movies. It contains the following nine columns:\n",
    "- **genre_ids**: list of genre(s) for the movie\n",
    "- **id**: unique movie ID (as per TMDb)\n",
    "- **original_language**: language code for the movie\n",
    "- **original_title**: title of the movie in the official language\n",
    "- **popularity**: popularity score (as per TMDb)\n",
    "- **release_date**: release date in theatres\n",
    "- **title**: movie title\n",
    "- **vote_average**: average user rating\n",
    "- **vote_count**: total votes received\n",
    "\n",
    "`tn.movie_budgets.csv.gz` from **The Numbers** dataset contains movie budget and revenue information. It has the following six columns:\n",
    "- **id**: unique movie ID (as per The Numbers)\n",
    "- **release_date**: rlease date in theatres\n",
    "- **movie**: movie title\n",
    "- **production_budget**: budget used (in USD)\n",
    "- **domestic_gross**: revenue generatedfrom country of origin (in USD)\n",
    "- **worldwide_gross**: total revenue generated worldwide (in USD)\n"
   ]
  },
  {
   "cell_type": "markdown",
   "metadata": {},
   "source": [
    "## 3. **Data Preparation**"
   ]
  },
  {
   "cell_type": "code",
   "execution_count": 2,
   "metadata": {},
   "outputs": [],
   "source": [
    "# Importing the required libraries\n",
    "import pandas as pd\n",
    "import numpy as np\n",
    "from matplotlib import pyplot as plt\n",
    "from mpl_toolkits.mplot3d import Axes3D\n",
    "from random import gauss\n",
    "from scipy import stats\n",
    "import seaborn as sns\n",
    "from sklearn.linear_model import LinearRegression\n",
    "from mpl_toolkits import mplot3d\n",
    "import sklearn.metrics as metrics\n",
    "import statsmodels.api as sm\n",
    "import sqlite3"
   ]
  },
  {
   "cell_type": "code",
   "execution_count": 3,
   "metadata": {},
   "outputs": [],
   "source": [
    "# Path to the provided datasets\n",
    "path_1 = (\"../Data/bom.movie_gross.csv\")\n",
    "path_2 = (\"../Data/rt.movie_info.tsv\")\n",
    "path_3 = (\"../Data/rt.reviews.tsv\")\n",
    "path_4 = (\"../Data/tmdb.movies.csv\")\n",
    "path_5 = (\"../Data/tn.movie_budgets.csv\")"
   ]
  },
  {
   "cell_type": "code",
   "execution_count": 4,
   "metadata": {},
   "outputs": [],
   "source": [
    "# Loading the datasets into a Dataframe\n",
    "bom_movie = pd.read_csv(path_1)\n",
    "rt_info = pd.read_csv(path_2, sep='\\t', encoding='latin1')\n",
    "\n",
    "\n",
    "rt_reviews = pd.read_csv(path_3, sep='\\t', encoding='latin1')\n",
    "\n",
    "tmdb_df = pd.read_csv(path_4)\n",
    "tn_budget = pd.read_csv(path_5)"
   ]
  },
  {
   "cell_type": "markdown",
   "metadata": {},
   "source": [
    "### **Dataset 1:** IMDB `IMdb`"
   ]
  },
  {
   "cell_type": "code",
   "execution_count": null,
   "metadata": {},
   "outputs": [
    {
     "name": "stdout",
     "output_type": "stream",
     "text": [
      "dict_keys(['movie_basics', 'directors', 'known_for', 'movie_akas', 'movie_ratings', 'persons', 'principals', 'writers'])\n"
     ]
    }
   ],
   "source": [
    "# Loading Imdb dataset using SQl and checking tables\n",
    "def load_tables(connection):\n",
    "    table_names = pd.read_sql(\n",
    "        \"SELECT name FROM sqlite_master WHERE type='table';\", connection\n",
    "    )[\"name\"].tolist()\n",
    "    sql_tables = {\n",
    "        table_name: pd.read_sql(f\"SELECT * FROM {table_name}\", connection)\n",
    "        for table_name in table_names\n",
    "    }\n",
    "    return sql_tables\n",
    "\n",
    "path = '../Data/im.db'\n",
    "conn = sqlite3.connect(path)\n",
    "\n",
    "imdb_tables = load_tables(conn)\n",
    "\n",
    "print(imdb_tables.keys())\n"
   ]
  },
  {
   "cell_type": "code",
   "execution_count": null,
   "metadata": {},
   "outputs": [],
   "source": [
    "\n",
    "print(imdb_tables.keys())\n"
   ]
  },
  {
   "cell_type": "code",
   "execution_count": 6,
   "metadata": {},
   "outputs": [
    {
     "data": {
      "application/vnd.microsoft.datawrangler.viewer.v0+json": {
       "columns": [
        {
         "name": "index",
         "rawType": "int64",
         "type": "integer"
        },
        {
         "name": "movie_id",
         "rawType": "object",
         "type": "string"
        },
        {
         "name": "primary_title",
         "rawType": "object",
         "type": "string"
        },
        {
         "name": "original_title",
         "rawType": "object",
         "type": "unknown"
        },
        {
         "name": "start_year",
         "rawType": "int64",
         "type": "integer"
        },
        {
         "name": "runtime_minutes",
         "rawType": "float64",
         "type": "float"
        },
        {
         "name": "genres",
         "rawType": "object",
         "type": "unknown"
        }
       ],
       "ref": "6887c690-7dbd-4534-bc48-17a870e4b9d2",
       "rows": [
        [
         "0",
         "tt0063540",
         "Sunghursh",
         "Sunghursh",
         "2013",
         "175.0",
         "Action,Crime,Drama"
        ],
        [
         "1",
         "tt0066787",
         "One Day Before the Rainy Season",
         "Ashad Ka Ek Din",
         "2019",
         "114.0",
         "Biography,Drama"
        ],
        [
         "2",
         "tt0069049",
         "The Other Side of the Wind",
         "The Other Side of the Wind",
         "2018",
         "122.0",
         "Drama"
        ],
        [
         "3",
         "tt0069204",
         "Sabse Bada Sukh",
         "Sabse Bada Sukh",
         "2018",
         null,
         "Comedy,Drama"
        ],
        [
         "4",
         "tt0100275",
         "The Wandering Soap Opera",
         "La Telenovela Errante",
         "2017",
         "80.0",
         "Comedy,Drama,Fantasy"
        ],
        [
         "5",
         "tt0111414",
         "A Thin Life",
         "A Thin Life",
         "2018",
         "75.0",
         "Comedy"
        ],
        [
         "6",
         "tt0112502",
         "Bigfoot",
         "Bigfoot",
         "2017",
         null,
         "Horror,Thriller"
        ],
        [
         "7",
         "tt0137204",
         "Joe Finds Grace",
         "Joe Finds Grace",
         "2017",
         "83.0",
         "Adventure,Animation,Comedy"
        ],
        [
         "8",
         "tt0139613",
         "O Silêncio",
         "O Silêncio",
         "2012",
         null,
         "Documentary,History"
        ],
        [
         "9",
         "tt0144449",
         "Nema aviona za Zagreb",
         "Nema aviona za Zagreb",
         "2012",
         "82.0",
         "Biography"
        ],
        [
         "10",
         "tt0146592",
         "Pál Adrienn",
         "Pál Adrienn",
         "2010",
         "136.0",
         "Drama"
        ],
        [
         "11",
         "tt0154039",
         "So Much for Justice!",
         "Oda az igazság",
         "2010",
         "100.0",
         "History"
        ],
        [
         "12",
         "tt0159369",
         "Cooper and Hemingway: The True Gen",
         "Cooper and Hemingway: The True Gen",
         "2013",
         "180.0",
         "Documentary"
        ],
        [
         "13",
         "tt0162942",
         "Children of the Green Dragon",
         "A zöld sárkány gyermekei",
         "2010",
         "89.0",
         "Drama"
        ],
        [
         "14",
         "tt0170651",
         "T.G.M. - osvoboditel",
         "T.G.M. - osvoboditel",
         "2018",
         "60.0",
         "Documentary"
        ],
        [
         "15",
         "tt0176694",
         "The Tragedy of Man",
         "Az ember tragédiája",
         "2011",
         "160.0",
         "Animation,Drama,History"
        ],
        [
         "16",
         "tt0187902",
         "How Huang Fei-hong Rescued the Orphan from the Tiger's Den",
         "How Huang Fei-hong Rescued the Orphan from the Tiger's Den",
         "2011",
         null,
         null
        ],
        [
         "17",
         "tt0192528",
         "Heaven & Hell",
         "Reverse Heaven",
         "2018",
         "104.0",
         "Drama"
        ],
        [
         "18",
         "tt0230212",
         "The Final Journey",
         "The Final Journey",
         "2010",
         "120.0",
         "Drama"
        ],
        [
         "19",
         "tt0247643",
         "Los pájaros se van con la muerte",
         "Los pájaros se van con la muerte",
         "2011",
         "110.0",
         "Drama,Mystery"
        ],
        [
         "20",
         "tt0249516",
         "Foodfight!",
         "Foodfight!",
         "2012",
         "91.0",
         "Action,Animation,Comedy"
        ],
        [
         "21",
         "tt0250404",
         "Godfather",
         "Godfather",
         "2012",
         null,
         "Crime,Drama"
        ],
        [
         "22",
         "tt0253093",
         "Gangavataran",
         "Gangavataran",
         "2018",
         "134.0",
         null
        ],
        [
         "23",
         "tt0255820",
         "Return to Babylon",
         "Return to Babylon",
         "2013",
         "75.0",
         "Biography,Comedy,Drama"
        ],
        [
         "24",
         "tt0262218",
         "Akakis mogzauroba",
         "Akakis mogzauroba",
         "2012",
         "44.0",
         "Documentary"
        ],
        [
         "25",
         "tt0262759",
         "Seven Jews from My Class",
         "Siedmiu Zydów z mojej klasy",
         "2018",
         "40.0",
         "Documentary"
        ],
        [
         "26",
         "tt0263814",
         "On kadin",
         "On kadin",
         "2019",
         null,
         "Drama"
        ],
        [
         "27",
         "tt0276568",
         "To Chase a Million",
         "To Chase a Million",
         "2018",
         "97.0",
         "Action,Drama"
        ],
        [
         "28",
         "tt0277964",
         "Prague: The Restless Heart of Europe",
         "Praha - neklidné srdce Evropy",
         "2018",
         "59.0",
         "Documentary,History"
        ],
        [
         "29",
         "tt0283440",
         "Short Time Heroes",
         "Kurzzeithelden",
         "2015",
         "45.0",
         "Sci-Fi"
        ],
        [
         "30",
         "tt0285252",
         "Life's a Beach",
         "Life's a Beach",
         "2012",
         "100.0",
         "Comedy"
        ],
        [
         "31",
         "tt0285423",
         "Abolição",
         "Abolição",
         "2019",
         null,
         "Documentary"
        ],
        [
         "32",
         "tt0293069",
         "Dark Blood",
         "Dark Blood",
         "2012",
         "86.0",
         "Thriller"
        ],
        [
         "33",
         "tt0293429",
         "Mortal Kombat",
         "Mortal Kombat",
         "2021",
         null,
         "Action,Adventure,Fantasy"
        ],
        [
         "34",
         "tt0297400",
         "Snowblind",
         "Snowblind",
         "2015",
         null,
         "Crime,Drama"
        ],
        [
         "35",
         "tt0306058",
         "Second Coming",
         "Second Coming",
         "2012",
         "95.0",
         null
        ],
        [
         "36",
         "tt0311448",
         "Lives No Longer Ours",
         "Lives No Longer Ours",
         "2011",
         "90.0",
         "Drama,Romance"
        ],
        [
         "37",
         "tt0312305",
         "Quantum Quest: A Cassini Space Odyssey",
         "Quantum Quest: A Cassini Space Odyssey",
         "2010",
         "45.0",
         "Adventure,Animation,Sci-Fi"
        ],
        [
         "38",
         "tt0315642",
         "Wazir",
         "Wazir",
         "2016",
         "103.0",
         "Action,Crime,Drama"
        ],
        [
         "39",
         "tt0323808",
         "The Wicker Tree",
         "The Wicker Tree",
         "2011",
         "96.0",
         "Drama,Horror"
        ],
        [
         "40",
         "tt0326592",
         "The Overnight",
         "The Overnight",
         "2010",
         "88.0",
         null
        ],
        [
         "41",
         "tt0326965",
         "In My Sleep",
         "In My Sleep",
         "2010",
         "104.0",
         "Drama,Mystery,Thriller"
        ],
        [
         "42",
         "tt0328810",
         "My Land",
         "Aamaar Bhuvan",
         "2018",
         "102.0",
         "Drama,Family"
        ],
        [
         "43",
         "tt0329539",
         "Rice Girl",
         "Rice Girl",
         "2014",
         "95.0",
         "Adventure,Comedy,Romance"
        ],
        [
         "44",
         "tt0330811",
         "Regret Not Speaking",
         "Regret Not Speaking",
         "2011",
         null,
         null
        ],
        [
         "45",
         "tt0330987",
         "Tiden är en dröm, del 2",
         "Tiden är en dröm, del 2",
         "2014",
         "109.0",
         null
        ],
        [
         "46",
         "tt0331312",
         "This Wretched Life",
         "This Wretched Life",
         "2010",
         "99.0",
         "Comedy,Drama"
        ],
        [
         "47",
         "tt0331314",
         "Bunyan and Babe",
         "Bunyan and Babe",
         "2017",
         "84.0",
         "Adventure,Animation,Comedy"
        ],
        [
         "48",
         "tt0337692",
         "On the Road",
         "On the Road",
         "2012",
         "124.0",
         "Adventure,Drama,Romance"
        ],
        [
         "49",
         "tt0337882",
         "Blind Sided",
         "Blind Sided",
         "2010",
         null,
         "Comedy,Crime,Drama"
        ]
       ],
       "shape": {
        "columns": 6,
        "rows": 146144
       }
      },
      "text/html": [
       "<div>\n",
       "<style scoped>\n",
       "    .dataframe tbody tr th:only-of-type {\n",
       "        vertical-align: middle;\n",
       "    }\n",
       "\n",
       "    .dataframe tbody tr th {\n",
       "        vertical-align: top;\n",
       "    }\n",
       "\n",
       "    .dataframe thead th {\n",
       "        text-align: right;\n",
       "    }\n",
       "</style>\n",
       "<table border=\"1\" class=\"dataframe\">\n",
       "  <thead>\n",
       "    <tr style=\"text-align: right;\">\n",
       "      <th></th>\n",
       "      <th>movie_id</th>\n",
       "      <th>primary_title</th>\n",
       "      <th>original_title</th>\n",
       "      <th>start_year</th>\n",
       "      <th>runtime_minutes</th>\n",
       "      <th>genres</th>\n",
       "    </tr>\n",
       "  </thead>\n",
       "  <tbody>\n",
       "    <tr>\n",
       "      <th>0</th>\n",
       "      <td>tt0063540</td>\n",
       "      <td>Sunghursh</td>\n",
       "      <td>Sunghursh</td>\n",
       "      <td>2013</td>\n",
       "      <td>175.0</td>\n",
       "      <td>Action,Crime,Drama</td>\n",
       "    </tr>\n",
       "    <tr>\n",
       "      <th>1</th>\n",
       "      <td>tt0066787</td>\n",
       "      <td>One Day Before the Rainy Season</td>\n",
       "      <td>Ashad Ka Ek Din</td>\n",
       "      <td>2019</td>\n",
       "      <td>114.0</td>\n",
       "      <td>Biography,Drama</td>\n",
       "    </tr>\n",
       "    <tr>\n",
       "      <th>2</th>\n",
       "      <td>tt0069049</td>\n",
       "      <td>The Other Side of the Wind</td>\n",
       "      <td>The Other Side of the Wind</td>\n",
       "      <td>2018</td>\n",
       "      <td>122.0</td>\n",
       "      <td>Drama</td>\n",
       "    </tr>\n",
       "    <tr>\n",
       "      <th>3</th>\n",
       "      <td>tt0069204</td>\n",
       "      <td>Sabse Bada Sukh</td>\n",
       "      <td>Sabse Bada Sukh</td>\n",
       "      <td>2018</td>\n",
       "      <td>NaN</td>\n",
       "      <td>Comedy,Drama</td>\n",
       "    </tr>\n",
       "    <tr>\n",
       "      <th>4</th>\n",
       "      <td>tt0100275</td>\n",
       "      <td>The Wandering Soap Opera</td>\n",
       "      <td>La Telenovela Errante</td>\n",
       "      <td>2017</td>\n",
       "      <td>80.0</td>\n",
       "      <td>Comedy,Drama,Fantasy</td>\n",
       "    </tr>\n",
       "    <tr>\n",
       "      <th>...</th>\n",
       "      <td>...</td>\n",
       "      <td>...</td>\n",
       "      <td>...</td>\n",
       "      <td>...</td>\n",
       "      <td>...</td>\n",
       "      <td>...</td>\n",
       "    </tr>\n",
       "    <tr>\n",
       "      <th>146139</th>\n",
       "      <td>tt9916538</td>\n",
       "      <td>Kuambil Lagi Hatiku</td>\n",
       "      <td>Kuambil Lagi Hatiku</td>\n",
       "      <td>2019</td>\n",
       "      <td>123.0</td>\n",
       "      <td>Drama</td>\n",
       "    </tr>\n",
       "    <tr>\n",
       "      <th>146140</th>\n",
       "      <td>tt9916622</td>\n",
       "      <td>Rodolpho Teóphilo - O Legado de um Pioneiro</td>\n",
       "      <td>Rodolpho Teóphilo - O Legado de um Pioneiro</td>\n",
       "      <td>2015</td>\n",
       "      <td>NaN</td>\n",
       "      <td>Documentary</td>\n",
       "    </tr>\n",
       "    <tr>\n",
       "      <th>146141</th>\n",
       "      <td>tt9916706</td>\n",
       "      <td>Dankyavar Danka</td>\n",
       "      <td>Dankyavar Danka</td>\n",
       "      <td>2013</td>\n",
       "      <td>NaN</td>\n",
       "      <td>Comedy</td>\n",
       "    </tr>\n",
       "    <tr>\n",
       "      <th>146142</th>\n",
       "      <td>tt9916730</td>\n",
       "      <td>6 Gunn</td>\n",
       "      <td>6 Gunn</td>\n",
       "      <td>2017</td>\n",
       "      <td>116.0</td>\n",
       "      <td>None</td>\n",
       "    </tr>\n",
       "    <tr>\n",
       "      <th>146143</th>\n",
       "      <td>tt9916754</td>\n",
       "      <td>Chico Albuquerque - Revelações</td>\n",
       "      <td>Chico Albuquerque - Revelações</td>\n",
       "      <td>2013</td>\n",
       "      <td>NaN</td>\n",
       "      <td>Documentary</td>\n",
       "    </tr>\n",
       "  </tbody>\n",
       "</table>\n",
       "<p>146144 rows × 6 columns</p>\n",
       "</div>"
      ],
      "text/plain": [
       "         movie_id                                primary_title  \\\n",
       "0       tt0063540                                    Sunghursh   \n",
       "1       tt0066787              One Day Before the Rainy Season   \n",
       "2       tt0069049                   The Other Side of the Wind   \n",
       "3       tt0069204                              Sabse Bada Sukh   \n",
       "4       tt0100275                     The Wandering Soap Opera   \n",
       "...           ...                                          ...   \n",
       "146139  tt9916538                          Kuambil Lagi Hatiku   \n",
       "146140  tt9916622  Rodolpho Teóphilo - O Legado de um Pioneiro   \n",
       "146141  tt9916706                              Dankyavar Danka   \n",
       "146142  tt9916730                                       6 Gunn   \n",
       "146143  tt9916754               Chico Albuquerque - Revelações   \n",
       "\n",
       "                                     original_title  start_year  \\\n",
       "0                                         Sunghursh        2013   \n",
       "1                                   Ashad Ka Ek Din        2019   \n",
       "2                        The Other Side of the Wind        2018   \n",
       "3                                   Sabse Bada Sukh        2018   \n",
       "4                             La Telenovela Errante        2017   \n",
       "...                                             ...         ...   \n",
       "146139                          Kuambil Lagi Hatiku        2019   \n",
       "146140  Rodolpho Teóphilo - O Legado de um Pioneiro        2015   \n",
       "146141                              Dankyavar Danka        2013   \n",
       "146142                                       6 Gunn        2017   \n",
       "146143               Chico Albuquerque - Revelações        2013   \n",
       "\n",
       "        runtime_minutes                genres  \n",
       "0                 175.0    Action,Crime,Drama  \n",
       "1                 114.0       Biography,Drama  \n",
       "2                 122.0                 Drama  \n",
       "3                   NaN          Comedy,Drama  \n",
       "4                  80.0  Comedy,Drama,Fantasy  \n",
       "...                 ...                   ...  \n",
       "146139            123.0                 Drama  \n",
       "146140              NaN           Documentary  \n",
       "146141              NaN                Comedy  \n",
       "146142            116.0                  None  \n",
       "146143              NaN           Documentary  \n",
       "\n",
       "[146144 rows x 6 columns]"
      ]
     },
     "execution_count": 6,
     "metadata": {},
     "output_type": "execute_result"
    }
   ],
   "source": [
    "# Creating a copy of column 'Movie_basics'\n",
    "movie_basics_copy = imdb_tables[\"movie_basics\"].copy(deep=True)\n",
    "movie_basics_copy\n"
   ]
  },
  {
   "cell_type": "code",
   "execution_count": 7,
   "metadata": {},
   "outputs": [
    {
     "data": {
      "application/vnd.microsoft.datawrangler.viewer.v0+json": {
       "columns": [
        {
         "name": "index",
         "rawType": "int64",
         "type": "integer"
        },
        {
         "name": "movie_id",
         "rawType": "object",
         "type": "string"
        },
        {
         "name": "primary_title",
         "rawType": "object",
         "type": "string"
        },
        {
         "name": "original_title",
         "rawType": "object",
         "type": "string"
        },
        {
         "name": "start_year",
         "rawType": "int64",
         "type": "integer"
        },
        {
         "name": "runtime_minutes",
         "rawType": "float64",
         "type": "float"
        },
        {
         "name": "genres",
         "rawType": "object",
         "type": "string"
        }
       ],
       "ref": "6d0626e7-e22e-4ff6-a08a-377727063ddf",
       "rows": [
        [
         "0",
         "tt0063540",
         "Sunghursh",
         "Sunghursh",
         "2013",
         "175.0",
         "Action,Crime,Drama"
        ],
        [
         "1",
         "tt0066787",
         "One Day Before the Rainy Season",
         "Ashad Ka Ek Din",
         "2019",
         "114.0",
         "Biography,Drama"
        ],
        [
         "2",
         "tt0069049",
         "The Other Side of the Wind",
         "The Other Side of the Wind",
         "2018",
         "122.0",
         "Drama"
        ],
        [
         "3",
         "tt0069204",
         "Sabse Bada Sukh",
         "Sabse Bada Sukh",
         "2018",
         null,
         "Comedy,Drama"
        ],
        [
         "4",
         "tt0100275",
         "The Wandering Soap Opera",
         "La Telenovela Errante",
         "2017",
         "80.0",
         "Comedy,Drama,Fantasy"
        ]
       ],
       "shape": {
        "columns": 6,
        "rows": 5
       }
      },
      "text/html": [
       "<div>\n",
       "<style scoped>\n",
       "    .dataframe tbody tr th:only-of-type {\n",
       "        vertical-align: middle;\n",
       "    }\n",
       "\n",
       "    .dataframe tbody tr th {\n",
       "        vertical-align: top;\n",
       "    }\n",
       "\n",
       "    .dataframe thead th {\n",
       "        text-align: right;\n",
       "    }\n",
       "</style>\n",
       "<table border=\"1\" class=\"dataframe\">\n",
       "  <thead>\n",
       "    <tr style=\"text-align: right;\">\n",
       "      <th></th>\n",
       "      <th>movie_id</th>\n",
       "      <th>primary_title</th>\n",
       "      <th>original_title</th>\n",
       "      <th>start_year</th>\n",
       "      <th>runtime_minutes</th>\n",
       "      <th>genres</th>\n",
       "    </tr>\n",
       "  </thead>\n",
       "  <tbody>\n",
       "    <tr>\n",
       "      <th>0</th>\n",
       "      <td>tt0063540</td>\n",
       "      <td>Sunghursh</td>\n",
       "      <td>Sunghursh</td>\n",
       "      <td>2013</td>\n",
       "      <td>175.0</td>\n",
       "      <td>Action,Crime,Drama</td>\n",
       "    </tr>\n",
       "    <tr>\n",
       "      <th>1</th>\n",
       "      <td>tt0066787</td>\n",
       "      <td>One Day Before the Rainy Season</td>\n",
       "      <td>Ashad Ka Ek Din</td>\n",
       "      <td>2019</td>\n",
       "      <td>114.0</td>\n",
       "      <td>Biography,Drama</td>\n",
       "    </tr>\n",
       "    <tr>\n",
       "      <th>2</th>\n",
       "      <td>tt0069049</td>\n",
       "      <td>The Other Side of the Wind</td>\n",
       "      <td>The Other Side of the Wind</td>\n",
       "      <td>2018</td>\n",
       "      <td>122.0</td>\n",
       "      <td>Drama</td>\n",
       "    </tr>\n",
       "    <tr>\n",
       "      <th>3</th>\n",
       "      <td>tt0069204</td>\n",
       "      <td>Sabse Bada Sukh</td>\n",
       "      <td>Sabse Bada Sukh</td>\n",
       "      <td>2018</td>\n",
       "      <td>NaN</td>\n",
       "      <td>Comedy,Drama</td>\n",
       "    </tr>\n",
       "    <tr>\n",
       "      <th>4</th>\n",
       "      <td>tt0100275</td>\n",
       "      <td>The Wandering Soap Opera</td>\n",
       "      <td>La Telenovela Errante</td>\n",
       "      <td>2017</td>\n",
       "      <td>80.0</td>\n",
       "      <td>Comedy,Drama,Fantasy</td>\n",
       "    </tr>\n",
       "  </tbody>\n",
       "</table>\n",
       "</div>"
      ],
      "text/plain": [
       "    movie_id                    primary_title              original_title  \\\n",
       "0  tt0063540                        Sunghursh                   Sunghursh   \n",
       "1  tt0066787  One Day Before the Rainy Season             Ashad Ka Ek Din   \n",
       "2  tt0069049       The Other Side of the Wind  The Other Side of the Wind   \n",
       "3  tt0069204                  Sabse Bada Sukh             Sabse Bada Sukh   \n",
       "4  tt0100275         The Wandering Soap Opera       La Telenovela Errante   \n",
       "\n",
       "   start_year  runtime_minutes                genres  \n",
       "0        2013            175.0    Action,Crime,Drama  \n",
       "1        2019            114.0       Biography,Drama  \n",
       "2        2018            122.0                 Drama  \n",
       "3        2018              NaN          Comedy,Drama  \n",
       "4        2017             80.0  Comedy,Drama,Fantasy  "
      ]
     },
     "execution_count": 7,
     "metadata": {},
     "output_type": "execute_result"
    }
   ],
   "source": [
    "# Checking first five records\n",
    "movie_basics_copy.head()"
   ]
  },
  {
   "cell_type": "code",
   "execution_count": 8,
   "metadata": {},
   "outputs": [
    {
     "name": "stdout",
     "output_type": "stream",
     "text": [
      "<class 'pandas.core.frame.DataFrame'>\n",
      "RangeIndex: 146144 entries, 0 to 146143\n",
      "Data columns (total 6 columns):\n",
      " #   Column           Non-Null Count   Dtype  \n",
      "---  ------           --------------   -----  \n",
      " 0   movie_id         146144 non-null  object \n",
      " 1   primary_title    146144 non-null  object \n",
      " 2   original_title   146123 non-null  object \n",
      " 3   start_year       146144 non-null  int64  \n",
      " 4   runtime_minutes  114405 non-null  float64\n",
      " 5   genres           140736 non-null  object \n",
      "dtypes: float64(1), int64(1), object(4)\n",
      "memory usage: 6.7+ MB\n"
     ]
    }
   ],
   "source": [
    "# Checking the dataset information\n",
    "movie_basics_copy.info()"
   ]
  },
  {
   "cell_type": "markdown",
   "metadata": {},
   "source": [
    "* The columns in the dataset contain 2 numerical data and 4 categorical data. \n",
    "* There are several columns with missing values. Records should be `146144` which is not the case for most columns."
   ]
  },
  {
   "cell_type": "code",
   "execution_count": 9,
   "metadata": {},
   "outputs": [
    {
     "data": {
      "text/plain": [
       "(146144, 6)"
      ]
     },
     "execution_count": 9,
     "metadata": {},
     "output_type": "execute_result"
    }
   ],
   "source": [
    "# Checking the shape and dimensionality of the dataset.\n",
    "movie_basics_copy.shape"
   ]
  },
  {
   "cell_type": "markdown",
   "metadata": {},
   "source": [
    "* The dataset contains 146144 records(rows) and 6 features(columns)."
   ]
  },
  {
   "cell_type": "code",
   "execution_count": 10,
   "metadata": {},
   "outputs": [
    {
     "data": {
      "application/vnd.microsoft.datawrangler.viewer.v0+json": {
       "columns": [
        {
         "name": "index",
         "rawType": "object",
         "type": "string"
        },
        {
         "name": "start_year",
         "rawType": "float64",
         "type": "float"
        },
        {
         "name": "runtime_minutes",
         "rawType": "float64",
         "type": "float"
        }
       ],
       "ref": "9938b5a7-268c-429d-a7f4-a33f5562b86f",
       "rows": [
        [
         "count",
         "146144.0",
         "114405.0"
        ],
        [
         "mean",
         "2014.6217976790015",
         "86.18724706088021"
        ],
        [
         "std",
         "2.7335829231926003",
         "166.36059015397214"
        ],
        [
         "min",
         "2010.0",
         "1.0"
        ],
        [
         "25%",
         "2012.0",
         "70.0"
        ],
        [
         "50%",
         "2015.0",
         "87.0"
        ],
        [
         "75%",
         "2017.0",
         "99.0"
        ],
        [
         "max",
         "2115.0",
         "51420.0"
        ]
       ],
       "shape": {
        "columns": 2,
        "rows": 8
       }
      },
      "text/html": [
       "<div>\n",
       "<style scoped>\n",
       "    .dataframe tbody tr th:only-of-type {\n",
       "        vertical-align: middle;\n",
       "    }\n",
       "\n",
       "    .dataframe tbody tr th {\n",
       "        vertical-align: top;\n",
       "    }\n",
       "\n",
       "    .dataframe thead th {\n",
       "        text-align: right;\n",
       "    }\n",
       "</style>\n",
       "<table border=\"1\" class=\"dataframe\">\n",
       "  <thead>\n",
       "    <tr style=\"text-align: right;\">\n",
       "      <th></th>\n",
       "      <th>start_year</th>\n",
       "      <th>runtime_minutes</th>\n",
       "    </tr>\n",
       "  </thead>\n",
       "  <tbody>\n",
       "    <tr>\n",
       "      <th>count</th>\n",
       "      <td>146144.000000</td>\n",
       "      <td>114405.000000</td>\n",
       "    </tr>\n",
       "    <tr>\n",
       "      <th>mean</th>\n",
       "      <td>2014.621798</td>\n",
       "      <td>86.187247</td>\n",
       "    </tr>\n",
       "    <tr>\n",
       "      <th>std</th>\n",
       "      <td>2.733583</td>\n",
       "      <td>166.360590</td>\n",
       "    </tr>\n",
       "    <tr>\n",
       "      <th>min</th>\n",
       "      <td>2010.000000</td>\n",
       "      <td>1.000000</td>\n",
       "    </tr>\n",
       "    <tr>\n",
       "      <th>25%</th>\n",
       "      <td>2012.000000</td>\n",
       "      <td>70.000000</td>\n",
       "    </tr>\n",
       "    <tr>\n",
       "      <th>50%</th>\n",
       "      <td>2015.000000</td>\n",
       "      <td>87.000000</td>\n",
       "    </tr>\n",
       "    <tr>\n",
       "      <th>75%</th>\n",
       "      <td>2017.000000</td>\n",
       "      <td>99.000000</td>\n",
       "    </tr>\n",
       "    <tr>\n",
       "      <th>max</th>\n",
       "      <td>2115.000000</td>\n",
       "      <td>51420.000000</td>\n",
       "    </tr>\n",
       "  </tbody>\n",
       "</table>\n",
       "</div>"
      ],
      "text/plain": [
       "          start_year  runtime_minutes\n",
       "count  146144.000000    114405.000000\n",
       "mean     2014.621798        86.187247\n",
       "std         2.733583       166.360590\n",
       "min      2010.000000         1.000000\n",
       "25%      2012.000000        70.000000\n",
       "50%      2015.000000        87.000000\n",
       "75%      2017.000000        99.000000\n",
       "max      2115.000000     51420.000000"
      ]
     },
     "execution_count": 10,
     "metadata": {},
     "output_type": "execute_result"
    }
   ],
   "source": [
    "# Checking for statistical summary\n",
    "movie_basics_copy.describe()"
   ]
  },
  {
   "cell_type": "code",
   "execution_count": 11,
   "metadata": {},
   "outputs": [
    {
     "data": {
      "text/plain": [
       "Index(['movie_id', 'primary_title', 'original_title', 'start_year',\n",
       "       'runtime_minutes', 'genres'],\n",
       "      dtype='object')"
      ]
     },
     "execution_count": 11,
     "metadata": {},
     "output_type": "execute_result"
    }
   ],
   "source": [
    "# Checking for column names\n",
    "movie_basics_copy.columns"
   ]
  },
  {
   "cell_type": "code",
   "execution_count": 12,
   "metadata": {},
   "outputs": [
    {
     "data": {
      "application/vnd.microsoft.datawrangler.viewer.v0+json": {
       "columns": [
        {
         "name": "index",
         "rawType": "object",
         "type": "string"
        },
        {
         "name": "0",
         "rawType": "int64",
         "type": "integer"
        }
       ],
       "ref": "c7d4d8aa-3819-4332-be63-b6d4558b45a6",
       "rows": [
        [
         "movie_id",
         "0"
        ],
        [
         "primary_title",
         "0"
        ],
        [
         "original_title",
         "21"
        ],
        [
         "start_year",
         "0"
        ],
        [
         "runtime_minutes",
         "31739"
        ],
        [
         "genres",
         "5408"
        ]
       ],
       "shape": {
        "columns": 1,
        "rows": 6
       }
      },
      "text/plain": [
       "movie_id               0\n",
       "primary_title          0\n",
       "original_title        21\n",
       "start_year             0\n",
       "runtime_minutes    31739\n",
       "genres              5408\n",
       "dtype: int64"
      ]
     },
     "execution_count": 12,
     "metadata": {},
     "output_type": "execute_result"
    }
   ],
   "source": [
    "# Checking for null values\n",
    "movie_basics_copy.isnull().sum()"
   ]
  },
  {
   "cell_type": "code",
   "execution_count": 13,
   "metadata": {},
   "outputs": [
    {
     "data": {
      "application/vnd.microsoft.datawrangler.viewer.v0+json": {
       "columns": [
        {
         "name": "index",
         "rawType": "object",
         "type": "string"
        },
        {
         "name": "0",
         "rawType": "int64",
         "type": "integer"
        }
       ],
       "ref": "1ea780d8-2a4f-4068-9188-7c7b926b417e",
       "rows": [
        [
         "movie_id",
         "0"
        ],
        [
         "primary_title",
         "0"
        ],
        [
         "original_title",
         "0"
        ],
        [
         "start_year",
         "0"
        ],
        [
         "runtime_minutes",
         "31739"
        ],
        [
         "genres",
         "5408"
        ]
       ],
       "shape": {
        "columns": 1,
        "rows": 6
       }
      },
      "text/plain": [
       "movie_id               0\n",
       "primary_title          0\n",
       "original_title         0\n",
       "start_year             0\n",
       "runtime_minutes    31739\n",
       "genres              5408\n",
       "dtype: int64"
      ]
     },
     "execution_count": 13,
     "metadata": {},
     "output_type": "execute_result"
    }
   ],
   "source": [
    "# Dealing with null values fillna 'unknown' for original_title- truthful\n",
    "movie_basics_copy['original_title'].fillna('unknown',inplace = True)\n",
    "movie_basics_copy.isnull().sum()"
   ]
  },
  {
   "cell_type": "code",
   "execution_count": 14,
   "metadata": {},
   "outputs": [
    {
     "data": {
      "application/vnd.microsoft.datawrangler.viewer.v0+json": {
       "columns": [
        {
         "name": "index",
         "rawType": "object",
         "type": "string"
        },
        {
         "name": "0",
         "rawType": "int64",
         "type": "integer"
        }
       ],
       "ref": "dfb7a52a-a2c4-47be-a2b2-5b7862a38199",
       "rows": [
        [
         "movie_id",
         "0"
        ],
        [
         "primary_title",
         "0"
        ],
        [
         "original_title",
         "0"
        ],
        [
         "start_year",
         "0"
        ],
        [
         "runtime_minutes",
         "0"
        ],
        [
         "genres",
         "5408"
        ]
       ],
       "shape": {
        "columns": 1,
        "rows": 6
       }
      },
      "text/plain": [
       "movie_id              0\n",
       "primary_title         0\n",
       "original_title        0\n",
       "start_year            0\n",
       "runtime_minutes       0\n",
       "genres             5408\n",
       "dtype: int64"
      ]
     },
     "execution_count": 14,
     "metadata": {},
     "output_type": "execute_result"
    }
   ],
   "source": [
    "# Fillna with median for runtime, since the data vary widely and is a safe option\n",
    "median_runtime_minutes = movie_basics_copy['runtime_minutes'].median()\n",
    "movie_basics_copy['runtime_minutes'].fillna(median_runtime_minutes, inplace=True)\n",
    "movie_basics_copy.isnull().sum()\n"
   ]
  },
  {
   "cell_type": "code",
   "execution_count": 15,
   "metadata": {},
   "outputs": [
    {
     "data": {
      "application/vnd.microsoft.datawrangler.viewer.v0+json": {
       "columns": [
        {
         "name": "index",
         "rawType": "int64",
         "type": "integer"
        },
        {
         "name": "genres",
         "rawType": "object",
         "type": "unknown"
        }
       ],
       "ref": "9696fee2-dc5d-4fc1-a775-5cbf6af3c646",
       "rows": [
        [
         "0",
         "Action,Crime,Drama"
        ],
        [
         "1",
         "Biography,Drama"
        ],
        [
         "2",
         "Drama"
        ],
        [
         "3",
         "Comedy,Drama"
        ],
        [
         "4",
         "Comedy,Drama,Fantasy"
        ],
        [
         "5",
         "Comedy"
        ],
        [
         "6",
         "Horror,Thriller"
        ],
        [
         "7",
         "Adventure,Animation,Comedy"
        ],
        [
         "8",
         "Documentary,History"
        ],
        [
         "9",
         "Biography"
        ],
        [
         "10",
         "Drama"
        ],
        [
         "11",
         "History"
        ],
        [
         "12",
         "Documentary"
        ],
        [
         "13",
         "Drama"
        ],
        [
         "14",
         "Documentary"
        ],
        [
         "15",
         "Animation,Drama,History"
        ],
        [
         "16",
         null
        ],
        [
         "17",
         "Drama"
        ],
        [
         "18",
         "Drama"
        ],
        [
         "19",
         "Drama,Mystery"
        ],
        [
         "20",
         "Action,Animation,Comedy"
        ],
        [
         "21",
         "Crime,Drama"
        ],
        [
         "22",
         null
        ],
        [
         "23",
         "Biography,Comedy,Drama"
        ],
        [
         "24",
         "Documentary"
        ],
        [
         "25",
         "Documentary"
        ],
        [
         "26",
         "Drama"
        ],
        [
         "27",
         "Action,Drama"
        ],
        [
         "28",
         "Documentary,History"
        ],
        [
         "29",
         "Sci-Fi"
        ],
        [
         "30",
         "Comedy"
        ],
        [
         "31",
         "Documentary"
        ],
        [
         "32",
         "Thriller"
        ],
        [
         "33",
         "Action,Adventure,Fantasy"
        ],
        [
         "34",
         "Crime,Drama"
        ],
        [
         "35",
         null
        ],
        [
         "36",
         "Drama,Romance"
        ],
        [
         "37",
         "Adventure,Animation,Sci-Fi"
        ],
        [
         "38",
         "Action,Crime,Drama"
        ],
        [
         "39",
         "Drama,Horror"
        ],
        [
         "40",
         null
        ],
        [
         "41",
         "Drama,Mystery,Thriller"
        ],
        [
         "42",
         "Drama,Family"
        ],
        [
         "43",
         "Adventure,Comedy,Romance"
        ],
        [
         "44",
         null
        ],
        [
         "45",
         null
        ],
        [
         "46",
         "Comedy,Drama"
        ],
        [
         "47",
         "Adventure,Animation,Comedy"
        ],
        [
         "48",
         "Adventure,Drama,Romance"
        ],
        [
         "49",
         "Comedy,Crime,Drama"
        ]
       ],
       "shape": {
        "columns": 1,
        "rows": 146144
       }
      },
      "text/plain": [
       "0           Action,Crime,Drama\n",
       "1              Biography,Drama\n",
       "2                        Drama\n",
       "3                 Comedy,Drama\n",
       "4         Comedy,Drama,Fantasy\n",
       "                  ...         \n",
       "146139                   Drama\n",
       "146140             Documentary\n",
       "146141                  Comedy\n",
       "146142                    None\n",
       "146143             Documentary\n",
       "Name: genres, Length: 146144, dtype: object"
      ]
     },
     "execution_count": 15,
     "metadata": {},
     "output_type": "execute_result"
    }
   ],
   "source": [
    "movie_basics_copy['genres']"
   ]
  },
  {
   "cell_type": "code",
   "execution_count": 16,
   "metadata": {},
   "outputs": [
    {
     "data": {
      "application/vnd.microsoft.datawrangler.viewer.v0+json": {
       "columns": [
        {
         "name": "index",
         "rawType": "object",
         "type": "string"
        },
        {
         "name": "0",
         "rawType": "int64",
         "type": "integer"
        }
       ],
       "ref": "389e959d-b174-46cb-a768-e3827cf81179",
       "rows": [
        [
         "movie_id",
         "0"
        ],
        [
         "primary_title",
         "0"
        ],
        [
         "original_title",
         "0"
        ],
        [
         "start_year",
         "0"
        ],
        [
         "runtime_minutes",
         "0"
        ],
        [
         "genres",
         "0"
        ]
       ],
       "shape": {
        "columns": 1,
        "rows": 6
       }
      },
      "text/plain": [
       "movie_id           0\n",
       "primary_title      0\n",
       "original_title     0\n",
       "start_year         0\n",
       "runtime_minutes    0\n",
       "genres             0\n",
       "dtype: int64"
      ]
     },
     "execution_count": 16,
     "metadata": {},
     "output_type": "execute_result"
    }
   ],
   "source": [
    "# Fillna genre missing values with unknown-maintains intergrity\n",
    "movie_basics_copy['genres'].fillna('unknown',inplace = True)\n",
    "movie_basics_copy.isnull().sum()"
   ]
  },
  {
   "cell_type": "code",
   "execution_count": 17,
   "metadata": {},
   "outputs": [
    {
     "data": {
      "text/plain": [
       "0"
      ]
     },
     "execution_count": 17,
     "metadata": {},
     "output_type": "execute_result"
    }
   ],
   "source": [
    "# Checking for duplicates\n",
    "movie_basics_copy.duplicated().sum()"
   ]
  },
  {
   "cell_type": "markdown",
   "metadata": {},
   "source": [
    "- The dataset has no duplicates."
   ]
  },
  {
   "cell_type": "code",
   "execution_count": 18,
   "metadata": {},
   "outputs": [
    {
     "data": {
      "application/vnd.microsoft.datawrangler.viewer.v0+json": {
       "columns": [
        {
         "name": "index",
         "rawType": "int64",
         "type": "integer"
        },
        {
         "name": "movie_id",
         "rawType": "object",
         "type": "string"
        },
        {
         "name": "averagerating",
         "rawType": "float64",
         "type": "float"
        },
        {
         "name": "numvotes",
         "rawType": "int64",
         "type": "integer"
        }
       ],
       "ref": "8c545a55-1dfb-49b8-89db-f8d71ae3cd9d",
       "rows": [
        [
         "0",
         "tt10356526",
         "8.3",
         "31"
        ],
        [
         "1",
         "tt10384606",
         "8.9",
         "559"
        ],
        [
         "2",
         "tt1042974",
         "6.4",
         "20"
        ],
        [
         "3",
         "tt1043726",
         "4.2",
         "50352"
        ],
        [
         "4",
         "tt1060240",
         "6.5",
         "21"
        ],
        [
         "5",
         "tt1069246",
         "6.2",
         "326"
        ],
        [
         "6",
         "tt1094666",
         "7.0",
         "1613"
        ],
        [
         "7",
         "tt1130982",
         "6.4",
         "571"
        ],
        [
         "8",
         "tt1156528",
         "7.2",
         "265"
        ],
        [
         "9",
         "tt1161457",
         "4.2",
         "148"
        ],
        [
         "10",
         "tt1171222",
         "5.1",
         "8296"
        ],
        [
         "11",
         "tt1174693",
         "5.8",
         "2381"
        ],
        [
         "12",
         "tt1181840",
         "7.0",
         "5494"
        ],
        [
         "13",
         "tt1193623",
         "8.0",
         "5"
        ],
        [
         "14",
         "tt1199588",
         "5.5",
         "74"
        ],
        [
         "15",
         "tt1204784",
         "5.8",
         "6"
        ],
        [
         "16",
         "tt1210166",
         "7.6",
         "326657"
        ],
        [
         "17",
         "tt1212419",
         "6.5",
         "87288"
        ],
        [
         "18",
         "tt1220911",
         "5.0",
         "941"
        ],
        [
         "19",
         "tt1229238",
         "7.4",
         "428142"
        ],
        [
         "20",
         "tt1232829",
         "7.2",
         "477771"
        ],
        [
         "21",
         "tt1235548",
         "6.6",
         "2725"
        ],
        [
         "22",
         "tt1243974",
         "5.4",
         "54646"
        ],
        [
         "23",
         "tt1250861",
         "6.2",
         "416"
        ],
        [
         "24",
         "tt1258812",
         "4.0",
         "21"
        ],
        [
         "25",
         "tt1261945",
         "4.4",
         "69199"
        ],
        [
         "26",
         "tt1266037",
         "7.0",
         "1413"
        ],
        [
         "27",
         "tt1270291",
         "5.8",
         "5728"
        ],
        [
         "28",
         "tt1270761",
         "5.6",
         "44490"
        ],
        [
         "29",
         "tt1272886",
         "6.1",
         "6688"
        ],
        [
         "30",
         "tt1274297",
         "5.4",
         "381"
        ],
        [
         "31",
         "tt1283887",
         "5.4",
         "2527"
        ],
        [
         "32",
         "tt1285219",
         "3.4",
         "387"
        ],
        [
         "33",
         "tt1287879",
         "7.7",
         "76"
        ],
        [
         "34",
         "tt1290476",
         "7.2",
         "6"
        ],
        [
         "35",
         "tt1294141",
         "4.5",
         "113"
        ],
        [
         "36",
         "tt1320239",
         "6.2",
         "18431"
        ],
        [
         "37",
         "tt1322312",
         "6.3",
         "54421"
        ],
        [
         "38",
         "tt1323962",
         "5.1",
         "101"
        ],
        [
         "39",
         "tt1325014",
         "6.7",
         "4240"
        ],
        [
         "40",
         "tt1325019",
         "7.2",
         "29"
        ],
        [
         "41",
         "tt1326743",
         "8.4",
         "21"
        ],
        [
         "42",
         "tt1327602",
         "7.8",
         "8"
        ],
        [
         "43",
         "tt1328913",
         "5.2",
         "738"
        ],
        [
         "44",
         "tt1331329",
         "3.6",
         "1621"
        ],
        [
         "45",
         "tt1332570",
         "2.1",
         "17"
        ],
        [
         "46",
         "tt1343110",
         "2.5",
         "345"
        ],
        [
         "47",
         "tt1343740",
         "4.6",
         "495"
        ],
        [
         "48",
         "tt1346690",
         "7.7",
         "7"
        ],
        [
         "49",
         "tt1352393",
         "7.7",
         "1293"
        ]
       ],
       "shape": {
        "columns": 3,
        "rows": 73856
       }
      },
      "text/html": [
       "<div>\n",
       "<style scoped>\n",
       "    .dataframe tbody tr th:only-of-type {\n",
       "        vertical-align: middle;\n",
       "    }\n",
       "\n",
       "    .dataframe tbody tr th {\n",
       "        vertical-align: top;\n",
       "    }\n",
       "\n",
       "    .dataframe thead th {\n",
       "        text-align: right;\n",
       "    }\n",
       "</style>\n",
       "<table border=\"1\" class=\"dataframe\">\n",
       "  <thead>\n",
       "    <tr style=\"text-align: right;\">\n",
       "      <th></th>\n",
       "      <th>movie_id</th>\n",
       "      <th>averagerating</th>\n",
       "      <th>numvotes</th>\n",
       "    </tr>\n",
       "  </thead>\n",
       "  <tbody>\n",
       "    <tr>\n",
       "      <th>0</th>\n",
       "      <td>tt10356526</td>\n",
       "      <td>8.3</td>\n",
       "      <td>31</td>\n",
       "    </tr>\n",
       "    <tr>\n",
       "      <th>1</th>\n",
       "      <td>tt10384606</td>\n",
       "      <td>8.9</td>\n",
       "      <td>559</td>\n",
       "    </tr>\n",
       "    <tr>\n",
       "      <th>2</th>\n",
       "      <td>tt1042974</td>\n",
       "      <td>6.4</td>\n",
       "      <td>20</td>\n",
       "    </tr>\n",
       "    <tr>\n",
       "      <th>3</th>\n",
       "      <td>tt1043726</td>\n",
       "      <td>4.2</td>\n",
       "      <td>50352</td>\n",
       "    </tr>\n",
       "    <tr>\n",
       "      <th>4</th>\n",
       "      <td>tt1060240</td>\n",
       "      <td>6.5</td>\n",
       "      <td>21</td>\n",
       "    </tr>\n",
       "    <tr>\n",
       "      <th>...</th>\n",
       "      <td>...</td>\n",
       "      <td>...</td>\n",
       "      <td>...</td>\n",
       "    </tr>\n",
       "    <tr>\n",
       "      <th>73851</th>\n",
       "      <td>tt9805820</td>\n",
       "      <td>8.1</td>\n",
       "      <td>25</td>\n",
       "    </tr>\n",
       "    <tr>\n",
       "      <th>73852</th>\n",
       "      <td>tt9844256</td>\n",
       "      <td>7.5</td>\n",
       "      <td>24</td>\n",
       "    </tr>\n",
       "    <tr>\n",
       "      <th>73853</th>\n",
       "      <td>tt9851050</td>\n",
       "      <td>4.7</td>\n",
       "      <td>14</td>\n",
       "    </tr>\n",
       "    <tr>\n",
       "      <th>73854</th>\n",
       "      <td>tt9886934</td>\n",
       "      <td>7.0</td>\n",
       "      <td>5</td>\n",
       "    </tr>\n",
       "    <tr>\n",
       "      <th>73855</th>\n",
       "      <td>tt9894098</td>\n",
       "      <td>6.3</td>\n",
       "      <td>128</td>\n",
       "    </tr>\n",
       "  </tbody>\n",
       "</table>\n",
       "<p>73856 rows × 3 columns</p>\n",
       "</div>"
      ],
      "text/plain": [
       "         movie_id  averagerating  numvotes\n",
       "0      tt10356526            8.3        31\n",
       "1      tt10384606            8.9       559\n",
       "2       tt1042974            6.4        20\n",
       "3       tt1043726            4.2     50352\n",
       "4       tt1060240            6.5        21\n",
       "...           ...            ...       ...\n",
       "73851   tt9805820            8.1        25\n",
       "73852   tt9844256            7.5        24\n",
       "73853   tt9851050            4.7        14\n",
       "73854   tt9886934            7.0         5\n",
       "73855   tt9894098            6.3       128\n",
       "\n",
       "[73856 rows x 3 columns]"
      ]
     },
     "execution_count": 18,
     "metadata": {},
     "output_type": "execute_result"
    }
   ],
   "source": [
    "# Creating a copy of movie_ratings table and preview of the features it contains\n",
    "movie_ratings_copy = imdb_tables[\"movie_ratings\"]\n",
    "movie_ratings_copy\n"
   ]
  },
  {
   "cell_type": "code",
   "execution_count": 19,
   "metadata": {},
   "outputs": [
    {
     "data": {
      "application/vnd.microsoft.datawrangler.viewer.v0+json": {
       "columns": [
        {
         "name": "index",
         "rawType": "int64",
         "type": "integer"
        },
        {
         "name": "movie_id",
         "rawType": "object",
         "type": "string"
        },
        {
         "name": "averagerating",
         "rawType": "float64",
         "type": "float"
        },
        {
         "name": "numvotes",
         "rawType": "int64",
         "type": "integer"
        }
       ],
       "ref": "517789d7-908e-4018-9642-0867c87313e5",
       "rows": [
        [
         "0",
         "tt10356526",
         "8.3",
         "31"
        ],
        [
         "1",
         "tt10384606",
         "8.9",
         "559"
        ],
        [
         "2",
         "tt1042974",
         "6.4",
         "20"
        ],
        [
         "3",
         "tt1043726",
         "4.2",
         "50352"
        ],
        [
         "4",
         "tt1060240",
         "6.5",
         "21"
        ]
       ],
       "shape": {
        "columns": 3,
        "rows": 5
       }
      },
      "text/html": [
       "<div>\n",
       "<style scoped>\n",
       "    .dataframe tbody tr th:only-of-type {\n",
       "        vertical-align: middle;\n",
       "    }\n",
       "\n",
       "    .dataframe tbody tr th {\n",
       "        vertical-align: top;\n",
       "    }\n",
       "\n",
       "    .dataframe thead th {\n",
       "        text-align: right;\n",
       "    }\n",
       "</style>\n",
       "<table border=\"1\" class=\"dataframe\">\n",
       "  <thead>\n",
       "    <tr style=\"text-align: right;\">\n",
       "      <th></th>\n",
       "      <th>movie_id</th>\n",
       "      <th>averagerating</th>\n",
       "      <th>numvotes</th>\n",
       "    </tr>\n",
       "  </thead>\n",
       "  <tbody>\n",
       "    <tr>\n",
       "      <th>0</th>\n",
       "      <td>tt10356526</td>\n",
       "      <td>8.3</td>\n",
       "      <td>31</td>\n",
       "    </tr>\n",
       "    <tr>\n",
       "      <th>1</th>\n",
       "      <td>tt10384606</td>\n",
       "      <td>8.9</td>\n",
       "      <td>559</td>\n",
       "    </tr>\n",
       "    <tr>\n",
       "      <th>2</th>\n",
       "      <td>tt1042974</td>\n",
       "      <td>6.4</td>\n",
       "      <td>20</td>\n",
       "    </tr>\n",
       "    <tr>\n",
       "      <th>3</th>\n",
       "      <td>tt1043726</td>\n",
       "      <td>4.2</td>\n",
       "      <td>50352</td>\n",
       "    </tr>\n",
       "    <tr>\n",
       "      <th>4</th>\n",
       "      <td>tt1060240</td>\n",
       "      <td>6.5</td>\n",
       "      <td>21</td>\n",
       "    </tr>\n",
       "  </tbody>\n",
       "</table>\n",
       "</div>"
      ],
      "text/plain": [
       "     movie_id  averagerating  numvotes\n",
       "0  tt10356526            8.3        31\n",
       "1  tt10384606            8.9       559\n",
       "2   tt1042974            6.4        20\n",
       "3   tt1043726            4.2     50352\n",
       "4   tt1060240            6.5        21"
      ]
     },
     "execution_count": 19,
     "metadata": {},
     "output_type": "execute_result"
    }
   ],
   "source": [
    "# Checking first 5 records\n",
    "movie_ratings_copy.head()"
   ]
  },
  {
   "cell_type": "code",
   "execution_count": 20,
   "metadata": {},
   "outputs": [
    {
     "name": "stdout",
     "output_type": "stream",
     "text": [
      "<class 'pandas.core.frame.DataFrame'>\n",
      "RangeIndex: 73856 entries, 0 to 73855\n",
      "Data columns (total 3 columns):\n",
      " #   Column         Non-Null Count  Dtype  \n",
      "---  ------         --------------  -----  \n",
      " 0   movie_id       73856 non-null  object \n",
      " 1   averagerating  73856 non-null  float64\n",
      " 2   numvotes       73856 non-null  int64  \n",
      "dtypes: float64(1), int64(1), object(1)\n",
      "memory usage: 1.7+ MB\n"
     ]
    }
   ],
   "source": [
    "# Checking info\n",
    "movie_ratings_copy.info()"
   ]
  },
  {
   "cell_type": "markdown",
   "metadata": {},
   "source": [
    "* The columns in the dataset contain 2 numerical data and 1 categorical data. There are no null values.\n"
   ]
  },
  {
   "cell_type": "code",
   "execution_count": 21,
   "metadata": {},
   "outputs": [
    {
     "data": {
      "application/vnd.microsoft.datawrangler.viewer.v0+json": {
       "columns": [
        {
         "name": "index",
         "rawType": "object",
         "type": "string"
        },
        {
         "name": "averagerating",
         "rawType": "float64",
         "type": "float"
        },
        {
         "name": "numvotes",
         "rawType": "float64",
         "type": "float"
        }
       ],
       "ref": "4ea52d67-150d-494f-97f3-82d845902d0e",
       "rows": [
        [
         "count",
         "73856.0",
         "73856.0"
        ],
        [
         "mean",
         "6.332728552859619",
         "3523.6621669194105"
        ],
        [
         "std",
         "1.4749783548957855",
         "30294.022971106744"
        ],
        [
         "min",
         "1.0",
         "5.0"
        ],
        [
         "25%",
         "5.5",
         "14.0"
        ],
        [
         "50%",
         "6.5",
         "49.0"
        ],
        [
         "75%",
         "7.4",
         "282.0"
        ],
        [
         "max",
         "10.0",
         "1841066.0"
        ]
       ],
       "shape": {
        "columns": 2,
        "rows": 8
       }
      },
      "text/html": [
       "<div>\n",
       "<style scoped>\n",
       "    .dataframe tbody tr th:only-of-type {\n",
       "        vertical-align: middle;\n",
       "    }\n",
       "\n",
       "    .dataframe tbody tr th {\n",
       "        vertical-align: top;\n",
       "    }\n",
       "\n",
       "    .dataframe thead th {\n",
       "        text-align: right;\n",
       "    }\n",
       "</style>\n",
       "<table border=\"1\" class=\"dataframe\">\n",
       "  <thead>\n",
       "    <tr style=\"text-align: right;\">\n",
       "      <th></th>\n",
       "      <th>averagerating</th>\n",
       "      <th>numvotes</th>\n",
       "    </tr>\n",
       "  </thead>\n",
       "  <tbody>\n",
       "    <tr>\n",
       "      <th>count</th>\n",
       "      <td>73856.000000</td>\n",
       "      <td>7.385600e+04</td>\n",
       "    </tr>\n",
       "    <tr>\n",
       "      <th>mean</th>\n",
       "      <td>6.332729</td>\n",
       "      <td>3.523662e+03</td>\n",
       "    </tr>\n",
       "    <tr>\n",
       "      <th>std</th>\n",
       "      <td>1.474978</td>\n",
       "      <td>3.029402e+04</td>\n",
       "    </tr>\n",
       "    <tr>\n",
       "      <th>min</th>\n",
       "      <td>1.000000</td>\n",
       "      <td>5.000000e+00</td>\n",
       "    </tr>\n",
       "    <tr>\n",
       "      <th>25%</th>\n",
       "      <td>5.500000</td>\n",
       "      <td>1.400000e+01</td>\n",
       "    </tr>\n",
       "    <tr>\n",
       "      <th>50%</th>\n",
       "      <td>6.500000</td>\n",
       "      <td>4.900000e+01</td>\n",
       "    </tr>\n",
       "    <tr>\n",
       "      <th>75%</th>\n",
       "      <td>7.400000</td>\n",
       "      <td>2.820000e+02</td>\n",
       "    </tr>\n",
       "    <tr>\n",
       "      <th>max</th>\n",
       "      <td>10.000000</td>\n",
       "      <td>1.841066e+06</td>\n",
       "    </tr>\n",
       "  </tbody>\n",
       "</table>\n",
       "</div>"
      ],
      "text/plain": [
       "       averagerating      numvotes\n",
       "count   73856.000000  7.385600e+04\n",
       "mean        6.332729  3.523662e+03\n",
       "std         1.474978  3.029402e+04\n",
       "min         1.000000  5.000000e+00\n",
       "25%         5.500000  1.400000e+01\n",
       "50%         6.500000  4.900000e+01\n",
       "75%         7.400000  2.820000e+02\n",
       "max        10.000000  1.841066e+06"
      ]
     },
     "execution_count": 21,
     "metadata": {},
     "output_type": "execute_result"
    }
   ],
   "source": [
    "# Checking for statistical summary\n",
    "movie_ratings_copy.describe()\n"
   ]
  },
  {
   "cell_type": "code",
   "execution_count": 22,
   "metadata": {},
   "outputs": [
    {
     "data": {
      "text/plain": [
       "Index(['movie_id', 'averagerating', 'numvotes'], dtype='object')"
      ]
     },
     "execution_count": 22,
     "metadata": {},
     "output_type": "execute_result"
    }
   ],
   "source": [
    "# Checking the columns in movie_rating\n",
    "movie_ratings_copy.columns"
   ]
  },
  {
   "cell_type": "code",
   "execution_count": 23,
   "metadata": {},
   "outputs": [
    {
     "data": {
      "application/vnd.microsoft.datawrangler.viewer.v0+json": {
       "columns": [
        {
         "name": "index",
         "rawType": "object",
         "type": "string"
        },
        {
         "name": "0",
         "rawType": "int64",
         "type": "integer"
        }
       ],
       "ref": "7ec7c269-4027-4797-80ef-c9beb4ef9863",
       "rows": [
        [
         "movie_id",
         "0"
        ],
        [
         "averagerating",
         "0"
        ],
        [
         "numvotes",
         "0"
        ]
       ],
       "shape": {
        "columns": 1,
        "rows": 3
       }
      },
      "text/plain": [
       "movie_id         0\n",
       "averagerating    0\n",
       "numvotes         0\n",
       "dtype: int64"
      ]
     },
     "execution_count": 23,
     "metadata": {},
     "output_type": "execute_result"
    }
   ],
   "source": [
    "movie_ratings_copy.isnull().sum()"
   ]
  },
  {
   "cell_type": "code",
   "execution_count": 24,
   "metadata": {},
   "outputs": [
    {
     "data": {
      "text/plain": [
       "0"
      ]
     },
     "execution_count": 24,
     "metadata": {},
     "output_type": "execute_result"
    }
   ],
   "source": [
    "movie_ratings_copy.duplicated().sum()"
   ]
  },
  {
   "cell_type": "markdown",
   "metadata": {},
   "source": [
    "- Movie_ratings has no duplicated values."
   ]
  },
  {
   "cell_type": "code",
   "execution_count": 25,
   "metadata": {},
   "outputs": [
    {
     "data": {
      "application/vnd.microsoft.datawrangler.viewer.v0+json": {
       "columns": [
        {
         "name": "index",
         "rawType": "int64",
         "type": "integer"
        },
        {
         "name": "person_id",
         "rawType": "object",
         "type": "string"
        },
        {
         "name": "primary_name",
         "rawType": "object",
         "type": "string"
        },
        {
         "name": "birth_year",
         "rawType": "float64",
         "type": "float"
        },
        {
         "name": "death_year",
         "rawType": "float64",
         "type": "float"
        },
        {
         "name": "primary_profession",
         "rawType": "object",
         "type": "unknown"
        }
       ],
       "ref": "efb7caa9-957a-401d-bc32-ddc18370c573",
       "rows": [
        [
         "0",
         "nm0061671",
         "Mary Ellen Bauder",
         null,
         null,
         "miscellaneous,production_manager,producer"
        ],
        [
         "1",
         "nm0061865",
         "Joseph Bauer",
         null,
         null,
         "composer,music_department,sound_department"
        ],
        [
         "2",
         "nm0062070",
         "Bruce Baum",
         null,
         null,
         "miscellaneous,actor,writer"
        ],
        [
         "3",
         "nm0062195",
         "Axel Baumann",
         null,
         null,
         "camera_department,cinematographer,art_department"
        ],
        [
         "4",
         "nm0062798",
         "Pete Baxter",
         null,
         null,
         "production_designer,art_department,set_decorator"
        ],
        [
         "5",
         "nm0062879",
         "Ruel S. Bayani",
         null,
         null,
         "director,production_manager,miscellaneous"
        ],
        [
         "6",
         "nm0063198",
         "Bayou",
         null,
         null,
         "actor"
        ],
        [
         "7",
         "nm0063432",
         "Stevie Be-Zet",
         null,
         null,
         "composer,soundtrack"
        ],
        [
         "8",
         "nm0063618",
         "Jeff Beal",
         "1963.0",
         null,
         "composer,music_department,soundtrack"
        ],
        [
         "9",
         "nm0063750",
         "Lindsay Beamish",
         null,
         null,
         "actress,miscellaneous"
        ],
        [
         "10",
         "nm0064023",
         "Bryan Beasley",
         null,
         null,
         "director,producer,writer"
        ],
        [
         "11",
         "nm0064350",
         "Martine Beauchemin",
         null,
         null,
         "producer,production_manager"
        ],
        [
         "12",
         "nm0065847",
         "Michael Frost Beckner",
         "1963.0",
         null,
         "writer,producer,miscellaneous"
        ],
        [
         "13",
         "nm0065919",
         "Will Becton",
         null,
         null,
         "miscellaneous,editor,editorial_department"
        ],
        [
         "14",
         "nm0066093",
         "Ahmad Bedair",
         "1945.0",
         null,
         "actor,miscellaneous"
        ],
        [
         "15",
         "nm0066163",
         "Arnaud Bedouët",
         null,
         null,
         "actor,writer,director"
        ],
        [
         "16",
         "nm0066268",
         "Steve Mitchell Beebe",
         null,
         null,
         "editorial_department,director,editor"
        ],
        [
         "17",
         "nm0066897",
         "Mohammad-Ali Behboudi",
         "1956.0",
         null,
         "actor"
        ],
        [
         "18",
         "nm0067234",
         "Hans Beimler",
         null,
         null,
         "producer,writer,miscellaneous"
        ],
        [
         "19",
         "nm0067845",
         "Sondos Belhassen",
         null,
         null,
         "actress"
        ],
        [
         "20",
         "nm0067983",
         "Krunoslav Belko",
         "1971.0",
         null,
         "actor"
        ],
        [
         "21",
         "nm0068170",
         "Dylan Bell",
         null,
         null,
         "director,actor,producer"
        ],
        [
         "22",
         "nm0068657",
         "Philippe Bellaiche",
         null,
         null,
         "cinematographer,camera_department,producer"
        ],
        [
         "23",
         "nm0068874",
         "Hava Kohav Beller",
         null,
         null,
         "director,writer,producer"
        ],
        [
         "24",
         "nm0069131",
         "Gregg Bello",
         null,
         null,
         "actor,producer"
        ],
        [
         "25",
         "nm0069225",
         "Gavin Bellour",
         null,
         null,
         "actor,producer,composer"
        ],
        [
         "26",
         "nm0069605",
         "Bruno Beltramini",
         null,
         null,
         "cinematographer,visual_effects,camera_department"
        ],
        [
         "27",
         "nm0069757",
         "Olga Belyavskaya",
         null,
         null,
         "actress,miscellaneous"
        ],
        [
         "28",
         "nm0069990",
         "Jorge Ben Jor",
         "1942.0",
         null,
         "soundtrack,composer,actor"
        ],
        [
         "29",
         "nm0070216",
         "John Paul Fedele",
         null,
         null,
         "actor,cinematographer,special_effects"
        ],
        [
         "30",
         "nm0070482",
         "Joel Bender",
         "1948.0",
         null,
         "editor,director,writer"
        ],
        [
         "31",
         "nm0070822",
         "Terry Benedict",
         null,
         null,
         "producer,director,assistant_director"
        ],
        [
         "32",
         "nm0071116",
         "Valérie Benguigui",
         "1961.0",
         "2013.0",
         "actress,soundtrack"
        ],
        [
         "33",
         "nm0072456",
         "Chris Benson",
         "1974.0",
         null,
         "cinematographer,camera_department,producer"
        ],
        [
         "34",
         "nm0072476",
         "Doug Benson",
         "1962.0",
         null,
         "actor,producer,writer"
        ],
        [
         "35",
         "nm0073061",
         "Roberto Benvenuti",
         null,
         null,
         "cinematographer,camera_department,miscellaneous"
        ],
        [
         "36",
         "nm0073146",
         "Gina Lola Benzina",
         null,
         null,
         "actress,make_up_department"
        ],
        [
         "37",
         "nm0073381",
         "Roxana Berco",
         null,
         null,
         "actress"
        ],
        [
         "38",
         "nm0073426",
         "Laxmikant Berde",
         "1954.0",
         "2004.0",
         "actor"
        ],
        [
         "39",
         "nm0074009",
         "Richard Berge",
         null,
         null,
         "producer,miscellaneous,writer"
        ],
        [
         "40",
         "nm0074445",
         "Jean-François Bergeron",
         null,
         null,
         "editor,editorial_department,actor"
        ],
        [
         "41",
         "nm0075049",
         "Urban Bergsten",
         null,
         null,
         "actor,writer,director"
        ],
        [
         "42",
         "nm0075666",
         "Joe Berlinger",
         "1961.0",
         null,
         "producer,director,camera_department"
        ],
        [
         "43",
         "nm0076139",
         "Andrée Bernard",
         "1966.0",
         null,
         "actress"
        ],
        [
         "44",
         "nm0076559",
         "Carlos Bernases",
         null,
         null,
         "production_manager,producer,casting_department"
        ],
        [
         "45",
         "nm0077024",
         "Daniel Bernstein",
         null,
         null,
         "composer,sound_department"
        ],
        [
         "46",
         "nm0077067",
         "Jamie Bernstein",
         "1952.0",
         null,
         "director,actress,writer"
        ],
        [
         "47",
         "nm0080566",
         "Martín Bianchedi",
         "1955.0",
         null,
         "composer,music_department,sound_department"
        ],
        [
         "48",
         "nm0080787",
         "Dusty Bias",
         null,
         null,
         "writer,director,producer"
        ],
        [
         "49",
         "nm0081060",
         "Grace Cary Bickley",
         null,
         null,
         "writer,actress,producer"
        ]
       ],
       "shape": {
        "columns": 5,
        "rows": 606648
       }
      },
      "text/html": [
       "<div>\n",
       "<style scoped>\n",
       "    .dataframe tbody tr th:only-of-type {\n",
       "        vertical-align: middle;\n",
       "    }\n",
       "\n",
       "    .dataframe tbody tr th {\n",
       "        vertical-align: top;\n",
       "    }\n",
       "\n",
       "    .dataframe thead th {\n",
       "        text-align: right;\n",
       "    }\n",
       "</style>\n",
       "<table border=\"1\" class=\"dataframe\">\n",
       "  <thead>\n",
       "    <tr style=\"text-align: right;\">\n",
       "      <th></th>\n",
       "      <th>person_id</th>\n",
       "      <th>primary_name</th>\n",
       "      <th>birth_year</th>\n",
       "      <th>death_year</th>\n",
       "      <th>primary_profession</th>\n",
       "    </tr>\n",
       "  </thead>\n",
       "  <tbody>\n",
       "    <tr>\n",
       "      <th>0</th>\n",
       "      <td>nm0061671</td>\n",
       "      <td>Mary Ellen Bauder</td>\n",
       "      <td>NaN</td>\n",
       "      <td>NaN</td>\n",
       "      <td>miscellaneous,production_manager,producer</td>\n",
       "    </tr>\n",
       "    <tr>\n",
       "      <th>1</th>\n",
       "      <td>nm0061865</td>\n",
       "      <td>Joseph Bauer</td>\n",
       "      <td>NaN</td>\n",
       "      <td>NaN</td>\n",
       "      <td>composer,music_department,sound_department</td>\n",
       "    </tr>\n",
       "    <tr>\n",
       "      <th>2</th>\n",
       "      <td>nm0062070</td>\n",
       "      <td>Bruce Baum</td>\n",
       "      <td>NaN</td>\n",
       "      <td>NaN</td>\n",
       "      <td>miscellaneous,actor,writer</td>\n",
       "    </tr>\n",
       "    <tr>\n",
       "      <th>3</th>\n",
       "      <td>nm0062195</td>\n",
       "      <td>Axel Baumann</td>\n",
       "      <td>NaN</td>\n",
       "      <td>NaN</td>\n",
       "      <td>camera_department,cinematographer,art_department</td>\n",
       "    </tr>\n",
       "    <tr>\n",
       "      <th>4</th>\n",
       "      <td>nm0062798</td>\n",
       "      <td>Pete Baxter</td>\n",
       "      <td>NaN</td>\n",
       "      <td>NaN</td>\n",
       "      <td>production_designer,art_department,set_decorator</td>\n",
       "    </tr>\n",
       "    <tr>\n",
       "      <th>...</th>\n",
       "      <td>...</td>\n",
       "      <td>...</td>\n",
       "      <td>...</td>\n",
       "      <td>...</td>\n",
       "      <td>...</td>\n",
       "    </tr>\n",
       "    <tr>\n",
       "      <th>606643</th>\n",
       "      <td>nm9990381</td>\n",
       "      <td>Susan Grobes</td>\n",
       "      <td>NaN</td>\n",
       "      <td>NaN</td>\n",
       "      <td>actress</td>\n",
       "    </tr>\n",
       "    <tr>\n",
       "      <th>606644</th>\n",
       "      <td>nm9990690</td>\n",
       "      <td>Joo Yeon So</td>\n",
       "      <td>NaN</td>\n",
       "      <td>NaN</td>\n",
       "      <td>actress</td>\n",
       "    </tr>\n",
       "    <tr>\n",
       "      <th>606645</th>\n",
       "      <td>nm9991320</td>\n",
       "      <td>Madeline Smith</td>\n",
       "      <td>NaN</td>\n",
       "      <td>NaN</td>\n",
       "      <td>actress</td>\n",
       "    </tr>\n",
       "    <tr>\n",
       "      <th>606646</th>\n",
       "      <td>nm9991786</td>\n",
       "      <td>Michelle Modigliani</td>\n",
       "      <td>NaN</td>\n",
       "      <td>NaN</td>\n",
       "      <td>producer</td>\n",
       "    </tr>\n",
       "    <tr>\n",
       "      <th>606647</th>\n",
       "      <td>nm9993380</td>\n",
       "      <td>Pegasus Envoyé</td>\n",
       "      <td>NaN</td>\n",
       "      <td>NaN</td>\n",
       "      <td>director,actor,writer</td>\n",
       "    </tr>\n",
       "  </tbody>\n",
       "</table>\n",
       "<p>606648 rows × 5 columns</p>\n",
       "</div>"
      ],
      "text/plain": [
       "        person_id         primary_name  birth_year  death_year  \\\n",
       "0       nm0061671    Mary Ellen Bauder         NaN         NaN   \n",
       "1       nm0061865         Joseph Bauer         NaN         NaN   \n",
       "2       nm0062070           Bruce Baum         NaN         NaN   \n",
       "3       nm0062195         Axel Baumann         NaN         NaN   \n",
       "4       nm0062798          Pete Baxter         NaN         NaN   \n",
       "...           ...                  ...         ...         ...   \n",
       "606643  nm9990381         Susan Grobes         NaN         NaN   \n",
       "606644  nm9990690          Joo Yeon So         NaN         NaN   \n",
       "606645  nm9991320       Madeline Smith         NaN         NaN   \n",
       "606646  nm9991786  Michelle Modigliani         NaN         NaN   \n",
       "606647  nm9993380       Pegasus Envoyé         NaN         NaN   \n",
       "\n",
       "                                      primary_profession  \n",
       "0              miscellaneous,production_manager,producer  \n",
       "1             composer,music_department,sound_department  \n",
       "2                             miscellaneous,actor,writer  \n",
       "3       camera_department,cinematographer,art_department  \n",
       "4       production_designer,art_department,set_decorator  \n",
       "...                                                  ...  \n",
       "606643                                           actress  \n",
       "606644                                           actress  \n",
       "606645                                           actress  \n",
       "606646                                          producer  \n",
       "606647                             director,actor,writer  \n",
       "\n",
       "[606648 rows x 5 columns]"
      ]
     },
     "execution_count": 25,
     "metadata": {},
     "output_type": "execute_result"
    }
   ],
   "source": [
    "# Creating a copy and previewing data in the Persons table\n",
    "persons_copy = imdb_tables[\"persons\"]\n",
    "persons_copy"
   ]
  },
  {
   "cell_type": "code",
   "execution_count": 26,
   "metadata": {},
   "outputs": [
    {
     "data": {
      "application/vnd.microsoft.datawrangler.viewer.v0+json": {
       "columns": [
        {
         "name": "index",
         "rawType": "int64",
         "type": "integer"
        },
        {
         "name": "person_id",
         "rawType": "object",
         "type": "string"
        },
        {
         "name": "primary_name",
         "rawType": "object",
         "type": "string"
        },
        {
         "name": "birth_year",
         "rawType": "float64",
         "type": "float"
        },
        {
         "name": "death_year",
         "rawType": "float64",
         "type": "float"
        },
        {
         "name": "primary_profession",
         "rawType": "object",
         "type": "string"
        }
       ],
       "ref": "3d884cc5-f16b-4dc6-b350-2bf130c46b9f",
       "rows": [
        [
         "0",
         "nm0061671",
         "Mary Ellen Bauder",
         null,
         null,
         "miscellaneous,production_manager,producer"
        ],
        [
         "1",
         "nm0061865",
         "Joseph Bauer",
         null,
         null,
         "composer,music_department,sound_department"
        ],
        [
         "2",
         "nm0062070",
         "Bruce Baum",
         null,
         null,
         "miscellaneous,actor,writer"
        ],
        [
         "3",
         "nm0062195",
         "Axel Baumann",
         null,
         null,
         "camera_department,cinematographer,art_department"
        ],
        [
         "4",
         "nm0062798",
         "Pete Baxter",
         null,
         null,
         "production_designer,art_department,set_decorator"
        ]
       ],
       "shape": {
        "columns": 5,
        "rows": 5
       }
      },
      "text/html": [
       "<div>\n",
       "<style scoped>\n",
       "    .dataframe tbody tr th:only-of-type {\n",
       "        vertical-align: middle;\n",
       "    }\n",
       "\n",
       "    .dataframe tbody tr th {\n",
       "        vertical-align: top;\n",
       "    }\n",
       "\n",
       "    .dataframe thead th {\n",
       "        text-align: right;\n",
       "    }\n",
       "</style>\n",
       "<table border=\"1\" class=\"dataframe\">\n",
       "  <thead>\n",
       "    <tr style=\"text-align: right;\">\n",
       "      <th></th>\n",
       "      <th>person_id</th>\n",
       "      <th>primary_name</th>\n",
       "      <th>birth_year</th>\n",
       "      <th>death_year</th>\n",
       "      <th>primary_profession</th>\n",
       "    </tr>\n",
       "  </thead>\n",
       "  <tbody>\n",
       "    <tr>\n",
       "      <th>0</th>\n",
       "      <td>nm0061671</td>\n",
       "      <td>Mary Ellen Bauder</td>\n",
       "      <td>NaN</td>\n",
       "      <td>NaN</td>\n",
       "      <td>miscellaneous,production_manager,producer</td>\n",
       "    </tr>\n",
       "    <tr>\n",
       "      <th>1</th>\n",
       "      <td>nm0061865</td>\n",
       "      <td>Joseph Bauer</td>\n",
       "      <td>NaN</td>\n",
       "      <td>NaN</td>\n",
       "      <td>composer,music_department,sound_department</td>\n",
       "    </tr>\n",
       "    <tr>\n",
       "      <th>2</th>\n",
       "      <td>nm0062070</td>\n",
       "      <td>Bruce Baum</td>\n",
       "      <td>NaN</td>\n",
       "      <td>NaN</td>\n",
       "      <td>miscellaneous,actor,writer</td>\n",
       "    </tr>\n",
       "    <tr>\n",
       "      <th>3</th>\n",
       "      <td>nm0062195</td>\n",
       "      <td>Axel Baumann</td>\n",
       "      <td>NaN</td>\n",
       "      <td>NaN</td>\n",
       "      <td>camera_department,cinematographer,art_department</td>\n",
       "    </tr>\n",
       "    <tr>\n",
       "      <th>4</th>\n",
       "      <td>nm0062798</td>\n",
       "      <td>Pete Baxter</td>\n",
       "      <td>NaN</td>\n",
       "      <td>NaN</td>\n",
       "      <td>production_designer,art_department,set_decorator</td>\n",
       "    </tr>\n",
       "  </tbody>\n",
       "</table>\n",
       "</div>"
      ],
      "text/plain": [
       "   person_id       primary_name  birth_year  death_year  \\\n",
       "0  nm0061671  Mary Ellen Bauder         NaN         NaN   \n",
       "1  nm0061865       Joseph Bauer         NaN         NaN   \n",
       "2  nm0062070         Bruce Baum         NaN         NaN   \n",
       "3  nm0062195       Axel Baumann         NaN         NaN   \n",
       "4  nm0062798        Pete Baxter         NaN         NaN   \n",
       "\n",
       "                                 primary_profession  \n",
       "0         miscellaneous,production_manager,producer  \n",
       "1        composer,music_department,sound_department  \n",
       "2                        miscellaneous,actor,writer  \n",
       "3  camera_department,cinematographer,art_department  \n",
       "4  production_designer,art_department,set_decorator  "
      ]
     },
     "execution_count": 26,
     "metadata": {},
     "output_type": "execute_result"
    }
   ],
   "source": [
    "persons_copy.head()"
   ]
  },
  {
   "cell_type": "code",
   "execution_count": 27,
   "metadata": {},
   "outputs": [
    {
     "name": "stdout",
     "output_type": "stream",
     "text": [
      "<class 'pandas.core.frame.DataFrame'>\n",
      "RangeIndex: 606648 entries, 0 to 606647\n",
      "Data columns (total 5 columns):\n",
      " #   Column              Non-Null Count   Dtype  \n",
      "---  ------              --------------   -----  \n",
      " 0   person_id           606648 non-null  object \n",
      " 1   primary_name        606648 non-null  object \n",
      " 2   birth_year          82736 non-null   float64\n",
      " 3   death_year          6783 non-null    float64\n",
      " 4   primary_profession  555308 non-null  object \n",
      "dtypes: float64(2), object(3)\n",
      "memory usage: 23.1+ MB\n"
     ]
    },
    {
     "data": {
      "text/plain": [
       "(606648, 5)"
      ]
     },
     "execution_count": 27,
     "metadata": {},
     "output_type": "execute_result"
    }
   ],
   "source": [
    "persons_copy.info()\n",
    "persons_copy.shape"
   ]
  },
  {
   "cell_type": "markdown",
   "metadata": {},
   "source": [
    "- The dataframe, `persons` has 5 Columns with 606648 rows with several missing values in the birth, death year and primary profession.\n",
    "- There are 3 categorical data and 2 numerical data in the dataframe."
   ]
  },
  {
   "cell_type": "code",
   "execution_count": 28,
   "metadata": {},
   "outputs": [
    {
     "data": {
      "application/vnd.microsoft.datawrangler.viewer.v0+json": {
       "columns": [
        {
         "name": "index",
         "rawType": "object",
         "type": "string"
        },
        {
         "name": "birth_year",
         "rawType": "float64",
         "type": "float"
        },
        {
         "name": "death_year",
         "rawType": "float64",
         "type": "float"
        }
       ],
       "ref": "de6ba075-1628-4aa3-9c97-c26576fc782a",
       "rows": [
        [
         "count",
         "82736.0",
         "6783.0"
        ],
        [
         "mean",
         "1967.0438261458132",
         "2000.5233672416334"
        ],
        [
         "std",
         "22.122189638162347",
         "43.95152963865612"
        ],
        [
         "min",
         "1.0",
         "17.0"
        ],
        [
         "25%",
         "1957.0",
         "2001.0"
        ],
        [
         "50%",
         "1971.0",
         "2013.0"
        ],
        [
         "75%",
         "1981.0",
         "2016.0"
        ],
        [
         "max",
         "2014.0",
         "2019.0"
        ]
       ],
       "shape": {
        "columns": 2,
        "rows": 8
       }
      },
      "text/html": [
       "<div>\n",
       "<style scoped>\n",
       "    .dataframe tbody tr th:only-of-type {\n",
       "        vertical-align: middle;\n",
       "    }\n",
       "\n",
       "    .dataframe tbody tr th {\n",
       "        vertical-align: top;\n",
       "    }\n",
       "\n",
       "    .dataframe thead th {\n",
       "        text-align: right;\n",
       "    }\n",
       "</style>\n",
       "<table border=\"1\" class=\"dataframe\">\n",
       "  <thead>\n",
       "    <tr style=\"text-align: right;\">\n",
       "      <th></th>\n",
       "      <th>birth_year</th>\n",
       "      <th>death_year</th>\n",
       "    </tr>\n",
       "  </thead>\n",
       "  <tbody>\n",
       "    <tr>\n",
       "      <th>count</th>\n",
       "      <td>82736.000000</td>\n",
       "      <td>6783.000000</td>\n",
       "    </tr>\n",
       "    <tr>\n",
       "      <th>mean</th>\n",
       "      <td>1967.043826</td>\n",
       "      <td>2000.523367</td>\n",
       "    </tr>\n",
       "    <tr>\n",
       "      <th>std</th>\n",
       "      <td>22.122190</td>\n",
       "      <td>43.951530</td>\n",
       "    </tr>\n",
       "    <tr>\n",
       "      <th>min</th>\n",
       "      <td>1.000000</td>\n",
       "      <td>17.000000</td>\n",
       "    </tr>\n",
       "    <tr>\n",
       "      <th>25%</th>\n",
       "      <td>1957.000000</td>\n",
       "      <td>2001.000000</td>\n",
       "    </tr>\n",
       "    <tr>\n",
       "      <th>50%</th>\n",
       "      <td>1971.000000</td>\n",
       "      <td>2013.000000</td>\n",
       "    </tr>\n",
       "    <tr>\n",
       "      <th>75%</th>\n",
       "      <td>1981.000000</td>\n",
       "      <td>2016.000000</td>\n",
       "    </tr>\n",
       "    <tr>\n",
       "      <th>max</th>\n",
       "      <td>2014.000000</td>\n",
       "      <td>2019.000000</td>\n",
       "    </tr>\n",
       "  </tbody>\n",
       "</table>\n",
       "</div>"
      ],
      "text/plain": [
       "         birth_year   death_year\n",
       "count  82736.000000  6783.000000\n",
       "mean    1967.043826  2000.523367\n",
       "std       22.122190    43.951530\n",
       "min        1.000000    17.000000\n",
       "25%     1957.000000  2001.000000\n",
       "50%     1971.000000  2013.000000\n",
       "75%     1981.000000  2016.000000\n",
       "max     2014.000000  2019.000000"
      ]
     },
     "execution_count": 28,
     "metadata": {},
     "output_type": "execute_result"
    }
   ],
   "source": [
    "# Checking for statistical summary\n",
    "persons_copy.describe()"
   ]
  },
  {
   "cell_type": "code",
   "execution_count": 29,
   "metadata": {},
   "outputs": [
    {
     "data": {
      "text/plain": [
       "Index(['person_id', 'primary_name', 'birth_year', 'death_year',\n",
       "       'primary_profession'],\n",
       "      dtype='object')"
      ]
     },
     "execution_count": 29,
     "metadata": {},
     "output_type": "execute_result"
    }
   ],
   "source": [
    "persons_copy.columns"
   ]
  },
  {
   "cell_type": "code",
   "execution_count": 30,
   "metadata": {},
   "outputs": [
    {
     "data": {
      "application/vnd.microsoft.datawrangler.viewer.v0+json": {
       "columns": [
        {
         "name": "index",
         "rawType": "object",
         "type": "string"
        },
        {
         "name": "0",
         "rawType": "int64",
         "type": "integer"
        }
       ],
       "ref": "aa6638bd-a7e9-4d2a-a502-9daccb6fdb60",
       "rows": [
        [
         "person_id",
         "0"
        ],
        [
         "primary_name",
         "0"
        ],
        [
         "birth_year",
         "523912"
        ],
        [
         "death_year",
         "599865"
        ],
        [
         "primary_profession",
         "51340"
        ]
       ],
       "shape": {
        "columns": 1,
        "rows": 5
       }
      },
      "text/plain": [
       "person_id                  0\n",
       "primary_name               0\n",
       "birth_year            523912\n",
       "death_year            599865\n",
       "primary_profession     51340\n",
       "dtype: int64"
      ]
     },
     "execution_count": 30,
     "metadata": {},
     "output_type": "execute_result"
    }
   ],
   "source": [
    "persons_copy.isnull().sum()"
   ]
  },
  {
   "cell_type": "code",
   "execution_count": 31,
   "metadata": {},
   "outputs": [
    {
     "data": {
      "application/vnd.microsoft.datawrangler.viewer.v0+json": {
       "columns": [
        {
         "name": "index",
         "rawType": "object",
         "type": "string"
        },
        {
         "name": "0",
         "rawType": "int64",
         "type": "integer"
        }
       ],
       "ref": "2bd8912d-5b9f-4141-88d8-eeae46c99a0d",
       "rows": [
        [
         "person_id",
         "0"
        ],
        [
         "primary_name",
         "0"
        ],
        [
         "primary_profession",
         "51340"
        ]
       ],
       "shape": {
        "columns": 1,
        "rows": 3
       }
      },
      "text/plain": [
       "person_id                 0\n",
       "primary_name              0\n",
       "primary_profession    51340\n",
       "dtype: int64"
      ]
     },
     "execution_count": 31,
     "metadata": {},
     "output_type": "execute_result"
    }
   ],
   "source": [
    "# dropping the birth and death year columns since they have large percentages of missing values, thus may not be relevant.\n",
    "persons_copy.drop(['birth_year', 'death_year'], axis=1, inplace=True)\n",
    "persons_copy.isnull().sum()"
   ]
  },
  {
   "cell_type": "code",
   "execution_count": 32,
   "metadata": {},
   "outputs": [
    {
     "data": {
      "application/vnd.microsoft.datawrangler.viewer.v0+json": {
       "columns": [
        {
         "name": "index",
         "rawType": "object",
         "type": "string"
        },
        {
         "name": "0",
         "rawType": "int64",
         "type": "integer"
        }
       ],
       "ref": "58e9b93d-308c-4b2e-b270-f864fcacdef7",
       "rows": [
        [
         "person_id",
         "0"
        ],
        [
         "primary_name",
         "0"
        ],
        [
         "primary_profession",
         "0"
        ]
       ],
       "shape": {
        "columns": 1,
        "rows": 3
       }
      },
      "text/plain": [
       "person_id             0\n",
       "primary_name          0\n",
       "primary_profession    0\n",
       "dtype: int64"
      ]
     },
     "execution_count": 32,
     "metadata": {},
     "output_type": "execute_result"
    }
   ],
   "source": [
    "# Fillna with unknown for primary profession\n",
    "persons_copy['primary_profession'].fillna('unknown',inplace = True)\n",
    "persons_copy.isnull().sum()"
   ]
  },
  {
   "cell_type": "code",
   "execution_count": 33,
   "metadata": {},
   "outputs": [
    {
     "data": {
      "text/plain": [
       "0"
      ]
     },
     "execution_count": 33,
     "metadata": {},
     "output_type": "execute_result"
    }
   ],
   "source": [
    "# Checking for duplicates\n",
    "persons_copy.duplicated().sum()"
   ]
  },
  {
   "cell_type": "markdown",
   "metadata": {},
   "source": [
    "- The dataframe has no duplicates."
   ]
  },
  {
   "cell_type": "code",
   "execution_count": 34,
   "metadata": {},
   "outputs": [
    {
     "data": {
      "application/vnd.microsoft.datawrangler.viewer.v0+json": {
       "columns": [
        {
         "name": "index",
         "rawType": "int64",
         "type": "integer"
        },
        {
         "name": "movie_id",
         "rawType": "object",
         "type": "string"
        },
        {
         "name": "ordering",
         "rawType": "int64",
         "type": "integer"
        },
        {
         "name": "person_id",
         "rawType": "object",
         "type": "string"
        },
        {
         "name": "category",
         "rawType": "object",
         "type": "string"
        },
        {
         "name": "job",
         "rawType": "object",
         "type": "unknown"
        },
        {
         "name": "characters",
         "rawType": "object",
         "type": "unknown"
        }
       ],
       "ref": "28f38d79-82b7-47b0-b3b5-b9e251287a46",
       "rows": [
        [
         "0",
         "tt0111414",
         "1",
         "nm0246005",
         "actor",
         null,
         "[\"The Man\"]"
        ],
        [
         "1",
         "tt0111414",
         "2",
         "nm0398271",
         "director",
         null,
         null
        ],
        [
         "2",
         "tt0111414",
         "3",
         "nm3739909",
         "producer",
         "producer",
         null
        ],
        [
         "3",
         "tt0323808",
         "10",
         "nm0059247",
         "editor",
         null,
         null
        ],
        [
         "4",
         "tt0323808",
         "1",
         "nm3579312",
         "actress",
         null,
         "[\"Beth Boothby\"]"
        ],
        [
         "5",
         "tt0323808",
         "2",
         "nm2694680",
         "actor",
         null,
         "[\"Steve Thomson\"]"
        ],
        [
         "6",
         "tt0323808",
         "3",
         "nm0574615",
         "actor",
         null,
         "[\"Sir Lachlan Morrison\"]"
        ],
        [
         "7",
         "tt0323808",
         "4",
         "nm0502652",
         "actress",
         null,
         "[\"Lady Delia Morrison\"]"
        ],
        [
         "8",
         "tt0323808",
         "5",
         "nm0362736",
         "director",
         null,
         null
        ],
        [
         "9",
         "tt0323808",
         "6",
         "nm0811056",
         "producer",
         "producer",
         null
        ],
        [
         "10",
         "tt0323808",
         "7",
         "nm0914939",
         "producer",
         "producer",
         null
        ],
        [
         "11",
         "tt0323808",
         "8",
         "nm0779346",
         "composer",
         null,
         null
        ],
        [
         "12",
         "tt0323808",
         "9",
         "nm0676104",
         "cinematographer",
         null,
         null
        ],
        [
         "13",
         "tt0417610",
         "10",
         "nm0284261",
         "composer",
         null,
         null
        ],
        [
         "14",
         "tt0417610",
         "1",
         "nm0532721",
         "actor",
         null,
         "[\"Lucio\"]"
        ],
        [
         "15",
         "tt0417610",
         "2",
         "nm0330974",
         "actress",
         null,
         "[\"Diana\"]"
        ],
        [
         "16",
         "tt0417610",
         "3",
         "nm0069209",
         "actor",
         null,
         "[\"Dr. Samaniego\"]"
        ],
        [
         "17",
         "tt0417610",
         "4",
         "nm0679167",
         "actress",
         null,
         "[\"Adriana María\"]"
        ],
        [
         "18",
         "tt0417610",
         "5",
         "nm1145057",
         "director",
         null,
         null
        ],
        [
         "19",
         "tt0417610",
         "6",
         "nm0083201",
         "writer",
         "story",
         null
        ],
        [
         "20",
         "tt0417610",
         "7",
         "nm0147416",
         "producer",
         "producer",
         null
        ],
        [
         "21",
         "tt0417610",
         "8",
         "nm0215732",
         "producer",
         "producer",
         null
        ],
        [
         "22",
         "tt0417610",
         "9",
         "nm1900304",
         "producer",
         "producer",
         null
        ],
        [
         "23",
         "tt0469152",
         "10",
         "nm3745712",
         "editor",
         null,
         null
        ],
        [
         "24",
         "tt0469152",
         "1",
         "nm0036109",
         "actress",
         null,
         "[\"Eleanor Jordan\"]"
        ],
        [
         "25",
         "tt0469152",
         "2",
         "nm0005253",
         "actress",
         null,
         "[\"Diana Whelan\"]"
        ],
        [
         "26",
         "tt0469152",
         "3",
         "nm0002090",
         "actor",
         null,
         "[\"Anson\"]"
        ],
        [
         "27",
         "tt0469152",
         "4",
         "nm1469262",
         "actor",
         null,
         "[\"Jack Jordan Jr.\"]"
        ],
        [
         "28",
         "tt0469152",
         "5",
         "nm0707738",
         "director",
         null,
         null
        ],
        [
         "29",
         "tt0469152",
         "6",
         "nm0071770",
         "writer",
         null,
         null
        ],
        [
         "30",
         "tt0469152",
         "7",
         "nm1165122",
         "producer",
         "producer",
         null
        ],
        [
         "31",
         "tt0469152",
         "8",
         "nm4458962",
         "composer",
         null,
         null
        ],
        [
         "32",
         "tt0469152",
         "9",
         "nm1013599",
         "cinematographer",
         null,
         null
        ],
        [
         "33",
         "tt0473032",
         "1",
         "nm2093546",
         "actor",
         null,
         "[\"Uncle Nimlash\"]"
        ],
        [
         "34",
         "tt0473032",
         "2",
         "nm0020804",
         "actor",
         null,
         "[\"Reverend Sun Amen Chill\"]"
        ],
        [
         "35",
         "tt0473032",
         "3",
         "nm0776090",
         "director",
         null,
         null
        ],
        [
         "36",
         "tt0475290",
         "10",
         "nm0005683",
         "cinematographer",
         "director of photography",
         null
        ],
        [
         "37",
         "tt0475290",
         "1",
         "nm0000982",
         "actor",
         null,
         "[\"Eddie Mannix\"]"
        ],
        [
         "38",
         "tt0475290",
         "2",
         "nm0000123",
         "actor",
         null,
         "[\"Baird Whitlock\"]"
        ],
        [
         "39",
         "tt0475290",
         "3",
         "nm2403277",
         "actor",
         null,
         "[\"Hobie Doyle\"]"
        ],
        [
         "40",
         "tt0475290",
         "4",
         "nm0000146",
         "actor",
         null,
         "[\"Laurence Laurentz\"]"
        ],
        [
         "41",
         "tt0475290",
         "5",
         "nm0001053",
         "director",
         null,
         null
        ],
        [
         "42",
         "tt0475290",
         "6",
         "nm0001054",
         "director",
         null,
         null
        ],
        [
         "43",
         "tt0475290",
         "7",
         "nm0079677",
         "producer",
         "producer",
         null
        ],
        [
         "44",
         "tt0475290",
         "8",
         "nm0271479",
         "producer",
         "producer",
         null
        ],
        [
         "45",
         "tt0475290",
         "9",
         "nm0001980",
         "composer",
         null,
         null
        ],
        [
         "46",
         "tt0477302",
         "10",
         "nm0579580",
         "cinematographer",
         "director of photography",
         null
        ],
        [
         "47",
         "tt0477302",
         "1",
         "nm4223385",
         "actor",
         null,
         "[\"Oskar Schell\"]"
        ],
        [
         "48",
         "tt0477302",
         "2",
         "nm0000158",
         "actor",
         null,
         "[\"Thomas Schell\"]"
        ],
        [
         "49",
         "tt0477302",
         "3",
         "nm0000113",
         "actress",
         null,
         "[\"Linda Schell\"]"
        ]
       ],
       "shape": {
        "columns": 6,
        "rows": 1028186
       }
      },
      "text/html": [
       "<div>\n",
       "<style scoped>\n",
       "    .dataframe tbody tr th:only-of-type {\n",
       "        vertical-align: middle;\n",
       "    }\n",
       "\n",
       "    .dataframe tbody tr th {\n",
       "        vertical-align: top;\n",
       "    }\n",
       "\n",
       "    .dataframe thead th {\n",
       "        text-align: right;\n",
       "    }\n",
       "</style>\n",
       "<table border=\"1\" class=\"dataframe\">\n",
       "  <thead>\n",
       "    <tr style=\"text-align: right;\">\n",
       "      <th></th>\n",
       "      <th>movie_id</th>\n",
       "      <th>ordering</th>\n",
       "      <th>person_id</th>\n",
       "      <th>category</th>\n",
       "      <th>job</th>\n",
       "      <th>characters</th>\n",
       "    </tr>\n",
       "  </thead>\n",
       "  <tbody>\n",
       "    <tr>\n",
       "      <th>0</th>\n",
       "      <td>tt0111414</td>\n",
       "      <td>1</td>\n",
       "      <td>nm0246005</td>\n",
       "      <td>actor</td>\n",
       "      <td>None</td>\n",
       "      <td>[\"The Man\"]</td>\n",
       "    </tr>\n",
       "    <tr>\n",
       "      <th>1</th>\n",
       "      <td>tt0111414</td>\n",
       "      <td>2</td>\n",
       "      <td>nm0398271</td>\n",
       "      <td>director</td>\n",
       "      <td>None</td>\n",
       "      <td>None</td>\n",
       "    </tr>\n",
       "    <tr>\n",
       "      <th>2</th>\n",
       "      <td>tt0111414</td>\n",
       "      <td>3</td>\n",
       "      <td>nm3739909</td>\n",
       "      <td>producer</td>\n",
       "      <td>producer</td>\n",
       "      <td>None</td>\n",
       "    </tr>\n",
       "    <tr>\n",
       "      <th>3</th>\n",
       "      <td>tt0323808</td>\n",
       "      <td>10</td>\n",
       "      <td>nm0059247</td>\n",
       "      <td>editor</td>\n",
       "      <td>None</td>\n",
       "      <td>None</td>\n",
       "    </tr>\n",
       "    <tr>\n",
       "      <th>4</th>\n",
       "      <td>tt0323808</td>\n",
       "      <td>1</td>\n",
       "      <td>nm3579312</td>\n",
       "      <td>actress</td>\n",
       "      <td>None</td>\n",
       "      <td>[\"Beth Boothby\"]</td>\n",
       "    </tr>\n",
       "    <tr>\n",
       "      <th>...</th>\n",
       "      <td>...</td>\n",
       "      <td>...</td>\n",
       "      <td>...</td>\n",
       "      <td>...</td>\n",
       "      <td>...</td>\n",
       "      <td>...</td>\n",
       "    </tr>\n",
       "    <tr>\n",
       "      <th>1028181</th>\n",
       "      <td>tt9692684</td>\n",
       "      <td>1</td>\n",
       "      <td>nm0186469</td>\n",
       "      <td>actor</td>\n",
       "      <td>None</td>\n",
       "      <td>[\"Ebenezer Scrooge\"]</td>\n",
       "    </tr>\n",
       "    <tr>\n",
       "      <th>1028182</th>\n",
       "      <td>tt9692684</td>\n",
       "      <td>2</td>\n",
       "      <td>nm4929530</td>\n",
       "      <td>self</td>\n",
       "      <td>None</td>\n",
       "      <td>[\"Herself\",\"Regan\"]</td>\n",
       "    </tr>\n",
       "    <tr>\n",
       "      <th>1028183</th>\n",
       "      <td>tt9692684</td>\n",
       "      <td>3</td>\n",
       "      <td>nm10441594</td>\n",
       "      <td>director</td>\n",
       "      <td>None</td>\n",
       "      <td>None</td>\n",
       "    </tr>\n",
       "    <tr>\n",
       "      <th>1028184</th>\n",
       "      <td>tt9692684</td>\n",
       "      <td>4</td>\n",
       "      <td>nm6009913</td>\n",
       "      <td>writer</td>\n",
       "      <td>writer</td>\n",
       "      <td>None</td>\n",
       "    </tr>\n",
       "    <tr>\n",
       "      <th>1028185</th>\n",
       "      <td>tt9692684</td>\n",
       "      <td>5</td>\n",
       "      <td>nm10441595</td>\n",
       "      <td>producer</td>\n",
       "      <td>producer</td>\n",
       "      <td>None</td>\n",
       "    </tr>\n",
       "  </tbody>\n",
       "</table>\n",
       "<p>1028186 rows × 6 columns</p>\n",
       "</div>"
      ],
      "text/plain": [
       "          movie_id  ordering   person_id  category       job  \\\n",
       "0        tt0111414         1   nm0246005     actor      None   \n",
       "1        tt0111414         2   nm0398271  director      None   \n",
       "2        tt0111414         3   nm3739909  producer  producer   \n",
       "3        tt0323808        10   nm0059247    editor      None   \n",
       "4        tt0323808         1   nm3579312   actress      None   \n",
       "...            ...       ...         ...       ...       ...   \n",
       "1028181  tt9692684         1   nm0186469     actor      None   \n",
       "1028182  tt9692684         2   nm4929530      self      None   \n",
       "1028183  tt9692684         3  nm10441594  director      None   \n",
       "1028184  tt9692684         4   nm6009913    writer    writer   \n",
       "1028185  tt9692684         5  nm10441595  producer  producer   \n",
       "\n",
       "                   characters  \n",
       "0                 [\"The Man\"]  \n",
       "1                        None  \n",
       "2                        None  \n",
       "3                        None  \n",
       "4            [\"Beth Boothby\"]  \n",
       "...                       ...  \n",
       "1028181  [\"Ebenezer Scrooge\"]  \n",
       "1028182   [\"Herself\",\"Regan\"]  \n",
       "1028183                  None  \n",
       "1028184                  None  \n",
       "1028185                  None  \n",
       "\n",
       "[1028186 rows x 6 columns]"
      ]
     },
     "execution_count": 34,
     "metadata": {},
     "output_type": "execute_result"
    }
   ],
   "source": [
    "principals_copy = imdb_tables[\"principals\"]\n",
    "principals_copy\n"
   ]
  },
  {
   "cell_type": "code",
   "execution_count": 35,
   "metadata": {},
   "outputs": [
    {
     "data": {
      "application/vnd.microsoft.datawrangler.viewer.v0+json": {
       "columns": [
        {
         "name": "index",
         "rawType": "int64",
         "type": "integer"
        },
        {
         "name": "movie_id",
         "rawType": "object",
         "type": "string"
        },
        {
         "name": "ordering",
         "rawType": "int64",
         "type": "integer"
        },
        {
         "name": "person_id",
         "rawType": "object",
         "type": "string"
        },
        {
         "name": "category",
         "rawType": "object",
         "type": "string"
        },
        {
         "name": "job",
         "rawType": "object",
         "type": "unknown"
        },
        {
         "name": "characters",
         "rawType": "object",
         "type": "unknown"
        }
       ],
       "ref": "4452ae73-3db7-4b87-afd4-c0bf6b8ce2e1",
       "rows": [
        [
         "0",
         "tt0111414",
         "1",
         "nm0246005",
         "actor",
         null,
         "[\"The Man\"]"
        ],
        [
         "1",
         "tt0111414",
         "2",
         "nm0398271",
         "director",
         null,
         null
        ],
        [
         "2",
         "tt0111414",
         "3",
         "nm3739909",
         "producer",
         "producer",
         null
        ],
        [
         "3",
         "tt0323808",
         "10",
         "nm0059247",
         "editor",
         null,
         null
        ],
        [
         "4",
         "tt0323808",
         "1",
         "nm3579312",
         "actress",
         null,
         "[\"Beth Boothby\"]"
        ]
       ],
       "shape": {
        "columns": 6,
        "rows": 5
       }
      },
      "text/html": [
       "<div>\n",
       "<style scoped>\n",
       "    .dataframe tbody tr th:only-of-type {\n",
       "        vertical-align: middle;\n",
       "    }\n",
       "\n",
       "    .dataframe tbody tr th {\n",
       "        vertical-align: top;\n",
       "    }\n",
       "\n",
       "    .dataframe thead th {\n",
       "        text-align: right;\n",
       "    }\n",
       "</style>\n",
       "<table border=\"1\" class=\"dataframe\">\n",
       "  <thead>\n",
       "    <tr style=\"text-align: right;\">\n",
       "      <th></th>\n",
       "      <th>movie_id</th>\n",
       "      <th>ordering</th>\n",
       "      <th>person_id</th>\n",
       "      <th>category</th>\n",
       "      <th>job</th>\n",
       "      <th>characters</th>\n",
       "    </tr>\n",
       "  </thead>\n",
       "  <tbody>\n",
       "    <tr>\n",
       "      <th>0</th>\n",
       "      <td>tt0111414</td>\n",
       "      <td>1</td>\n",
       "      <td>nm0246005</td>\n",
       "      <td>actor</td>\n",
       "      <td>None</td>\n",
       "      <td>[\"The Man\"]</td>\n",
       "    </tr>\n",
       "    <tr>\n",
       "      <th>1</th>\n",
       "      <td>tt0111414</td>\n",
       "      <td>2</td>\n",
       "      <td>nm0398271</td>\n",
       "      <td>director</td>\n",
       "      <td>None</td>\n",
       "      <td>None</td>\n",
       "    </tr>\n",
       "    <tr>\n",
       "      <th>2</th>\n",
       "      <td>tt0111414</td>\n",
       "      <td>3</td>\n",
       "      <td>nm3739909</td>\n",
       "      <td>producer</td>\n",
       "      <td>producer</td>\n",
       "      <td>None</td>\n",
       "    </tr>\n",
       "    <tr>\n",
       "      <th>3</th>\n",
       "      <td>tt0323808</td>\n",
       "      <td>10</td>\n",
       "      <td>nm0059247</td>\n",
       "      <td>editor</td>\n",
       "      <td>None</td>\n",
       "      <td>None</td>\n",
       "    </tr>\n",
       "    <tr>\n",
       "      <th>4</th>\n",
       "      <td>tt0323808</td>\n",
       "      <td>1</td>\n",
       "      <td>nm3579312</td>\n",
       "      <td>actress</td>\n",
       "      <td>None</td>\n",
       "      <td>[\"Beth Boothby\"]</td>\n",
       "    </tr>\n",
       "  </tbody>\n",
       "</table>\n",
       "</div>"
      ],
      "text/plain": [
       "    movie_id  ordering  person_id  category       job        characters\n",
       "0  tt0111414         1  nm0246005     actor      None       [\"The Man\"]\n",
       "1  tt0111414         2  nm0398271  director      None              None\n",
       "2  tt0111414         3  nm3739909  producer  producer              None\n",
       "3  tt0323808        10  nm0059247    editor      None              None\n",
       "4  tt0323808         1  nm3579312   actress      None  [\"Beth Boothby\"]"
      ]
     },
     "execution_count": 35,
     "metadata": {},
     "output_type": "execute_result"
    }
   ],
   "source": [
    "principals_copy.head()"
   ]
  },
  {
   "cell_type": "code",
   "execution_count": 36,
   "metadata": {},
   "outputs": [
    {
     "data": {
      "application/vnd.microsoft.datawrangler.viewer.v0+json": {
       "columns": [
        {
         "name": "index",
         "rawType": "object",
         "type": "string"
        },
        {
         "name": "ordering",
         "rawType": "float64",
         "type": "float"
        }
       ],
       "ref": "850b89bd-639f-4df5-803f-a2e356c39b8d",
       "rows": [
        [
         "count",
         "1028186.0"
        ],
        [
         "mean",
         "4.739846681437016"
        ],
        [
         "std",
         "2.7474456061539687"
        ],
        [
         "min",
         "1.0"
        ],
        [
         "25%",
         "2.0"
        ],
        [
         "50%",
         "4.0"
        ],
        [
         "75%",
         "7.0"
        ],
        [
         "max",
         "10.0"
        ]
       ],
       "shape": {
        "columns": 1,
        "rows": 8
       }
      },
      "text/html": [
       "<div>\n",
       "<style scoped>\n",
       "    .dataframe tbody tr th:only-of-type {\n",
       "        vertical-align: middle;\n",
       "    }\n",
       "\n",
       "    .dataframe tbody tr th {\n",
       "        vertical-align: top;\n",
       "    }\n",
       "\n",
       "    .dataframe thead th {\n",
       "        text-align: right;\n",
       "    }\n",
       "</style>\n",
       "<table border=\"1\" class=\"dataframe\">\n",
       "  <thead>\n",
       "    <tr style=\"text-align: right;\">\n",
       "      <th></th>\n",
       "      <th>ordering</th>\n",
       "    </tr>\n",
       "  </thead>\n",
       "  <tbody>\n",
       "    <tr>\n",
       "      <th>count</th>\n",
       "      <td>1.028186e+06</td>\n",
       "    </tr>\n",
       "    <tr>\n",
       "      <th>mean</th>\n",
       "      <td>4.739847e+00</td>\n",
       "    </tr>\n",
       "    <tr>\n",
       "      <th>std</th>\n",
       "      <td>2.747446e+00</td>\n",
       "    </tr>\n",
       "    <tr>\n",
       "      <th>min</th>\n",
       "      <td>1.000000e+00</td>\n",
       "    </tr>\n",
       "    <tr>\n",
       "      <th>25%</th>\n",
       "      <td>2.000000e+00</td>\n",
       "    </tr>\n",
       "    <tr>\n",
       "      <th>50%</th>\n",
       "      <td>4.000000e+00</td>\n",
       "    </tr>\n",
       "    <tr>\n",
       "      <th>75%</th>\n",
       "      <td>7.000000e+00</td>\n",
       "    </tr>\n",
       "    <tr>\n",
       "      <th>max</th>\n",
       "      <td>1.000000e+01</td>\n",
       "    </tr>\n",
       "  </tbody>\n",
       "</table>\n",
       "</div>"
      ],
      "text/plain": [
       "           ordering\n",
       "count  1.028186e+06\n",
       "mean   4.739847e+00\n",
       "std    2.747446e+00\n",
       "min    1.000000e+00\n",
       "25%    2.000000e+00\n",
       "50%    4.000000e+00\n",
       "75%    7.000000e+00\n",
       "max    1.000000e+01"
      ]
     },
     "execution_count": 36,
     "metadata": {},
     "output_type": "execute_result"
    }
   ],
   "source": [
    "principals_copy.describe()"
   ]
  },
  {
   "cell_type": "code",
   "execution_count": 37,
   "metadata": {},
   "outputs": [
    {
     "name": "stdout",
     "output_type": "stream",
     "text": [
      "<class 'pandas.core.frame.DataFrame'>\n",
      "RangeIndex: 1028186 entries, 0 to 1028185\n",
      "Data columns (total 6 columns):\n",
      " #   Column      Non-Null Count    Dtype \n",
      "---  ------      --------------    ----- \n",
      " 0   movie_id    1028186 non-null  object\n",
      " 1   ordering    1028186 non-null  int64 \n",
      " 2   person_id   1028186 non-null  object\n",
      " 3   category    1028186 non-null  object\n",
      " 4   job         177684 non-null   object\n",
      " 5   characters  393360 non-null   object\n",
      "dtypes: int64(1), object(5)\n",
      "memory usage: 47.1+ MB\n",
      "(1028186, 6)\n",
      "           ordering\n",
      "count  1.028186e+06\n",
      "mean   4.739847e+00\n",
      "std    2.747446e+00\n",
      "min    1.000000e+00\n",
      "25%    2.000000e+00\n",
      "50%    4.000000e+00\n",
      "75%    7.000000e+00\n",
      "max    1.000000e+01\n",
      "Index(['movie_id', 'ordering', 'person_id', 'category', 'job', 'characters'], dtype='object')\n"
     ]
    },
    {
     "data": {
      "application/vnd.microsoft.datawrangler.viewer.v0+json": {
       "columns": [
        {
         "name": "index",
         "rawType": "object",
         "type": "string"
        },
        {
         "name": "0",
         "rawType": "int64",
         "type": "integer"
        }
       ],
       "ref": "98edb07b-1d2a-415f-827e-b624090fe17e",
       "rows": [
        [
         "movie_id",
         "0"
        ],
        [
         "ordering",
         "0"
        ],
        [
         "person_id",
         "0"
        ],
        [
         "category",
         "0"
        ],
        [
         "job",
         "850502"
        ],
        [
         "characters",
         "634826"
        ]
       ],
       "shape": {
        "columns": 1,
        "rows": 6
       }
      },
      "text/plain": [
       "movie_id           0\n",
       "ordering           0\n",
       "person_id          0\n",
       "category           0\n",
       "job           850502\n",
       "characters    634826\n",
       "dtype: int64"
      ]
     },
     "execution_count": 37,
     "metadata": {},
     "output_type": "execute_result"
    }
   ],
   "source": [
    "principals_copy.info()\n",
    "print(principals_copy.shape)\n",
    "print(principals_copy.describe())\n",
    "print(principals_copy.columns)\n",
    "principals_copy.isnull().sum()"
   ]
  },
  {
   "cell_type": "markdown",
   "metadata": {},
   "source": [
    "- `principals` dataframe has 1028186 records and 6 feeatures, job and characters columns have missing values"
   ]
  },
  {
   "cell_type": "code",
   "execution_count": 38,
   "metadata": {},
   "outputs": [
    {
     "data": {
      "application/vnd.microsoft.datawrangler.viewer.v0+json": {
       "columns": [
        {
         "name": "index",
         "rawType": "object",
         "type": "string"
        },
        {
         "name": "0",
         "rawType": "int64",
         "type": "integer"
        }
       ],
       "ref": "4ae52f95-4094-4903-b795-88d07f51e198",
       "rows": [
        [
         "movie_id",
         "0"
        ],
        [
         "ordering",
         "0"
        ],
        [
         "person_id",
         "0"
        ],
        [
         "category",
         "0"
        ],
        [
         "job",
         "0"
        ],
        [
         "characters",
         "0"
        ]
       ],
       "shape": {
        "columns": 1,
        "rows": 6
       }
      },
      "text/plain": [
       "movie_id      0\n",
       "ordering      0\n",
       "person_id     0\n",
       "category      0\n",
       "job           0\n",
       "characters    0\n",
       "dtype: int64"
      ]
     },
     "execution_count": 38,
     "metadata": {},
     "output_type": "execute_result"
    }
   ],
   "source": [
    "# dropping the missing values in job since the missing values is>80%\n",
    "principals_copy.dropna(inplace=True)\n",
    "principals_copy.isnull().sum()\n"
   ]
  },
  {
   "cell_type": "code",
   "execution_count": 39,
   "metadata": {},
   "outputs": [
    {
     "data": {
      "text/plain": [
       "0"
      ]
     },
     "execution_count": 39,
     "metadata": {},
     "output_type": "execute_result"
    }
   ],
   "source": [
    "principals_copy.duplicated().sum()"
   ]
  },
  {
   "cell_type": "markdown",
   "metadata": {},
   "source": [
    "- No duplicated values in `prrincipal` dataframe"
   ]
  },
  {
   "cell_type": "code",
   "execution_count": 40,
   "metadata": {},
   "outputs": [
    {
     "name": "stdout",
     "output_type": "stream",
     "text": [
      "<class 'pandas.core.frame.DataFrame'>\n",
      "RangeIndex: 291174 entries, 0 to 291173\n",
      "Data columns (total 2 columns):\n",
      " #   Column     Non-Null Count   Dtype \n",
      "---  ------     --------------   ----- \n",
      " 0   movie_id   291174 non-null  object\n",
      " 1   person_id  291174 non-null  object\n",
      "dtypes: object(2)\n",
      "memory usage: 4.4+ MB\n"
     ]
    },
    {
     "data": {
      "application/vnd.microsoft.datawrangler.viewer.v0+json": {
       "columns": [
        {
         "name": "index",
         "rawType": "object",
         "type": "string"
        },
        {
         "name": "0",
         "rawType": "int64",
         "type": "integer"
        }
       ],
       "ref": "e6de0d20-e919-498f-9118-c07d9e015d70",
       "rows": [
        [
         "movie_id",
         "0"
        ],
        [
         "person_id",
         "0"
        ]
       ],
       "shape": {
        "columns": 1,
        "rows": 2
       }
      },
      "text/plain": [
       "movie_id     0\n",
       "person_id    0\n",
       "dtype: int64"
      ]
     },
     "execution_count": 40,
     "metadata": {},
     "output_type": "execute_result"
    }
   ],
   "source": [
    "# checking general structure of directors dataframe\n",
    "directors = imdb_tables['directors']\n",
    "directors.info()\n",
    "directors.isna().sum()"
   ]
  },
  {
   "cell_type": "markdown",
   "metadata": {},
   "source": [
    "- `Directors` dataframe contains 2 columns and 291174 and no missing values"
   ]
  },
  {
   "cell_type": "code",
   "execution_count": 41,
   "metadata": {},
   "outputs": [
    {
     "name": "stdout",
     "output_type": "stream",
     "text": [
      "Dropped 127639 duplicate rows.\n",
      "(163535, 2)\n"
     ]
    }
   ],
   "source": [
    "# Checking for duplicates and dropping the records\n",
    "directors_clean = imdb_tables['directors'].copy(deep=True)\n",
    "\n",
    "before = directors_clean.shape[0]\n",
    "directors_clean.drop_duplicates(keep='first', inplace=True)\n",
    "after = directors_clean.shape[0]\n",
    "\n",
    "print(f\"Dropped {before - after} duplicate rows.\")\n",
    "print(directors_clean.shape)\n"
   ]
  },
  {
   "cell_type": "code",
   "execution_count": 42,
   "metadata": {},
   "outputs": [
    {
     "name": "stdout",
     "output_type": "stream",
     "text": [
      "<class 'pandas.core.frame.DataFrame'>\n",
      "RangeIndex: 1638260 entries, 0 to 1638259\n",
      "Data columns (total 2 columns):\n",
      " #   Column     Non-Null Count    Dtype \n",
      "---  ------     --------------    ----- \n",
      " 0   person_id  1638260 non-null  object\n",
      " 1   movie_id   1638260 non-null  object\n",
      "dtypes: object(2)\n",
      "memory usage: 25.0+ MB\n",
      "None\n",
      "person_id    0\n",
      "movie_id     0\n",
      "dtype: int64\n",
      "(1638260, 2)\n"
     ]
    }
   ],
   "source": [
    "# Getting info for known_for dataframe\n",
    "known_for = imdb_tables['known_for']\n",
    "print(known_for.info())\n",
    "print(known_for.isna().sum())\n",
    "print(known_for.shape)"
   ]
  },
  {
   "cell_type": "markdown",
   "metadata": {},
   "source": [
    "- The dataframe has 2 columns and 1638260 rows with no missing values."
   ]
  },
  {
   "cell_type": "code",
   "execution_count": 43,
   "metadata": {},
   "outputs": [
    {
     "name": "stdout",
     "output_type": "stream",
     "text": [
      "Dropped 0 duplicate rows.\n",
      "(1638260, 2)\n"
     ]
    }
   ],
   "source": [
    "# checking and dropping duplicates if any\n",
    "known_for_clean = imdb_tables['known_for'].copy(deep=True)\n",
    "before = known_for_clean.shape[0]\n",
    "known_for_clean.drop_duplicates(keep='first', inplace=True)\n",
    "after = known_for_clean.shape[0]\n",
    "print(f\"Dropped {before - after} duplicate rows.\")\n",
    "print(known_for_clean.shape)"
   ]
  },
  {
   "cell_type": "code",
   "execution_count": 44,
   "metadata": {},
   "outputs": [
    {
     "name": "stdout",
     "output_type": "stream",
     "text": [
      "<class 'pandas.core.frame.DataFrame'>\n",
      "RangeIndex: 331703 entries, 0 to 331702\n",
      "Data columns (total 8 columns):\n",
      " #   Column             Non-Null Count   Dtype  \n",
      "---  ------             --------------   -----  \n",
      " 0   movie_id           331703 non-null  object \n",
      " 1   ordering           331703 non-null  int64  \n",
      " 2   title              331703 non-null  object \n",
      " 3   region             278410 non-null  object \n",
      " 4   language           41715 non-null   object \n",
      " 5   types              168447 non-null  object \n",
      " 6   attributes         14925 non-null   object \n",
      " 7   is_original_title  331678 non-null  float64\n",
      "dtypes: float64(1), int64(1), object(6)\n",
      "memory usage: 20.2+ MB\n",
      "None\n",
      "(331703, 8)\n",
      "movie_id             False\n",
      "ordering             False\n",
      "title                False\n",
      "region                True\n",
      "language              True\n",
      "types                 True\n",
      "attributes            True\n",
      "is_original_title     True\n",
      "dtype: bool\n",
      "movie_id                  0\n",
      "ordering                  0\n",
      "title                     0\n",
      "region                53293\n",
      "language             289988\n",
      "types                163256\n",
      "attributes           316778\n",
      "is_original_title        25\n",
      "dtype: int64\n"
     ]
    },
    {
     "data": {
      "application/vnd.microsoft.datawrangler.viewer.v0+json": {
       "columns": [
        {
         "name": "index",
         "rawType": "int64",
         "type": "integer"
        },
        {
         "name": "movie_id",
         "rawType": "object",
         "type": "string"
        },
        {
         "name": "ordering",
         "rawType": "int64",
         "type": "integer"
        },
        {
         "name": "title",
         "rawType": "object",
         "type": "string"
        },
        {
         "name": "region",
         "rawType": "object",
         "type": "unknown"
        },
        {
         "name": "language",
         "rawType": "object",
         "type": "unknown"
        },
        {
         "name": "types",
         "rawType": "object",
         "type": "unknown"
        },
        {
         "name": "attributes",
         "rawType": "object",
         "type": "unknown"
        },
        {
         "name": "is_original_title",
         "rawType": "float64",
         "type": "float"
        }
       ],
       "ref": "183abfea-f862-4f2b-aa3f-211ee3d74932",
       "rows": [
        [
         "0",
         "tt0369610",
         "10",
         "Джурасик свят",
         "BG",
         "bg",
         null,
         null,
         "0.0"
        ],
        [
         "1",
         "tt0369610",
         "11",
         "Jurashikku warudo",
         "JP",
         null,
         "imdbDisplay",
         null,
         "0.0"
        ],
        [
         "2",
         "tt0369610",
         "12",
         "Jurassic World: O Mundo dos Dinossauros",
         "BR",
         null,
         "imdbDisplay",
         null,
         "0.0"
        ],
        [
         "3",
         "tt0369610",
         "13",
         "O Mundo dos Dinossauros",
         "BR",
         null,
         null,
         "short title",
         "0.0"
        ],
        [
         "4",
         "tt0369610",
         "14",
         "Jurassic World",
         "FR",
         null,
         "imdbDisplay",
         null,
         "0.0"
        ],
        [
         "5",
         "tt0369610",
         "15",
         "Jurassic World",
         "GR",
         null,
         "imdbDisplay",
         null,
         "0.0"
        ],
        [
         "6",
         "tt0369610",
         "16",
         "Jurassic World",
         "IT",
         null,
         "imdbDisplay",
         null,
         "0.0"
        ],
        [
         "7",
         "tt0369610",
         "17",
         "Jurski svijet",
         "HR",
         null,
         "imdbDisplay",
         null,
         "0.0"
        ],
        [
         "8",
         "tt0369610",
         "18",
         "Olam ha'Yura",
         "IL",
         "he",
         "imdbDisplay",
         null,
         "0.0"
        ],
        [
         "9",
         "tt0369610",
         "19",
         "Jurassic World: Mundo Jurásico",
         "MX",
         null,
         "imdbDisplay",
         null,
         "0.0"
        ],
        [
         "10",
         "tt0369610",
         "1",
         "Jurassic World: Sauruste maailm",
         "EE",
         null,
         "imdbDisplay",
         null,
         "0.0"
        ],
        [
         "11",
         "tt0369610",
         "20",
         "Jurassic World",
         "SE",
         null,
         "imdbDisplay",
         null,
         "0.0"
        ],
        [
         "12",
         "tt0369610",
         "21",
         "Jurassic World 3D",
         "US",
         null,
         null,
         "3-D version",
         "0.0"
        ],
        [
         "13",
         "tt0369610",
         "22",
         "Jurassic World 3D",
         "DE",
         null,
         null,
         "3-D version",
         "0.0"
        ],
        [
         "14",
         "tt0369610",
         "23",
         "Jurassic World 3D",
         "XWW",
         null,
         null,
         "3-D version",
         "0.0"
        ],
        [
         "15",
         "tt0369610",
         "24",
         "Juras laikmeta pasaule",
         "LV",
         null,
         "imdbDisplay",
         null,
         "0.0"
        ],
        [
         "16",
         "tt0369610",
         "25",
         "Mundo Jurássico",
         "PT",
         null,
         "imdbDisplay",
         null,
         "0.0"
        ],
        [
         "17",
         "tt0369610",
         "26",
         "Мир Юрского периода",
         "RU",
         null,
         null,
         null,
         "0.0"
        ],
        [
         "18",
         "tt0369610",
         "27",
         "Jurský svět",
         "CZ",
         null,
         null,
         null,
         "0.0"
        ],
        [
         "19",
         "tt0369610",
         "28",
         "Monde jurassique",
         "CA",
         "fr",
         "imdbDisplay",
         null,
         "0.0"
        ],
        [
         "20",
         "tt0369610",
         "29",
         "Jurassic World",
         "US",
         null,
         null,
         null,
         "0.0"
        ],
        [
         "21",
         "tt0369610",
         "2",
         "Ebb Tide",
         "US",
         null,
         null,
         "fake working title",
         "0.0"
        ],
        [
         "22",
         "tt0369610",
         "30",
         "Jurassic World: Mundo Jurásico",
         "CL",
         null,
         "imdbDisplay",
         null,
         "0.0"
        ],
        [
         "23",
         "tt0369610",
         "31",
         "Jurassic World",
         "RO",
         null,
         "imdbDisplay",
         null,
         "0.0"
        ],
        [
         "24",
         "tt0369610",
         "32",
         "Juros periodo pasaulis",
         "LT",
         null,
         "imdbDisplay",
         null,
         "0.0"
        ],
        [
         "25",
         "tt0369610",
         "33",
         "Jurassic World",
         "FI",
         null,
         "imdbDisplay",
         null,
         "0.0"
        ],
        [
         "26",
         "tt0369610",
         "34",
         "Jurassic World: Mundo jurásico",
         "PE",
         null,
         "imdbDisplay",
         null,
         "0.0"
        ],
        [
         "27",
         "tt0369610",
         "35",
         "Jurassic Park 4",
         "TR",
         "tr",
         null,
         "informal alternative title",
         "0.0"
        ],
        [
         "28",
         "tt0369610",
         "36",
         "Jurassic Park IV",
         "US",
         null,
         "working",
         null,
         "0.0"
        ],
        [
         "29",
         "tt0369610",
         "37",
         "Jurassic World",
         "NO",
         null,
         "imdbDisplay",
         null,
         "0.0"
        ],
        [
         "30",
         "tt0369610",
         "38",
         "Jurski svet",
         "SI",
         null,
         "imdbDisplay",
         null,
         "0.0"
        ],
        [
         "31",
         "tt0369610",
         "39",
         "Свiт Юрського перiоду",
         "UA",
         null,
         null,
         null,
         "0.0"
        ],
        [
         "32",
         "tt0369610",
         "3",
         "The Gioi Khung Long",
         "VN",
         null,
         "imdbDisplay",
         null,
         "0.0"
        ],
        [
         "33",
         "tt0369610",
         "40",
         "Jurassic World",
         "DK",
         null,
         "imdbDisplay",
         null,
         "0.0"
        ],
        [
         "34",
         "tt0369610",
         "41",
         "Svet iz doba jure",
         "RS",
         null,
         "imdbDisplay",
         null,
         "0.0"
        ],
        [
         "35",
         "tt0369610",
         "42",
         "Jurský svet",
         "SK",
         null,
         null,
         null,
         "0.0"
        ],
        [
         "36",
         "tt0369610",
         "43",
         "Jurassic World",
         "TR",
         "tr",
         "imdbDisplay",
         null,
         "0.0"
        ],
        [
         "37",
         "tt0369610",
         "44",
         "Jurassic Park 4",
         "US",
         null,
         null,
         "informal alternative title",
         "0.0"
        ],
        [
         "38",
         "tt0369610",
         "45",
         "Jurassic World",
         null,
         null,
         "original",
         null,
         "1.0"
        ],
        [
         "39",
         "tt0369610",
         "46",
         "Jurassic World",
         "ES",
         null,
         "imdbDisplay",
         null,
         "0.0"
        ],
        [
         "40",
         "tt0369610",
         "47",
         "Jurassic World",
         "HU",
         null,
         "imdbDisplay",
         null,
         "0.0"
        ],
        [
         "41",
         "tt0369610",
         "48",
         "Park jurajski 4",
         "PL",
         null,
         "alternative",
         null,
         "0.0"
        ],
        [
         "42",
         "tt0369610",
         "4",
         "Yur dövrü Dünyasi",
         "AZ",
         null,
         "imdbDisplay",
         null,
         "0.0"
        ],
        [
         "43",
         "tt0369610",
         "5",
         "Iuruli periodis samyaro",
         "GE",
         "ka",
         "imdbDisplay",
         null,
         "0.0"
        ],
        [
         "44",
         "tt0369610",
         "6",
         "Jurassic World",
         "PL",
         null,
         "imdbDisplay",
         null,
         "0.0"
        ],
        [
         "45",
         "tt0369610",
         "7",
         "Mundo Jurásico",
         "UY",
         null,
         null,
         "3-D version",
         "0.0"
        ],
        [
         "46",
         "tt0369610",
         "8",
         "Jurassic World 3D",
         "PL",
         null,
         null,
         "3-D version",
         "0.0"
        ],
        [
         "47",
         "tt0369610",
         "9",
         "Jurassic World - Mundo Jurásico",
         "AR",
         null,
         "imdbDisplay",
         null,
         "0.0"
        ],
        [
         "48",
         "tt0381957",
         "1",
         "Cloud Cuckoo Land",
         "GB",
         null,
         null,
         null,
         "0.0"
        ],
        [
         "49",
         "tt0401729",
         "10",
         "Джон Картер: Мiж двох свiтiв",
         "UA",
         null,
         null,
         null,
         "0.0"
        ]
       ],
       "shape": {
        "columns": 8,
        "rows": 331703
       }
      },
      "text/html": [
       "<div>\n",
       "<style scoped>\n",
       "    .dataframe tbody tr th:only-of-type {\n",
       "        vertical-align: middle;\n",
       "    }\n",
       "\n",
       "    .dataframe tbody tr th {\n",
       "        vertical-align: top;\n",
       "    }\n",
       "\n",
       "    .dataframe thead th {\n",
       "        text-align: right;\n",
       "    }\n",
       "</style>\n",
       "<table border=\"1\" class=\"dataframe\">\n",
       "  <thead>\n",
       "    <tr style=\"text-align: right;\">\n",
       "      <th></th>\n",
       "      <th>movie_id</th>\n",
       "      <th>ordering</th>\n",
       "      <th>title</th>\n",
       "      <th>region</th>\n",
       "      <th>language</th>\n",
       "      <th>types</th>\n",
       "      <th>attributes</th>\n",
       "      <th>is_original_title</th>\n",
       "    </tr>\n",
       "  </thead>\n",
       "  <tbody>\n",
       "    <tr>\n",
       "      <th>0</th>\n",
       "      <td>tt0369610</td>\n",
       "      <td>10</td>\n",
       "      <td>Джурасик свят</td>\n",
       "      <td>BG</td>\n",
       "      <td>bg</td>\n",
       "      <td>None</td>\n",
       "      <td>None</td>\n",
       "      <td>0.0</td>\n",
       "    </tr>\n",
       "    <tr>\n",
       "      <th>1</th>\n",
       "      <td>tt0369610</td>\n",
       "      <td>11</td>\n",
       "      <td>Jurashikku warudo</td>\n",
       "      <td>JP</td>\n",
       "      <td>None</td>\n",
       "      <td>imdbDisplay</td>\n",
       "      <td>None</td>\n",
       "      <td>0.0</td>\n",
       "    </tr>\n",
       "    <tr>\n",
       "      <th>2</th>\n",
       "      <td>tt0369610</td>\n",
       "      <td>12</td>\n",
       "      <td>Jurassic World: O Mundo dos Dinossauros</td>\n",
       "      <td>BR</td>\n",
       "      <td>None</td>\n",
       "      <td>imdbDisplay</td>\n",
       "      <td>None</td>\n",
       "      <td>0.0</td>\n",
       "    </tr>\n",
       "    <tr>\n",
       "      <th>3</th>\n",
       "      <td>tt0369610</td>\n",
       "      <td>13</td>\n",
       "      <td>O Mundo dos Dinossauros</td>\n",
       "      <td>BR</td>\n",
       "      <td>None</td>\n",
       "      <td>None</td>\n",
       "      <td>short title</td>\n",
       "      <td>0.0</td>\n",
       "    </tr>\n",
       "    <tr>\n",
       "      <th>4</th>\n",
       "      <td>tt0369610</td>\n",
       "      <td>14</td>\n",
       "      <td>Jurassic World</td>\n",
       "      <td>FR</td>\n",
       "      <td>None</td>\n",
       "      <td>imdbDisplay</td>\n",
       "      <td>None</td>\n",
       "      <td>0.0</td>\n",
       "    </tr>\n",
       "    <tr>\n",
       "      <th>...</th>\n",
       "      <td>...</td>\n",
       "      <td>...</td>\n",
       "      <td>...</td>\n",
       "      <td>...</td>\n",
       "      <td>...</td>\n",
       "      <td>...</td>\n",
       "      <td>...</td>\n",
       "      <td>...</td>\n",
       "    </tr>\n",
       "    <tr>\n",
       "      <th>331698</th>\n",
       "      <td>tt9827784</td>\n",
       "      <td>2</td>\n",
       "      <td>Sayonara kuchibiru</td>\n",
       "      <td>None</td>\n",
       "      <td>None</td>\n",
       "      <td>original</td>\n",
       "      <td>None</td>\n",
       "      <td>1.0</td>\n",
       "    </tr>\n",
       "    <tr>\n",
       "      <th>331699</th>\n",
       "      <td>tt9827784</td>\n",
       "      <td>3</td>\n",
       "      <td>Farewell Song</td>\n",
       "      <td>XWW</td>\n",
       "      <td>en</td>\n",
       "      <td>imdbDisplay</td>\n",
       "      <td>None</td>\n",
       "      <td>0.0</td>\n",
       "    </tr>\n",
       "    <tr>\n",
       "      <th>331700</th>\n",
       "      <td>tt9880178</td>\n",
       "      <td>1</td>\n",
       "      <td>La atención</td>\n",
       "      <td>None</td>\n",
       "      <td>None</td>\n",
       "      <td>original</td>\n",
       "      <td>None</td>\n",
       "      <td>1.0</td>\n",
       "    </tr>\n",
       "    <tr>\n",
       "      <th>331701</th>\n",
       "      <td>tt9880178</td>\n",
       "      <td>2</td>\n",
       "      <td>La atención</td>\n",
       "      <td>ES</td>\n",
       "      <td>None</td>\n",
       "      <td>None</td>\n",
       "      <td>None</td>\n",
       "      <td>0.0</td>\n",
       "    </tr>\n",
       "    <tr>\n",
       "      <th>331702</th>\n",
       "      <td>tt9880178</td>\n",
       "      <td>3</td>\n",
       "      <td>The Attention</td>\n",
       "      <td>XWW</td>\n",
       "      <td>en</td>\n",
       "      <td>imdbDisplay</td>\n",
       "      <td>None</td>\n",
       "      <td>0.0</td>\n",
       "    </tr>\n",
       "  </tbody>\n",
       "</table>\n",
       "<p>331703 rows × 8 columns</p>\n",
       "</div>"
      ],
      "text/plain": [
       "         movie_id  ordering                                    title region  \\\n",
       "0       tt0369610        10                            Джурасик свят     BG   \n",
       "1       tt0369610        11                        Jurashikku warudo     JP   \n",
       "2       tt0369610        12  Jurassic World: O Mundo dos Dinossauros     BR   \n",
       "3       tt0369610        13                  O Mundo dos Dinossauros     BR   \n",
       "4       tt0369610        14                           Jurassic World     FR   \n",
       "...           ...       ...                                      ...    ...   \n",
       "331698  tt9827784         2                       Sayonara kuchibiru   None   \n",
       "331699  tt9827784         3                            Farewell Song    XWW   \n",
       "331700  tt9880178         1                              La atención   None   \n",
       "331701  tt9880178         2                              La atención     ES   \n",
       "331702  tt9880178         3                            The Attention    XWW   \n",
       "\n",
       "       language        types   attributes  is_original_title  \n",
       "0            bg         None         None                0.0  \n",
       "1          None  imdbDisplay         None                0.0  \n",
       "2          None  imdbDisplay         None                0.0  \n",
       "3          None         None  short title                0.0  \n",
       "4          None  imdbDisplay         None                0.0  \n",
       "...         ...          ...          ...                ...  \n",
       "331698     None     original         None                1.0  \n",
       "331699       en  imdbDisplay         None                0.0  \n",
       "331700     None     original         None                1.0  \n",
       "331701     None         None         None                0.0  \n",
       "331702       en  imdbDisplay         None                0.0  \n",
       "\n",
       "[331703 rows x 8 columns]"
      ]
     },
     "execution_count": 44,
     "metadata": {},
     "output_type": "execute_result"
    }
   ],
   "source": [
    "# Checking for info and structure of movie_akas dataframe\n",
    "movie_akas = imdb_tables['movie_akas']\n",
    "print(movie_akas.info())\n",
    "print(movie_akas.shape)\n",
    "print(movie_akas.isna().any())\n",
    "print(movie_akas.isna().sum())\n",
    "\n",
    "movie_akas\n"
   ]
  },
  {
   "cell_type": "markdown",
   "metadata": {},
   "source": [
    "- THe dataframe contains 331703 rows and 8 columns with several missing values."
   ]
  },
  {
   "cell_type": "code",
   "execution_count": 45,
   "metadata": {},
   "outputs": [
    {
     "name": "stdout",
     "output_type": "stream",
     "text": [
      "<class 'pandas.core.frame.DataFrame'>\n",
      "RangeIndex: 331703 entries, 0 to 331702\n",
      "Data columns (total 5 columns):\n",
      " #   Column       Non-Null Count   Dtype \n",
      "---  ------       --------------   ----- \n",
      " 0   movie_id     331703 non-null  object\n",
      " 1   ordering     331703 non-null  int64 \n",
      " 2   title        331703 non-null  object\n",
      " 3   region       331703 non-null  object\n",
      " 4   region_full  331703 non-null  object\n",
      "dtypes: int64(1), object(4)\n",
      "memory usage: 12.7+ MB\n"
     ]
    }
   ],
   "source": [
    "movie_akas_clean = imdb_tables['movie_akas'].copy(deep=True)\n",
    "#filling missing regions with unknown\n",
    "movie_akas_clean['region'] = movie_akas_clean['region'].fillna(\"UNK\")\n",
    "#due to high missingness, drop the language table, the  types column too, attribiutes too, is_original also goes down\n",
    "movie_akas_clean = movie_akas_clean.drop(['language','types', 'attributes', 'is_original_title'], axis=1)\n",
    "movie_akas_clean['region'].unique()\n",
    "region_map = {\n",
    "    'AD': 'Andorra',\n",
    "    'AE': 'United Arab Emirates',\n",
    "    'AF': 'Afghanistan',\n",
    "    'AG': 'Antigua and Barbuda',\n",
    "    'AI': 'Anguilla',\n",
    "    'AL': 'Albania',\n",
    "    'AM': 'Armenia',\n",
    "    'AN': 'Netherlands Antilles (former)',\n",
    "    'AO': 'Angola',\n",
    "    'AQ': 'Antarctica',\n",
    "    'AR': 'Argentina',\n",
    "    'AS': 'American Samoa',\n",
    "    'AT': 'Austria',\n",
    "    'AU': 'Australia',\n",
    "    'AW': 'Aruba',\n",
    "    'AZ': 'Azerbaijan',\n",
    "    'BA': 'Bosnia and Herzegovina',\n",
    "    'BB': 'Barbados',\n",
    "    'BD': 'Bangladesh',\n",
    "    'BE': 'Belgium',\n",
    "    'BF': 'Burkina Faso',\n",
    "    'BG': 'Bulgaria',\n",
    "    'BH': 'Bahrain',\n",
    "    'BI': 'Burundi',\n",
    "    'BJ': 'Benin',\n",
    "    'BM': 'Bermuda',\n",
    "    'BN': 'Brunei Darussalam',\n",
    "    'BO': 'Bolivia',\n",
    "    'BR': 'Brazil',\n",
    "    'BS': 'Bahamas',\n",
    "    'BT': 'Bhutan',\n",
    "    'BUMM': 'Burma (former name for Myanmar)',\n",
    "    'BY': 'Belarus',\n",
    "    'BZ': 'Belize',\n",
    "    'CA': 'Canada',\n",
    "    'CD': 'Congo, Democratic Republic of the',\n",
    "    'CF': 'Central African Republic',\n",
    "    'CG': 'Congo, Republic of the',\n",
    "    'CH': 'Switzerland',\n",
    "    'CI': 'Côte d\\'Ivoire',\n",
    "    'CL': 'Chile',\n",
    "    'CM': 'Cameroon',\n",
    "    'CN': 'China',\n",
    "    'CO': 'Colombia',\n",
    "    'CR': 'Costa Rica',\n",
    "    'CSHH': 'Czechoslovakia (former)',\n",
    "    'CSXX': 'Serbia and Montenegro (former)',\n",
    "    'CU': 'Cuba',\n",
    "    'CV': 'Cabo Verde',\n",
    "    'CY': 'Cyprus',\n",
    "    'CZ': 'Czechia',\n",
    "    'DE': 'Germany',\n",
    "    'DK': 'Denmark',\n",
    "    'DM': 'Dominica',\n",
    "    'DO': 'Dominican Republic',\n",
    "    'DZ': 'Algeria',\n",
    "    'EC': 'Ecuador',\n",
    "    'EE': 'Estonia',\n",
    "    'EG': 'Egypt',\n",
    "    'EH': 'Western Sahara',\n",
    "    'ER': 'Eritrea',\n",
    "    'ES': 'Spain',\n",
    "    'ET': 'Ethiopia',\n",
    "    'FI': 'Finland',\n",
    "    'FJ': 'Fiji',\n",
    "    'FO': 'Faroe Islands',\n",
    "    'FR': 'France',\n",
    "    'GA': 'Gabon',\n",
    "    'GB': 'United Kingdom',\n",
    "    'GE': 'Georgia',\n",
    "    'GH': 'Ghana',\n",
    "    'GL': 'Greenland',\n",
    "    'GM': 'Gambia',\n",
    "    'GP': 'Guadeloupe',\n",
    "    'GR': 'Greece',\n",
    "    'GT': 'Guatemala',\n",
    "    'GU': 'Guam',\n",
    "    'GW': 'Guinea-Bissau',\n",
    "    'HK': 'Hong Kong',\n",
    "    'HN': 'Honduras',\n",
    "    'HR': 'Croatia',\n",
    "    'HT': 'Haiti',\n",
    "    'HU': 'Hungary',\n",
    "    'ID': 'Indonesia',\n",
    "    'IE': 'Ireland',\n",
    "    'IL': 'Israel',\n",
    "    'IM': 'Isle of Man',\n",
    "    'IN': 'India',\n",
    "    'IQ': 'Iraq',\n",
    "    'IR': 'Iran',\n",
    "    'IS': 'Iceland',\n",
    "    'IT': 'Italy',\n",
    "    'JM': 'Jamaica',\n",
    "    'JO': 'Jordan',\n",
    "    'JP': 'Japan',\n",
    "    'KE': 'Kenya',\n",
    "    'KG': 'Kyrgyzstan',\n",
    "    'KH': 'Cambodia',\n",
    "    'KN': 'Saint Kitts and Nevis',\n",
    "    'KP': 'North Korea',\n",
    "    'KR': 'South Korea',\n",
    "    'KW': 'Kuwait',\n",
    "    'KY': 'Cayman Islands',\n",
    "    'KZ': 'Kazakhstan',\n",
    "    'LA': 'Laos',\n",
    "    'LB': 'Lebanon',\n",
    "    'LC': 'Saint Lucia',\n",
    "    'LI': 'Liechtenstein',\n",
    "    'LK': 'Sri Lanka',\n",
    "    'LR': 'Liberia',\n",
    "    'LS': 'Lesotho',\n",
    "    'LT': 'Lithuania',\n",
    "    'LU': 'Luxembourg',\n",
    "    'LV': 'Latvia',\n",
    "    'LY': 'Libya',\n",
    "    'MA': 'Morocco',\n",
    "    'MC': 'Monaco',\n",
    "    'MD': 'Moldova',\n",
    "    'ME': 'Montenegro',\n",
    "    'MG': 'Madagascar',\n",
    "    'MH': 'Marshall Islands',\n",
    "    'MK': 'North Macedonia',\n",
    "    'ML': 'Mali',\n",
    "    'MM': 'Myanmar',\n",
    "    'MN': 'Mongolia',\n",
    "    'MO': 'Macao',\n",
    "    'MQ': 'Martinique',\n",
    "    'MR': 'Mauritania',\n",
    "    'MT': 'Malta',\n",
    "    'MU': 'Mauritius',\n",
    "    'MV': 'Maldives',\n",
    "    'MW': 'Malawi',\n",
    "    'MX': 'Mexico',\n",
    "    'MY': 'Malaysia',\n",
    "    'MZ': 'Mozambique',\n",
    "    'NC': 'New Caledonia',\n",
    "    'NE': 'Niger',\n",
    "    'NG': 'Nigeria',\n",
    "    'NI': 'Nicaragua',\n",
    "    'NL': 'Netherlands',\n",
    "    'NO': 'Norway',\n",
    "    'NP': 'Nepal',\n",
    "    'NZ': 'New Zealand',\n",
    "    'OM': 'Oman',\n",
    "    'PA': 'Panama',\n",
    "    'PE': 'Peru',\n",
    "    'PF': 'French Polynesia',\n",
    "    'PG': 'Papua New Guinea',\n",
    "    'PH': 'Philippines',\n",
    "    'PK': 'Pakistan',\n",
    "    'PL': 'Poland',\n",
    "    'PR': 'Puerto Rico',\n",
    "    'PS': 'Palestine, State of',\n",
    "    'PT': 'Portugal',\n",
    "    'PY': 'Paraguay',\n",
    "    'QA': 'Qatar',\n",
    "    'RE': 'Réunion',\n",
    "    'RO': 'Romania',\n",
    "    'RS': 'Serbia',\n",
    "    'RU': 'Russia',\n",
    "    'RW': 'Rwanda',\n",
    "    'SA': 'Saudi Arabia',\n",
    "    'SB': 'Solomon Islands',\n",
    "    'SD': 'Sudan',\n",
    "    'SE': 'Sweden',\n",
    "    'SG': 'Singapore',\n",
    "    'SI': 'Slovenia',\n",
    "    'SK': 'Slovakia',\n",
    "    'SL': 'Sierra Leone',\n",
    "    'SM': 'San Marino',\n",
    "    'SN': 'Senegal',\n",
    "    'SO': 'Somalia',\n",
    "    'SR': 'Suriname',\n",
    "    'SUHH': 'Soviet Union (former)',\n",
    "    'SV': 'El Salvador',\n",
    "    'SY': 'Syrian Arab Republic',\n",
    "    'SZ': 'Eswatini',\n",
    "    'TD': 'Chad',\n",
    "    'TG': 'Togo',\n",
    "    'TH': 'Thailand',\n",
    "    'TJ': 'Tajikistan',\n",
    "    'TL': 'Timor-Leste',\n",
    "    'TM': 'Turkmenistan',\n",
    "    'TN': 'Tunisia',\n",
    "    'TO': 'Tonga',\n",
    "    'TR': 'Turkey',\n",
    "    'TT': 'Trinidad and Tobago',\n",
    "    'TW': 'Taiwan',\n",
    "    'TZ': 'Tanzania',\n",
    "    'UA': 'Ukraine',\n",
    "    'UG': 'Uganda',\n",
    "    'UNK': 'Unknown',\n",
    "    'US': 'United States',\n",
    "    'UY': 'Uruguay',\n",
    "    'UZ': 'Uzbekistan',\n",
    "    'VC': 'Saint Vincent and the Grenadines',\n",
    "    'VE': 'Venezuela',\n",
    "    'VI': 'Virgin Islands, U.S.',\n",
    "    'VN': 'Vietnam',\n",
    "    'VU': 'Vanuatu',\n",
    "    'WF': 'Wallis and Futuna',\n",
    "    'XAS': 'Southeast Asia (unofficial)',\n",
    "    'XEU': 'Europe (unofficial)',\n",
    "    'XKO': 'Kosovo (unofficial)',\n",
    "    'XKV': 'Kosovo (under UNSC resolution)',\n",
    "    'XNA': 'North America (unofficial)',\n",
    "    'XSA': 'South Asia (unofficial)',\n",
    "    'XWG': 'West Germany (former)',\n",
    "    'XWW': 'World-wide (English title)',\n",
    "    'XYU': 'Yugoslavia (former)',\n",
    "    'YE': 'Yemen',\n",
    "    'ZA': 'South Africa',\n",
    "    'ZM': 'Zambia',\n",
    "    'ZW': 'Zimbabwe'\n",
    "}\n",
    "movie_akas_clean['region_full'] = movie_akas_clean['region'].map(region_map).str.upper()\n",
    "movie_akas_clean.duplicated().sum()\n",
    "\n",
    "movie_akas_clean.info()"
   ]
  },
  {
   "cell_type": "code",
   "execution_count": 46,
   "metadata": {},
   "outputs": [
    {
     "name": "stdout",
     "output_type": "stream",
     "text": [
      "<class 'pandas.core.frame.DataFrame'>\n",
      "RangeIndex: 255873 entries, 0 to 255872\n",
      "Data columns (total 2 columns):\n",
      " #   Column     Non-Null Count   Dtype \n",
      "---  ------     --------------   ----- \n",
      " 0   movie_id   255873 non-null  object\n",
      " 1   person_id  255873 non-null  object\n",
      "dtypes: object(2)\n",
      "memory usage: 3.9+ MB\n"
     ]
    },
    {
     "data": {
      "text/plain": [
       "(255873, 2)"
      ]
     },
     "execution_count": 46,
     "metadata": {},
     "output_type": "execute_result"
    }
   ],
   "source": [
    "# Checking the structure of writers dataframe\n",
    "writers = imdb_tables['writers']\n",
    "writers.info()\n",
    "writers.shape"
   ]
  },
  {
   "cell_type": "markdown",
   "metadata": {},
   "source": [
    "- `Writers` dataframe has 2 columns and 255873 with no missing values."
   ]
  },
  {
   "cell_type": "code",
   "execution_count": 47,
   "metadata": {},
   "outputs": [
    {
     "name": "stdout",
     "output_type": "stream",
     "text": [
      "Dropped 77521 duplicate rows.\n",
      "(178352, 2)\n"
     ]
    }
   ],
   "source": [
    "writers_clean = imdb_tables['writers'].copy(deep=True)\n",
    "before = writers_clean.shape[0]\n",
    "writers_clean.drop_duplicates(keep='first', inplace=True)\n",
    "after = writers_clean.shape[0]\n",
    "print(f\"Dropped {before - after} duplicate rows.\")\n",
    "print(writers_clean.shape)"
   ]
  },
  {
   "cell_type": "markdown",
   "metadata": {},
   "source": [
    "### **Dataset 2**: Rotten Tomatoes `rt.movie_info`"
   ]
  },
  {
   "cell_type": "code",
   "execution_count": 48,
   "metadata": {},
   "outputs": [],
   "source": [
    "#Make a copy\n",
    "rt_info1 = rt_info.copy()"
   ]
  },
  {
   "cell_type": "code",
   "execution_count": 49,
   "metadata": {},
   "outputs": [
    {
     "data": {
      "application/vnd.microsoft.datawrangler.viewer.v0+json": {
       "columns": [
        {
         "name": "index",
         "rawType": "int64",
         "type": "integer"
        },
        {
         "name": "id",
         "rawType": "int64",
         "type": "integer"
        },
        {
         "name": "synopsis",
         "rawType": "object",
         "type": "unknown"
        },
        {
         "name": "rating",
         "rawType": "object",
         "type": "string"
        },
        {
         "name": "genre",
         "rawType": "object",
         "type": "string"
        },
        {
         "name": "director",
         "rawType": "object",
         "type": "string"
        },
        {
         "name": "writer",
         "rawType": "object",
         "type": "string"
        },
        {
         "name": "theater_date",
         "rawType": "object",
         "type": "unknown"
        },
        {
         "name": "dvd_date",
         "rawType": "object",
         "type": "unknown"
        },
        {
         "name": "currency",
         "rawType": "object",
         "type": "unknown"
        },
        {
         "name": "box_office",
         "rawType": "object",
         "type": "unknown"
        },
        {
         "name": "runtime",
         "rawType": "object",
         "type": "string"
        },
        {
         "name": "studio",
         "rawType": "object",
         "type": "unknown"
        }
       ],
       "ref": "f060640d-bce0-4e9a-8f6c-f0758f8e4c4d",
       "rows": [
        [
         "0",
         "1",
         "This gritty, fast-paced, and innovative police drama earned five Academy Awards, including Best Picture, Best Adapted Screenplay (written by Ernest Tidyman), and Best Actor (Gene Hackman). Jimmy \"Popeye\" Doyle (Hackman) and his partner, Buddy Russo (Roy Scheider), are New York City police detectives on narcotics detail, trying to track down the source of heroin from Europe into the United States. Suave Alain Charnier (Fernando Rey) is the French drug kingpin who provides a large percentage of New York City's dope, and Pierre Nicoli (Marcel Bozzuffi) is a hired killer and Charnier's right-hand man. Acting on a hunch, Popeye and Buddy start tailing Sal Boca (Tony Lo Bianco) and his wife, Angie (Arlene Faber), who live pretty high for a couple whose corner store brings in about 7,000 dollars a year. It turns out Popeye's suspicions are right -- Sal and Angie are the New York agents for Charnier, who will be smuggling 32 million dollars' worth of heroin into the city in a car shipped over from France. The French Connection broke plenty of new ground for screen thrillers; Popeye Doyle was a highly unusual \"hero,\" an often violent, racist, and mean-spirited cop whose dedication to his job fell just short of dangerous obsession. The film's high point, a high-speed car chase with Popeye tailing an elevated train, was one of the most viscerally exciting screen moments of its day and set the stage for dozens of action sequences to follow. And the film's grimy realism (and downbeat ending) was a big change from the buff-and-shine gloss and good-guys-always-win heroics of most police dramas that preceded it. The French Connection was inspired by a true story, and Eddie Egan and Sonny Grosso, Popeye and Buddy's real life counterparts, both have small roles in the film. A sequel followed four years later.",
         "R",
         "Action and Adventure|Classics|Drama",
         "William Friedkin",
         "Ernest Tidyman",
         "Oct 9, 1971",
         "Sep 25, 2001",
         null,
         null,
         "104 minutes",
         null
        ],
        [
         "1",
         "3",
         "New York City, not-too-distant-future: Eric Packer, a 28 year-old finance golden boy dreaming of living in a civilization ahead of this one, watches a dark shadow cast over the firmament of the Wall Street galaxy, of which he is the uncontested king. As he is chauffeured across midtown Manhattan to get a haircut at his father's old barber, his anxious eyes are glued to the yuan's exchange rate: it is mounting against all expectations, destroying Eric's bet against it. Eric Packer is losing his empire with every tick of the clock. Meanwhile, an eruption of wild activity unfolds in the city's streets. Petrified as the threats of the real world infringe upon his cloud of virtual convictions, his paranoia intensifies during the course of his 24-hour cross-town odyssey. Packer starts to piece together clues that lead him to a most terrifying secret: his imminent assassination. -- (C) Official Site",
         "R",
         "Drama|Science Fiction and Fantasy",
         "David Cronenberg",
         "David Cronenberg|Don DeLillo",
         "Aug 17, 2012",
         "Jan 1, 2013",
         "$",
         "600,000",
         "108 minutes",
         "Entertainment One"
        ],
        [
         "2",
         "5",
         "Illeana Douglas delivers a superb performance as Denise Waverly, a fictional singer and songwriter whose life bears more than a passing resemblance to that of real-life pop star Carole King. Edna Buxton, the daughter of a Philadelphia steel tycoon, aspires to a career as a singer, and when against her mother's bidding she sings a sultry version of \"Hey There (You With the Stars in Your Eyes)\" (instead of Mom's choice, \"You'll Never Walk Alone\") at a talent contest, she wins a recording contact and moves to New York City. She cuts a record and gains a new stage name, Denise Waverly; however, she soon finds that girl singers are a dime a dozen in the Big Apple and her career as a vocalist goes nowhere. But she has a knack for writing songs, and eccentric producer Joel Milner (John Turturro) asks her to pen some songs for his upcoming projects. Teamed with Howard Caszatt (Eric Stoltz), a hipster songwriter who wants to express his political and social ideals through pop tunes, she finds both a successful collaborator and husband. While her work with Howard gains Denise writing credits on a string of hit records and respect within the industry, their marriage falls apart, and she becomes involved with Jay Phillips (Matt Dillon), the gifted but unstable leader of a popular West Coast surf music combo. Students of pop music history will have a ball with the various characters modeled after real-life rock legends, and the 1960s-style song score includes numbers written by Joni Mitchell and J. Mascis (of the band Dinosaur Jr.), as well as one-time King collaborator Gerry Goffin; a collaboration between Elvis Costello and Burt Bacharach, \"God Give Me Strength,\" led to a full album written by the two great tunesmiths.",
         "R",
         "Drama|Musical and Performing Arts",
         "Allison Anders",
         "Allison Anders",
         "Sep 13, 1996",
         "Apr 18, 2000",
         null,
         null,
         "116 minutes",
         null
        ],
        [
         "3",
         "6",
         "Michael Douglas runs afoul of a treacherous supervisor in this film version of Michael Crichton's novel. Douglas plays Tom Sanders, an executive at DigiCom, a leading computer software firm. DigiCom is about to launch a new virtual reality-based data storage system that is expected to revolutionize the industry, and Bob Garvin (Donald Sutherland), the owner of the company, is in the midst of negotiating a merger that could bring",
         "R",
         "Drama|Mystery and Suspense",
         "Barry Levinson",
         "Paul Attanasio|Michael Crichton",
         "Dec 9, 1994",
         "Aug 27, 1997",
         null,
         null,
         "128 minutes",
         null
        ],
        [
         "4",
         "7",
         null,
         "NR",
         "Drama|Romance",
         "Rodney Bennett",
         "Giles Cooper",
         null,
         null,
         null,
         null,
         "200 minutes",
         null
        ]
       ],
       "shape": {
        "columns": 12,
        "rows": 5
       }
      },
      "text/html": [
       "<div>\n",
       "<style scoped>\n",
       "    .dataframe tbody tr th:only-of-type {\n",
       "        vertical-align: middle;\n",
       "    }\n",
       "\n",
       "    .dataframe tbody tr th {\n",
       "        vertical-align: top;\n",
       "    }\n",
       "\n",
       "    .dataframe thead th {\n",
       "        text-align: right;\n",
       "    }\n",
       "</style>\n",
       "<table border=\"1\" class=\"dataframe\">\n",
       "  <thead>\n",
       "    <tr style=\"text-align: right;\">\n",
       "      <th></th>\n",
       "      <th>id</th>\n",
       "      <th>synopsis</th>\n",
       "      <th>rating</th>\n",
       "      <th>genre</th>\n",
       "      <th>director</th>\n",
       "      <th>writer</th>\n",
       "      <th>theater_date</th>\n",
       "      <th>dvd_date</th>\n",
       "      <th>currency</th>\n",
       "      <th>box_office</th>\n",
       "      <th>runtime</th>\n",
       "      <th>studio</th>\n",
       "    </tr>\n",
       "  </thead>\n",
       "  <tbody>\n",
       "    <tr>\n",
       "      <th>0</th>\n",
       "      <td>1</td>\n",
       "      <td>This gritty, fast-paced, and innovative police...</td>\n",
       "      <td>R</td>\n",
       "      <td>Action and Adventure|Classics|Drama</td>\n",
       "      <td>William Friedkin</td>\n",
       "      <td>Ernest Tidyman</td>\n",
       "      <td>Oct 9, 1971</td>\n",
       "      <td>Sep 25, 2001</td>\n",
       "      <td>NaN</td>\n",
       "      <td>NaN</td>\n",
       "      <td>104 minutes</td>\n",
       "      <td>NaN</td>\n",
       "    </tr>\n",
       "    <tr>\n",
       "      <th>1</th>\n",
       "      <td>3</td>\n",
       "      <td>New York City, not-too-distant-future: Eric Pa...</td>\n",
       "      <td>R</td>\n",
       "      <td>Drama|Science Fiction and Fantasy</td>\n",
       "      <td>David Cronenberg</td>\n",
       "      <td>David Cronenberg|Don DeLillo</td>\n",
       "      <td>Aug 17, 2012</td>\n",
       "      <td>Jan 1, 2013</td>\n",
       "      <td>$</td>\n",
       "      <td>600,000</td>\n",
       "      <td>108 minutes</td>\n",
       "      <td>Entertainment One</td>\n",
       "    </tr>\n",
       "    <tr>\n",
       "      <th>2</th>\n",
       "      <td>5</td>\n",
       "      <td>Illeana Douglas delivers a superb performance ...</td>\n",
       "      <td>R</td>\n",
       "      <td>Drama|Musical and Performing Arts</td>\n",
       "      <td>Allison Anders</td>\n",
       "      <td>Allison Anders</td>\n",
       "      <td>Sep 13, 1996</td>\n",
       "      <td>Apr 18, 2000</td>\n",
       "      <td>NaN</td>\n",
       "      <td>NaN</td>\n",
       "      <td>116 minutes</td>\n",
       "      <td>NaN</td>\n",
       "    </tr>\n",
       "    <tr>\n",
       "      <th>3</th>\n",
       "      <td>6</td>\n",
       "      <td>Michael Douglas runs afoul of a treacherous su...</td>\n",
       "      <td>R</td>\n",
       "      <td>Drama|Mystery and Suspense</td>\n",
       "      <td>Barry Levinson</td>\n",
       "      <td>Paul Attanasio|Michael Crichton</td>\n",
       "      <td>Dec 9, 1994</td>\n",
       "      <td>Aug 27, 1997</td>\n",
       "      <td>NaN</td>\n",
       "      <td>NaN</td>\n",
       "      <td>128 minutes</td>\n",
       "      <td>NaN</td>\n",
       "    </tr>\n",
       "    <tr>\n",
       "      <th>4</th>\n",
       "      <td>7</td>\n",
       "      <td>NaN</td>\n",
       "      <td>NR</td>\n",
       "      <td>Drama|Romance</td>\n",
       "      <td>Rodney Bennett</td>\n",
       "      <td>Giles Cooper</td>\n",
       "      <td>NaN</td>\n",
       "      <td>NaN</td>\n",
       "      <td>NaN</td>\n",
       "      <td>NaN</td>\n",
       "      <td>200 minutes</td>\n",
       "      <td>NaN</td>\n",
       "    </tr>\n",
       "  </tbody>\n",
       "</table>\n",
       "</div>"
      ],
      "text/plain": [
       "   id                                           synopsis rating  \\\n",
       "0   1  This gritty, fast-paced, and innovative police...      R   \n",
       "1   3  New York City, not-too-distant-future: Eric Pa...      R   \n",
       "2   5  Illeana Douglas delivers a superb performance ...      R   \n",
       "3   6  Michael Douglas runs afoul of a treacherous su...      R   \n",
       "4   7                                                NaN     NR   \n",
       "\n",
       "                                 genre          director  \\\n",
       "0  Action and Adventure|Classics|Drama  William Friedkin   \n",
       "1    Drama|Science Fiction and Fantasy  David Cronenberg   \n",
       "2    Drama|Musical and Performing Arts    Allison Anders   \n",
       "3           Drama|Mystery and Suspense    Barry Levinson   \n",
       "4                        Drama|Romance    Rodney Bennett   \n",
       "\n",
       "                            writer  theater_date      dvd_date currency  \\\n",
       "0                   Ernest Tidyman   Oct 9, 1971  Sep 25, 2001      NaN   \n",
       "1     David Cronenberg|Don DeLillo  Aug 17, 2012   Jan 1, 2013        $   \n",
       "2                   Allison Anders  Sep 13, 1996  Apr 18, 2000      NaN   \n",
       "3  Paul Attanasio|Michael Crichton   Dec 9, 1994  Aug 27, 1997      NaN   \n",
       "4                     Giles Cooper           NaN           NaN      NaN   \n",
       "\n",
       "  box_office      runtime             studio  \n",
       "0        NaN  104 minutes                NaN  \n",
       "1    600,000  108 minutes  Entertainment One  \n",
       "2        NaN  116 minutes                NaN  \n",
       "3        NaN  128 minutes                NaN  \n",
       "4        NaN  200 minutes                NaN  "
      ]
     },
     "execution_count": 49,
     "metadata": {},
     "output_type": "execute_result"
    }
   ],
   "source": [
    "#Check a few rows of the dataset\n",
    "rt_info1.head()"
   ]
  },
  {
   "cell_type": "code",
   "execution_count": 50,
   "metadata": {},
   "outputs": [
    {
     "data": {
      "text/plain": [
       "(1560, 12)"
      ]
     },
     "execution_count": 50,
     "metadata": {},
     "output_type": "execute_result"
    }
   ],
   "source": [
    "#Data shape\n",
    "rt_info1.shape"
   ]
  },
  {
   "cell_type": "markdown",
   "metadata": {},
   "source": [
    "We have 1560 records and 12 columns."
   ]
  },
  {
   "cell_type": "code",
   "execution_count": 51,
   "metadata": {},
   "outputs": [
    {
     "name": "stdout",
     "output_type": "stream",
     "text": [
      "<class 'pandas.core.frame.DataFrame'>\n",
      "RangeIndex: 1560 entries, 0 to 1559\n",
      "Data columns (total 12 columns):\n",
      " #   Column        Non-Null Count  Dtype \n",
      "---  ------        --------------  ----- \n",
      " 0   id            1560 non-null   int64 \n",
      " 1   synopsis      1498 non-null   object\n",
      " 2   rating        1557 non-null   object\n",
      " 3   genre         1552 non-null   object\n",
      " 4   director      1361 non-null   object\n",
      " 5   writer        1111 non-null   object\n",
      " 6   theater_date  1201 non-null   object\n",
      " 7   dvd_date      1201 non-null   object\n",
      " 8   currency      340 non-null    object\n",
      " 9   box_office    340 non-null    object\n",
      " 10  runtime       1530 non-null   object\n",
      " 11  studio        494 non-null    object\n",
      "dtypes: int64(1), object(11)\n",
      "memory usage: 146.4+ KB\n"
     ]
    }
   ],
   "source": [
    "# Data info\n",
    "rt_info1.info()"
   ]
  },
  {
   "cell_type": "code",
   "execution_count": 52,
   "metadata": {},
   "outputs": [
    {
     "data": {
      "application/vnd.microsoft.datawrangler.viewer.v0+json": {
       "columns": [
        {
         "name": "index",
         "rawType": "int64",
         "type": "integer"
        },
        {
         "name": "id",
         "rawType": "int64",
         "type": "integer"
        },
        {
         "name": "synopsis",
         "rawType": "object",
         "type": "unknown"
        },
        {
         "name": "rating",
         "rawType": "object",
         "type": "string"
        },
        {
         "name": "genre",
         "rawType": "object",
         "type": "string"
        },
        {
         "name": "director",
         "rawType": "object",
         "type": "string"
        },
        {
         "name": "writer",
         "rawType": "object",
         "type": "string"
        },
        {
         "name": "theater_date",
         "rawType": "object",
         "type": "unknown"
        },
        {
         "name": "dvd_date",
         "rawType": "object",
         "type": "unknown"
        },
        {
         "name": "currency",
         "rawType": "object",
         "type": "unknown"
        },
        {
         "name": "box_office",
         "rawType": "object",
         "type": "unknown"
        },
        {
         "name": "runtime",
         "rawType": "object",
         "type": "string"
        },
        {
         "name": "studio",
         "rawType": "object",
         "type": "unknown"
        }
       ],
       "ref": "823edb21-64ba-4954-b11a-4f251f20da7d",
       "rows": [
        [
         "0",
         "1",
         "This gritty, fast-paced, and innovative police drama earned five Academy Awards, including Best Picture, Best Adapted Screenplay (written by Ernest Tidyman), and Best Actor (Gene Hackman). Jimmy \"Popeye\" Doyle (Hackman) and his partner, Buddy Russo (Roy Scheider), are New York City police detectives on narcotics detail, trying to track down the source of heroin from Europe into the United States. Suave Alain Charnier (Fernando Rey) is the French drug kingpin who provides a large percentage of New York City's dope, and Pierre Nicoli (Marcel Bozzuffi) is a hired killer and Charnier's right-hand man. Acting on a hunch, Popeye and Buddy start tailing Sal Boca (Tony Lo Bianco) and his wife, Angie (Arlene Faber), who live pretty high for a couple whose corner store brings in about 7,000 dollars a year. It turns out Popeye's suspicions are right -- Sal and Angie are the New York agents for Charnier, who will be smuggling 32 million dollars' worth of heroin into the city in a car shipped over from France. The French Connection broke plenty of new ground for screen thrillers; Popeye Doyle was a highly unusual \"hero,\" an often violent, racist, and mean-spirited cop whose dedication to his job fell just short of dangerous obsession. The film's high point, a high-speed car chase with Popeye tailing an elevated train, was one of the most viscerally exciting screen moments of its day and set the stage for dozens of action sequences to follow. And the film's grimy realism (and downbeat ending) was a big change from the buff-and-shine gloss and good-guys-always-win heroics of most police dramas that preceded it. The French Connection was inspired by a true story, and Eddie Egan and Sonny Grosso, Popeye and Buddy's real life counterparts, both have small roles in the film. A sequel followed four years later.",
         "R",
         "Action and Adventure|Classics|Drama",
         "William Friedkin",
         "Ernest Tidyman",
         "Oct 9, 1971",
         "Sep 25, 2001",
         null,
         null,
         "104 minutes",
         null
        ],
        [
         "1",
         "3",
         "New York City, not-too-distant-future: Eric Packer, a 28 year-old finance golden boy dreaming of living in a civilization ahead of this one, watches a dark shadow cast over the firmament of the Wall Street galaxy, of which he is the uncontested king. As he is chauffeured across midtown Manhattan to get a haircut at his father's old barber, his anxious eyes are glued to the yuan's exchange rate: it is mounting against all expectations, destroying Eric's bet against it. Eric Packer is losing his empire with every tick of the clock. Meanwhile, an eruption of wild activity unfolds in the city's streets. Petrified as the threats of the real world infringe upon his cloud of virtual convictions, his paranoia intensifies during the course of his 24-hour cross-town odyssey. Packer starts to piece together clues that lead him to a most terrifying secret: his imminent assassination. -- (C) Official Site",
         "R",
         "Drama|Science Fiction and Fantasy",
         "David Cronenberg",
         "David Cronenberg|Don DeLillo",
         "Aug 17, 2012",
         "Jan 1, 2013",
         "$",
         "600,000",
         "108 minutes",
         "Entertainment One"
        ],
        [
         "2",
         "5",
         "Illeana Douglas delivers a superb performance as Denise Waverly, a fictional singer and songwriter whose life bears more than a passing resemblance to that of real-life pop star Carole King. Edna Buxton, the daughter of a Philadelphia steel tycoon, aspires to a career as a singer, and when against her mother's bidding she sings a sultry version of \"Hey There (You With the Stars in Your Eyes)\" (instead of Mom's choice, \"You'll Never Walk Alone\") at a talent contest, she wins a recording contact and moves to New York City. She cuts a record and gains a new stage name, Denise Waverly; however, she soon finds that girl singers are a dime a dozen in the Big Apple and her career as a vocalist goes nowhere. But she has a knack for writing songs, and eccentric producer Joel Milner (John Turturro) asks her to pen some songs for his upcoming projects. Teamed with Howard Caszatt (Eric Stoltz), a hipster songwriter who wants to express his political and social ideals through pop tunes, she finds both a successful collaborator and husband. While her work with Howard gains Denise writing credits on a string of hit records and respect within the industry, their marriage falls apart, and she becomes involved with Jay Phillips (Matt Dillon), the gifted but unstable leader of a popular West Coast surf music combo. Students of pop music history will have a ball with the various characters modeled after real-life rock legends, and the 1960s-style song score includes numbers written by Joni Mitchell and J. Mascis (of the band Dinosaur Jr.), as well as one-time King collaborator Gerry Goffin; a collaboration between Elvis Costello and Burt Bacharach, \"God Give Me Strength,\" led to a full album written by the two great tunesmiths.",
         "R",
         "Drama|Musical and Performing Arts",
         "Allison Anders",
         "Allison Anders",
         "Sep 13, 1996",
         "Apr 18, 2000",
         null,
         null,
         "116 minutes",
         null
        ],
        [
         "3",
         "6",
         "Michael Douglas runs afoul of a treacherous supervisor in this film version of Michael Crichton's novel. Douglas plays Tom Sanders, an executive at DigiCom, a leading computer software firm. DigiCom is about to launch a new virtual reality-based data storage system that is expected to revolutionize the industry, and Bob Garvin (Donald Sutherland), the owner of the company, is in the midst of negotiating a merger that could bring",
         "R",
         "Drama|Mystery and Suspense",
         "Barry Levinson",
         "Paul Attanasio|Michael Crichton",
         "Dec 9, 1994",
         "Aug 27, 1997",
         null,
         null,
         "128 minutes",
         null
        ],
        [
         "4",
         "7",
         null,
         "NR",
         "Drama|Romance",
         "Rodney Bennett",
         "Giles Cooper",
         null,
         null,
         null,
         null,
         "200 minutes",
         null
        ]
       ],
       "shape": {
        "columns": 12,
        "rows": 5
       }
      },
      "text/html": [
       "<div>\n",
       "<style scoped>\n",
       "    .dataframe tbody tr th:only-of-type {\n",
       "        vertical-align: middle;\n",
       "    }\n",
       "\n",
       "    .dataframe tbody tr th {\n",
       "        vertical-align: top;\n",
       "    }\n",
       "\n",
       "    .dataframe thead th {\n",
       "        text-align: right;\n",
       "    }\n",
       "</style>\n",
       "<table border=\"1\" class=\"dataframe\">\n",
       "  <thead>\n",
       "    <tr style=\"text-align: right;\">\n",
       "      <th></th>\n",
       "      <th>id</th>\n",
       "      <th>synopsis</th>\n",
       "      <th>rating</th>\n",
       "      <th>genre</th>\n",
       "      <th>director</th>\n",
       "      <th>writer</th>\n",
       "      <th>theater_date</th>\n",
       "      <th>dvd_date</th>\n",
       "      <th>currency</th>\n",
       "      <th>box_office</th>\n",
       "      <th>runtime</th>\n",
       "      <th>studio</th>\n",
       "    </tr>\n",
       "  </thead>\n",
       "  <tbody>\n",
       "    <tr>\n",
       "      <th>0</th>\n",
       "      <td>1</td>\n",
       "      <td>This gritty, fast-paced, and innovative police...</td>\n",
       "      <td>R</td>\n",
       "      <td>Action and Adventure|Classics|Drama</td>\n",
       "      <td>William Friedkin</td>\n",
       "      <td>Ernest Tidyman</td>\n",
       "      <td>Oct 9, 1971</td>\n",
       "      <td>Sep 25, 2001</td>\n",
       "      <td>NaN</td>\n",
       "      <td>NaN</td>\n",
       "      <td>104 minutes</td>\n",
       "      <td>NaN</td>\n",
       "    </tr>\n",
       "    <tr>\n",
       "      <th>1</th>\n",
       "      <td>3</td>\n",
       "      <td>New York City, not-too-distant-future: Eric Pa...</td>\n",
       "      <td>R</td>\n",
       "      <td>Drama|Science Fiction and Fantasy</td>\n",
       "      <td>David Cronenberg</td>\n",
       "      <td>David Cronenberg|Don DeLillo</td>\n",
       "      <td>Aug 17, 2012</td>\n",
       "      <td>Jan 1, 2013</td>\n",
       "      <td>$</td>\n",
       "      <td>600,000</td>\n",
       "      <td>108 minutes</td>\n",
       "      <td>Entertainment One</td>\n",
       "    </tr>\n",
       "    <tr>\n",
       "      <th>2</th>\n",
       "      <td>5</td>\n",
       "      <td>Illeana Douglas delivers a superb performance ...</td>\n",
       "      <td>R</td>\n",
       "      <td>Drama|Musical and Performing Arts</td>\n",
       "      <td>Allison Anders</td>\n",
       "      <td>Allison Anders</td>\n",
       "      <td>Sep 13, 1996</td>\n",
       "      <td>Apr 18, 2000</td>\n",
       "      <td>NaN</td>\n",
       "      <td>NaN</td>\n",
       "      <td>116 minutes</td>\n",
       "      <td>NaN</td>\n",
       "    </tr>\n",
       "    <tr>\n",
       "      <th>3</th>\n",
       "      <td>6</td>\n",
       "      <td>Michael Douglas runs afoul of a treacherous su...</td>\n",
       "      <td>R</td>\n",
       "      <td>Drama|Mystery and Suspense</td>\n",
       "      <td>Barry Levinson</td>\n",
       "      <td>Paul Attanasio|Michael Crichton</td>\n",
       "      <td>Dec 9, 1994</td>\n",
       "      <td>Aug 27, 1997</td>\n",
       "      <td>NaN</td>\n",
       "      <td>NaN</td>\n",
       "      <td>128 minutes</td>\n",
       "      <td>NaN</td>\n",
       "    </tr>\n",
       "    <tr>\n",
       "      <th>4</th>\n",
       "      <td>7</td>\n",
       "      <td>NaN</td>\n",
       "      <td>NR</td>\n",
       "      <td>Drama|Romance</td>\n",
       "      <td>Rodney Bennett</td>\n",
       "      <td>Giles Cooper</td>\n",
       "      <td>NaN</td>\n",
       "      <td>NaN</td>\n",
       "      <td>NaN</td>\n",
       "      <td>NaN</td>\n",
       "      <td>200 minutes</td>\n",
       "      <td>NaN</td>\n",
       "    </tr>\n",
       "  </tbody>\n",
       "</table>\n",
       "</div>"
      ],
      "text/plain": [
       "   id                                           synopsis rating  \\\n",
       "0   1  This gritty, fast-paced, and innovative police...      R   \n",
       "1   3  New York City, not-too-distant-future: Eric Pa...      R   \n",
       "2   5  Illeana Douglas delivers a superb performance ...      R   \n",
       "3   6  Michael Douglas runs afoul of a treacherous su...      R   \n",
       "4   7                                                NaN     NR   \n",
       "\n",
       "                                 genre          director  \\\n",
       "0  Action and Adventure|Classics|Drama  William Friedkin   \n",
       "1    Drama|Science Fiction and Fantasy  David Cronenberg   \n",
       "2    Drama|Musical and Performing Arts    Allison Anders   \n",
       "3           Drama|Mystery and Suspense    Barry Levinson   \n",
       "4                        Drama|Romance    Rodney Bennett   \n",
       "\n",
       "                            writer  theater_date      dvd_date currency  \\\n",
       "0                   Ernest Tidyman   Oct 9, 1971  Sep 25, 2001      NaN   \n",
       "1     David Cronenberg|Don DeLillo  Aug 17, 2012   Jan 1, 2013        $   \n",
       "2                   Allison Anders  Sep 13, 1996  Apr 18, 2000      NaN   \n",
       "3  Paul Attanasio|Michael Crichton   Dec 9, 1994  Aug 27, 1997      NaN   \n",
       "4                     Giles Cooper           NaN           NaN      NaN   \n",
       "\n",
       "  box_office      runtime             studio  \n",
       "0        NaN  104 minutes                NaN  \n",
       "1    600,000  108 minutes  Entertainment One  \n",
       "2        NaN  116 minutes                NaN  \n",
       "3        NaN  128 minutes                NaN  \n",
       "4        NaN  200 minutes                NaN  "
      ]
     },
     "execution_count": 52,
     "metadata": {},
     "output_type": "execute_result"
    }
   ],
   "source": [
    "#Drop duplicates\n",
    "rt_info1.drop_duplicates().head()"
   ]
  },
  {
   "cell_type": "code",
   "execution_count": 53,
   "metadata": {},
   "outputs": [],
   "source": [
    "#Drop the nulls in the theater date column\n",
    "rt_info1.dropna(subset=['theater_date'],inplace=True)"
   ]
  },
  {
   "cell_type": "code",
   "execution_count": 54,
   "metadata": {},
   "outputs": [],
   "source": [
    "# Drop columns with too many nulls\n",
    "rt_info1.drop(columns=['currency','box_office','studio'],inplace=True)\n"
   ]
  },
  {
   "cell_type": "code",
   "execution_count": 55,
   "metadata": {},
   "outputs": [
    {
     "name": "stdout",
     "output_type": "stream",
     "text": [
      "<class 'pandas.core.frame.DataFrame'>\n",
      "Index: 1201 entries, 0 to 1559\n",
      "Data columns (total 9 columns):\n",
      " #   Column        Non-Null Count  Dtype \n",
      "---  ------        --------------  ----- \n",
      " 0   id            1201 non-null   int64 \n",
      " 1   synopsis      1198 non-null   object\n",
      " 2   rating        1201 non-null   object\n",
      " 3   genre         1201 non-null   object\n",
      " 4   director      1083 non-null   object\n",
      " 5   writer        938 non-null    object\n",
      " 6   theater_date  1201 non-null   object\n",
      " 7   dvd_date      1201 non-null   object\n",
      " 8   runtime       1194 non-null   object\n",
      "dtypes: int64(1), object(8)\n",
      "memory usage: 93.8+ KB\n"
     ]
    }
   ],
   "source": [
    "#Get info again\n",
    "rt_info1.info()"
   ]
  },
  {
   "cell_type": "code",
   "execution_count": 56,
   "metadata": {},
   "outputs": [],
   "source": [
    "# Convert theatre date to datetime\n",
    "rt_info1['theater_date']=pd.to_datetime(rt_info1['theater_date']) \n",
    "\n",
    "# Convert theatre date to datetime\n",
    "rt_info1['dvd_date'] =pd.to_datetime(rt_info1['dvd_date'])"
   ]
  },
  {
   "cell_type": "code",
   "execution_count": 57,
   "metadata": {},
   "outputs": [],
   "source": [
    "#Convert runtime to integer\n",
    "rt_info1['runtime']= rt_info1['runtime'].str.replace('minutes','',regex=False)\n"
   ]
  },
  {
   "cell_type": "code",
   "execution_count": 58,
   "metadata": {},
   "outputs": [
    {
     "data": {
      "application/vnd.microsoft.datawrangler.viewer.v0+json": {
       "columns": [
        {
         "name": "index",
         "rawType": "int64",
         "type": "integer"
        },
        {
         "name": "id",
         "rawType": "int64",
         "type": "integer"
        },
        {
         "name": "synopsis",
         "rawType": "object",
         "type": "string"
        },
        {
         "name": "rating",
         "rawType": "object",
         "type": "string"
        },
        {
         "name": "genre",
         "rawType": "object",
         "type": "string"
        },
        {
         "name": "director",
         "rawType": "object",
         "type": "string"
        },
        {
         "name": "writer",
         "rawType": "object",
         "type": "string"
        },
        {
         "name": "theater_date",
         "rawType": "datetime64[ns]",
         "type": "datetime"
        },
        {
         "name": "dvd_date",
         "rawType": "datetime64[ns]",
         "type": "datetime"
        },
        {
         "name": "runtime",
         "rawType": "object",
         "type": "unknown"
        }
       ],
       "ref": "16b59449-4c63-4da6-98af-efb4b898bbcc",
       "rows": [
        [
         "102",
         "131",
         "No Sesame. All Street. THE HAPPYTIME MURDERS is a filthy comedy set in the seedy underbelly of Los Angeles where puppets and humans coexist. Two clashing detectives with a shared secret, one human (Melissa McCarthy) and one puppet, are forced to work together again to solve the brutal murders of the former cast of a beloved classic puppet television show.",
         "R",
         "Action and Adventure|Comedy",
         "Brian Henson",
         "Todd Berger|Dee Austin Robertson",
         "2018-08-24 00:00:00",
         "2018-12-04 00:00:00",
         null
        ],
        [
         "434",
         "567",
         "Now graduated from college and out in the real world where it takes more than a cappella to get by, the Bellas return in Pitch Perfect 3, the next chapter in the beloved series that has taken in more than",
         "PG-13",
         "Comedy",
         "Trish Sie",
         "Mike White|Kay Cannon",
         "2017-12-22 00:00:00",
         "2018-03-20 00:00:00",
         null
        ],
        [
         "1023",
         "1325",
         "From the outer reaches of space to the small-town streets of suburbia, the hunt comes home in Shane Black's explosive reinvention of the Predator series. Now, the universe's most lethal hunters are stronger, smarter and deadlier than ever before, having genetically upgraded themselves with DNA from other species. When a young boy accidentally triggers their return to Earth, only a ragtag crew of ex-soldiers and a disgruntled science teacher can prevent the end of the human race.",
         "R",
         "Action and Adventure|Horror|Science Fiction and Fantasy",
         "Shane Black",
         "Shane Black|Fred Dekker",
         "2018-09-14 00:00:00",
         "2018-11-27 00:00:00",
         null
        ],
        [
         "1078",
         "1389",
         "From Ron Shelton, writer/director of Tin Cup and Bull Durham, comes the new comedy, Just Getting Started. Morgan Freeman stars as DUKE DIVER, the freewheeling manager of the luxury Palm Springs resort, the Villa Capri. DIVER may have a mysterious past, but he's a pro at making sure that life for the high-spirited residents is one big, non-stop party. But the status quo is challenged when ex-military charmer LEO (Tommy Lee Jones) checks in, triggering a competition between Duke and Leo for the top spot of Alpha male, as well as for the affections of the newly-arrived SUZIE (Rene Russo). When Duke's past suddenly catches up with him, the rivals put aside their differences and the two men reluctantly team up to stop whoever is trying to kill Duke, and also save the Villa Capri.",
         "PG-13",
         "Action and Adventure|Comedy",
         "Ron Shelton",
         "Ron Shelton",
         "2017-12-08 00:00:00",
         "2018-02-27 00:00:00",
         null
        ],
        [
         "1126",
         "1451",
         "A group of scientific researchers on a space station attempt to harness a new energy source called the \"God Particle,\" only to unleash something terrifying. Julius Onah (The Girl Is in Trouble) directed this sci-fi thriller, which stars Gugu Mbatha-Raw, David Oyelowo, Daniel Br",
         "NR",
         "Mystery and Suspense|Science Fiction and Fantasy",
         "Julius Onah",
         "Oren Uziel",
         "2018-02-04 00:00:00",
         "2019-02-05 00:00:00",
         null
        ],
        [
         "1201",
         "1541",
         "In the heatwarming live action adventure \"Disney's Christopher Robin,\" the young boy who loved embarking on adventures in the Hundred Acre Wood with a band of spirited and loveable stuffed animals, has grown up and lost his way. Now it is up to his childhood friends to venture into our world and help Christopher Robin remember the loving and playful boy who is still inside.",
         "PG",
         "Action and Adventure|Comedy|Kids and Family",
         "Marc Forster",
         "Alex Ross Perry",
         "2018-08-03 00:00:00",
         "2018-11-06 00:00:00",
         null
        ],
        [
         "1499",
         "1931",
         "Mark Felt - The Man Who Brought Down the White House centers on \"Deep Throat\", the pseudonym given to the notorious whistleblower for one of the greatest scandals of all time, Watergate. The true identity of the secret informant remained a mystery and source of much public curiosity and speculation for more than 30 years. That is until, in 2005, special agent Mark Felt shockingly revealed himself as the tipster. This unbelievable true story chronicles the personal and professional life of the brilliant and uncompromising Felt, who risked and ultimately sacrificed everything - his family, his career, his freedom - in the name of justice.",
         "PG-13",
         "Drama",
         "Peter Landesman",
         "Peter Landesman",
         "2017-09-29 00:00:00",
         "2018-01-09 00:00:00",
         null
        ]
       ],
       "shape": {
        "columns": 9,
        "rows": 7
       }
      },
      "text/html": [
       "<div>\n",
       "<style scoped>\n",
       "    .dataframe tbody tr th:only-of-type {\n",
       "        vertical-align: middle;\n",
       "    }\n",
       "\n",
       "    .dataframe tbody tr th {\n",
       "        vertical-align: top;\n",
       "    }\n",
       "\n",
       "    .dataframe thead th {\n",
       "        text-align: right;\n",
       "    }\n",
       "</style>\n",
       "<table border=\"1\" class=\"dataframe\">\n",
       "  <thead>\n",
       "    <tr style=\"text-align: right;\">\n",
       "      <th></th>\n",
       "      <th>id</th>\n",
       "      <th>synopsis</th>\n",
       "      <th>rating</th>\n",
       "      <th>genre</th>\n",
       "      <th>director</th>\n",
       "      <th>writer</th>\n",
       "      <th>theater_date</th>\n",
       "      <th>dvd_date</th>\n",
       "      <th>runtime</th>\n",
       "    </tr>\n",
       "  </thead>\n",
       "  <tbody>\n",
       "    <tr>\n",
       "      <th>102</th>\n",
       "      <td>131</td>\n",
       "      <td>No Sesame. All Street. THE HAPPYTIME MURDERS i...</td>\n",
       "      <td>R</td>\n",
       "      <td>Action and Adventure|Comedy</td>\n",
       "      <td>Brian Henson</td>\n",
       "      <td>Todd Berger|Dee Austin Robertson</td>\n",
       "      <td>2018-08-24</td>\n",
       "      <td>2018-12-04</td>\n",
       "      <td>NaN</td>\n",
       "    </tr>\n",
       "    <tr>\n",
       "      <th>434</th>\n",
       "      <td>567</td>\n",
       "      <td>Now graduated from college and out in the real...</td>\n",
       "      <td>PG-13</td>\n",
       "      <td>Comedy</td>\n",
       "      <td>Trish Sie</td>\n",
       "      <td>Mike White|Kay Cannon</td>\n",
       "      <td>2017-12-22</td>\n",
       "      <td>2018-03-20</td>\n",
       "      <td>NaN</td>\n",
       "    </tr>\n",
       "    <tr>\n",
       "      <th>1023</th>\n",
       "      <td>1325</td>\n",
       "      <td>From the outer reaches of space to the small-t...</td>\n",
       "      <td>R</td>\n",
       "      <td>Action and Adventure|Horror|Science Fiction an...</td>\n",
       "      <td>Shane Black</td>\n",
       "      <td>Shane Black|Fred Dekker</td>\n",
       "      <td>2018-09-14</td>\n",
       "      <td>2018-11-27</td>\n",
       "      <td>NaN</td>\n",
       "    </tr>\n",
       "    <tr>\n",
       "      <th>1078</th>\n",
       "      <td>1389</td>\n",
       "      <td>From Ron Shelton, writer/director of Tin Cup a...</td>\n",
       "      <td>PG-13</td>\n",
       "      <td>Action and Adventure|Comedy</td>\n",
       "      <td>Ron Shelton</td>\n",
       "      <td>Ron Shelton</td>\n",
       "      <td>2017-12-08</td>\n",
       "      <td>2018-02-27</td>\n",
       "      <td>NaN</td>\n",
       "    </tr>\n",
       "    <tr>\n",
       "      <th>1126</th>\n",
       "      <td>1451</td>\n",
       "      <td>A group of scientific researchers on a space s...</td>\n",
       "      <td>NR</td>\n",
       "      <td>Mystery and Suspense|Science Fiction and Fantasy</td>\n",
       "      <td>Julius Onah</td>\n",
       "      <td>Oren Uziel</td>\n",
       "      <td>2018-02-04</td>\n",
       "      <td>2019-02-05</td>\n",
       "      <td>NaN</td>\n",
       "    </tr>\n",
       "    <tr>\n",
       "      <th>1201</th>\n",
       "      <td>1541</td>\n",
       "      <td>In the heatwarming live action adventure \"Disn...</td>\n",
       "      <td>PG</td>\n",
       "      <td>Action and Adventure|Comedy|Kids and Family</td>\n",
       "      <td>Marc Forster</td>\n",
       "      <td>Alex Ross Perry</td>\n",
       "      <td>2018-08-03</td>\n",
       "      <td>2018-11-06</td>\n",
       "      <td>NaN</td>\n",
       "    </tr>\n",
       "    <tr>\n",
       "      <th>1499</th>\n",
       "      <td>1931</td>\n",
       "      <td>Mark Felt - The Man Who Brought Down the White...</td>\n",
       "      <td>PG-13</td>\n",
       "      <td>Drama</td>\n",
       "      <td>Peter Landesman</td>\n",
       "      <td>Peter Landesman</td>\n",
       "      <td>2017-09-29</td>\n",
       "      <td>2018-01-09</td>\n",
       "      <td>NaN</td>\n",
       "    </tr>\n",
       "  </tbody>\n",
       "</table>\n",
       "</div>"
      ],
      "text/plain": [
       "        id                                           synopsis rating  \\\n",
       "102    131  No Sesame. All Street. THE HAPPYTIME MURDERS i...      R   \n",
       "434    567  Now graduated from college and out in the real...  PG-13   \n",
       "1023  1325  From the outer reaches of space to the small-t...      R   \n",
       "1078  1389  From Ron Shelton, writer/director of Tin Cup a...  PG-13   \n",
       "1126  1451  A group of scientific researchers on a space s...     NR   \n",
       "1201  1541  In the heatwarming live action adventure \"Disn...     PG   \n",
       "1499  1931  Mark Felt - The Man Who Brought Down the White...  PG-13   \n",
       "\n",
       "                                                  genre         director  \\\n",
       "102                         Action and Adventure|Comedy     Brian Henson   \n",
       "434                                              Comedy        Trish Sie   \n",
       "1023  Action and Adventure|Horror|Science Fiction an...      Shane Black   \n",
       "1078                        Action and Adventure|Comedy      Ron Shelton   \n",
       "1126   Mystery and Suspense|Science Fiction and Fantasy      Julius Onah   \n",
       "1201        Action and Adventure|Comedy|Kids and Family     Marc Forster   \n",
       "1499                                              Drama  Peter Landesman   \n",
       "\n",
       "                                writer theater_date   dvd_date runtime  \n",
       "102   Todd Berger|Dee Austin Robertson   2018-08-24 2018-12-04     NaN  \n",
       "434              Mike White|Kay Cannon   2017-12-22 2018-03-20     NaN  \n",
       "1023           Shane Black|Fred Dekker   2018-09-14 2018-11-27     NaN  \n",
       "1078                       Ron Shelton   2017-12-08 2018-02-27     NaN  \n",
       "1126                        Oren Uziel   2018-02-04 2019-02-05     NaN  \n",
       "1201                   Alex Ross Perry   2018-08-03 2018-11-06     NaN  \n",
       "1499                   Peter Landesman   2017-09-29 2018-01-09     NaN  "
      ]
     },
     "execution_count": 58,
     "metadata": {},
     "output_type": "execute_result"
    }
   ],
   "source": [
    "#select the nulls and replace them with the actual runtime\n",
    "rows_runtime_null=rt_info1[rt_info1['runtime'].isna()]\n",
    "rows_runtime_null"
   ]
  },
  {
   "cell_type": "code",
   "execution_count": 59,
   "metadata": {},
   "outputs": [],
   "source": [
    "#Replace NaN with the actual runtimes\n",
    "rt_info1.loc[rt_info1['id']==131,'runtime']=91\n",
    "rt_info1.loc[rt_info1['id']==567,'runtime']=106\n",
    "rt_info1.loc[rt_info1['id']==1325,'runtime']=118\n",
    "rt_info1.loc[rt_info1['id']==1389,'runtime']=135\n",
    "rt_info1.loc[rt_info1['id']==1451,'runtime']=102\n",
    "rt_info1.loc[rt_info1['id']==1541,'runtime']=104\n",
    "rt_info1.loc[rt_info1['id']==1931,'runtime']=103\n"
   ]
  },
  {
   "cell_type": "code",
   "execution_count": 60,
   "metadata": {},
   "outputs": [
    {
     "data": {
      "text/plain": [
       "\"From the outer reaches of space to the small-town streets of suburbia, the hunt comes home in Shane Black's explosive reinvention of the Predator series. Now, the universe's most lethal hunters are stronger, smarter and deadlier than ever before, having genetically upgraded themselves with DNA from other species. When a young boy accidentally triggers their return to Earth, only a ragtag crew of ex-soldiers and a disgruntled science teacher can prevent the end of the human race.\""
      ]
     },
     "execution_count": 60,
     "metadata": {},
     "output_type": "execute_result"
    }
   ],
   "source": [
    "#get full movie synopsis\n",
    "movie1325=rt_info1.loc[rt_info1['id']==1325, 'synopsis'].iloc[0]\n",
    "movie1325"
   ]
  },
  {
   "cell_type": "code",
   "execution_count": 61,
   "metadata": {},
   "outputs": [
    {
     "data": {
      "text/plain": [
       "'A group of scientific researchers on a space station attempt to harness a new energy source called the \"God Particle,\" only to unleash something terrifying. Julius Onah (The Girl Is in Trouble) directed this sci-fi thriller, which stars Gugu Mbatha-Raw, David Oyelowo, Daniel Br'"
      ]
     },
     "execution_count": 61,
     "metadata": {},
     "output_type": "execute_result"
    }
   ],
   "source": [
    "#get full movie synopsis\n",
    "movie1451=rt_info1.loc[rt_info1['id']==1451, 'synopsis'].iloc[0]\n",
    "movie1451"
   ]
  },
  {
   "cell_type": "code",
   "execution_count": 62,
   "metadata": {},
   "outputs": [
    {
     "data": {
      "application/vnd.microsoft.datawrangler.viewer.v0+json": {
       "columns": [
        {
         "name": "index",
         "rawType": "int64",
         "type": "integer"
        },
        {
         "name": "runtime",
         "rawType": "int32",
         "type": "integer"
        }
       ],
       "ref": "00926d38-e068-4e97-b2c7-e4667dacd848",
       "rows": [
        [
         "0",
         "104"
        ],
        [
         "1",
         "108"
        ],
        [
         "2",
         "116"
        ],
        [
         "3",
         "128"
        ],
        [
         "5",
         "95"
        ],
        [
         "6",
         "82"
        ],
        [
         "7",
         "123"
        ],
        [
         "8",
         "117"
        ],
        [
         "9",
         "108"
        ],
        [
         "12",
         "90"
        ],
        [
         "13",
         "97"
        ],
        [
         "14",
         "106"
        ],
        [
         "15",
         "108"
        ],
        [
         "16",
         "129"
        ],
        [
         "17",
         "98"
        ],
        [
         "18",
         "127"
        ],
        [
         "19",
         "96"
        ],
        [
         "21",
         "90"
        ],
        [
         "22",
         "101"
        ],
        [
         "23",
         "114"
        ],
        [
         "24",
         "123"
        ],
        [
         "25",
         "110"
        ],
        [
         "26",
         "96"
        ],
        [
         "27",
         "97"
        ],
        [
         "28",
         "95"
        ],
        [
         "29",
         "106"
        ],
        [
         "32",
         "82"
        ],
        [
         "34",
         "91"
        ],
        [
         "38",
         "108"
        ],
        [
         "39",
         "103"
        ],
        [
         "41",
         "142"
        ],
        [
         "43",
         "119"
        ],
        [
         "44",
         "122"
        ],
        [
         "45",
         "86"
        ],
        [
         "47",
         "95"
        ],
        [
         "48",
         "93"
        ],
        [
         "49",
         "111"
        ],
        [
         "50",
         "86"
        ],
        [
         "51",
         "108"
        ],
        [
         "52",
         "118"
        ],
        [
         "53",
         "89"
        ],
        [
         "54",
         "106"
        ],
        [
         "56",
         "115"
        ],
        [
         "57",
         "107"
        ],
        [
         "58",
         "165"
        ],
        [
         "60",
         "107"
        ],
        [
         "61",
         "99"
        ],
        [
         "62",
         "98"
        ],
        [
         "63",
         "110"
        ],
        [
         "64",
         "113"
        ]
       ],
       "shape": {
        "columns": 1,
        "rows": 1201
       }
      },
      "text/plain": [
       "0       104\n",
       "1       108\n",
       "2       116\n",
       "3       128\n",
       "5        95\n",
       "       ... \n",
       "1555    106\n",
       "1556     88\n",
       "1557    111\n",
       "1558    101\n",
       "1559     94\n",
       "Name: runtime, Length: 1201, dtype: int32"
      ]
     },
     "execution_count": 62,
     "metadata": {},
     "output_type": "execute_result"
    }
   ],
   "source": [
    "#Convert to int\n",
    "rt_info1['runtime'].astype(int)"
   ]
  },
  {
   "cell_type": "code",
   "execution_count": 63,
   "metadata": {},
   "outputs": [
    {
     "data": {
      "application/vnd.microsoft.datawrangler.viewer.v0+json": {
       "columns": [
        {
         "name": "index",
         "rawType": "int64",
         "type": "integer"
        },
        {
         "name": "id",
         "rawType": "int64",
         "type": "integer"
        },
        {
         "name": "synopsis",
         "rawType": "object",
         "type": "string"
        },
        {
         "name": "rating",
         "rawType": "object",
         "type": "string"
        },
        {
         "name": "genre",
         "rawType": "object",
         "type": "string"
        },
        {
         "name": "director",
         "rawType": "object",
         "type": "unknown"
        },
        {
         "name": "writer",
         "rawType": "object",
         "type": "unknown"
        },
        {
         "name": "theater_date",
         "rawType": "datetime64[ns]",
         "type": "datetime"
        },
        {
         "name": "dvd_date",
         "rawType": "datetime64[ns]",
         "type": "datetime"
        },
        {
         "name": "runtime",
         "rawType": "object",
         "type": "unknown"
        }
       ],
       "ref": "698b9511-8b38-4f13-a08c-f1f26926c351",
       "rows": [
        [
         "0",
         "1",
         "This gritty, fast-paced, and innovative police drama earned five Academy Awards, including Best Picture, Best Adapted Screenplay (written by Ernest Tidyman), and Best Actor (Gene Hackman). Jimmy \"Popeye\" Doyle (Hackman) and his partner, Buddy Russo (Roy Scheider), are New York City police detectives on narcotics detail, trying to track down the source of heroin from Europe into the United States. Suave Alain Charnier (Fernando Rey) is the French drug kingpin who provides a large percentage of New York City's dope, and Pierre Nicoli (Marcel Bozzuffi) is a hired killer and Charnier's right-hand man. Acting on a hunch, Popeye and Buddy start tailing Sal Boca (Tony Lo Bianco) and his wife, Angie (Arlene Faber), who live pretty high for a couple whose corner store brings in about 7,000 dollars a year. It turns out Popeye's suspicions are right -- Sal and Angie are the New York agents for Charnier, who will be smuggling 32 million dollars' worth of heroin into the city in a car shipped over from France. The French Connection broke plenty of new ground for screen thrillers; Popeye Doyle was a highly unusual \"hero,\" an often violent, racist, and mean-spirited cop whose dedication to his job fell just short of dangerous obsession. The film's high point, a high-speed car chase with Popeye tailing an elevated train, was one of the most viscerally exciting screen moments of its day and set the stage for dozens of action sequences to follow. And the film's grimy realism (and downbeat ending) was a big change from the buff-and-shine gloss and good-guys-always-win heroics of most police dramas that preceded it. The French Connection was inspired by a true story, and Eddie Egan and Sonny Grosso, Popeye and Buddy's real life counterparts, both have small roles in the film. A sequel followed four years later.",
         "R",
         "Action and Adventure|Classics|Drama",
         "William Friedkin",
         "Ernest Tidyman",
         "1971-10-09 00:00:00",
         "2001-09-25 00:00:00",
         "104 "
        ],
        [
         "1",
         "3",
         "New York City, not-too-distant-future: Eric Packer, a 28 year-old finance golden boy dreaming of living in a civilization ahead of this one, watches a dark shadow cast over the firmament of the Wall Street galaxy, of which he is the uncontested king. As he is chauffeured across midtown Manhattan to get a haircut at his father's old barber, his anxious eyes are glued to the yuan's exchange rate: it is mounting against all expectations, destroying Eric's bet against it. Eric Packer is losing his empire with every tick of the clock. Meanwhile, an eruption of wild activity unfolds in the city's streets. Petrified as the threats of the real world infringe upon his cloud of virtual convictions, his paranoia intensifies during the course of his 24-hour cross-town odyssey. Packer starts to piece together clues that lead him to a most terrifying secret: his imminent assassination. -- (C) Official Site",
         "R",
         "Drama|Science Fiction and Fantasy",
         "David Cronenberg",
         "David Cronenberg|Don DeLillo",
         "2012-08-17 00:00:00",
         "2013-01-01 00:00:00",
         "108 "
        ],
        [
         "2",
         "5",
         "Illeana Douglas delivers a superb performance as Denise Waverly, a fictional singer and songwriter whose life bears more than a passing resemblance to that of real-life pop star Carole King. Edna Buxton, the daughter of a Philadelphia steel tycoon, aspires to a career as a singer, and when against her mother's bidding she sings a sultry version of \"Hey There (You With the Stars in Your Eyes)\" (instead of Mom's choice, \"You'll Never Walk Alone\") at a talent contest, she wins a recording contact and moves to New York City. She cuts a record and gains a new stage name, Denise Waverly; however, she soon finds that girl singers are a dime a dozen in the Big Apple and her career as a vocalist goes nowhere. But she has a knack for writing songs, and eccentric producer Joel Milner (John Turturro) asks her to pen some songs for his upcoming projects. Teamed with Howard Caszatt (Eric Stoltz), a hipster songwriter who wants to express his political and social ideals through pop tunes, she finds both a successful collaborator and husband. While her work with Howard gains Denise writing credits on a string of hit records and respect within the industry, their marriage falls apart, and she becomes involved with Jay Phillips (Matt Dillon), the gifted but unstable leader of a popular West Coast surf music combo. Students of pop music history will have a ball with the various characters modeled after real-life rock legends, and the 1960s-style song score includes numbers written by Joni Mitchell and J. Mascis (of the band Dinosaur Jr.), as well as one-time King collaborator Gerry Goffin; a collaboration between Elvis Costello and Burt Bacharach, \"God Give Me Strength,\" led to a full album written by the two great tunesmiths.",
         "R",
         "Drama|Musical and Performing Arts",
         "Allison Anders",
         "Allison Anders",
         "1996-09-13 00:00:00",
         "2000-04-18 00:00:00",
         "116 "
        ],
        [
         "3",
         "6",
         "Michael Douglas runs afoul of a treacherous supervisor in this film version of Michael Crichton's novel. Douglas plays Tom Sanders, an executive at DigiCom, a leading computer software firm. DigiCom is about to launch a new virtual reality-based data storage system that is expected to revolutionize the industry, and Bob Garvin (Donald Sutherland), the owner of the company, is in the midst of negotiating a merger that could bring",
         "R",
         "Drama|Mystery and Suspense",
         "Barry Levinson",
         "Paul Attanasio|Michael Crichton",
         "1994-12-09 00:00:00",
         "1997-08-27 00:00:00",
         "128 "
        ],
        [
         "5",
         "8",
         "The year is 1942. As the Allies unite overseas to keep the world safe for democracy, there are voices at home that are barely heard. One of them belongs to Willie Morris, a shy and gawky eight-year-old whose childhood is even more quiet and isolated than his home town of Yazoo, Mississippi. An only child, ignored at school and uncomfortable with girls, Willie looks up to and confides in next-door neighbor Dink Jenkins, the town's star athlete, who's preparing to ship out in the service of Uncle Sam. Willie's father, Jack Morris, a stern but good-hearted veteran who lost his leg in the Spanish Civil War, is chiefly responsible for Willie's overprotective upbringing. Pushing in the other direction is his mother, Ellen Morris, a capable woman who knows that what Willie needs most is some freedom and a friend. Willie's ninth birthday gives her an opportunity to offer him both, in the form of a Jack Russell terrier puppy that the delighted Willie names Skip. Skip's outgoing personality helps Willie to build a friendship with Rivers Applewhite, the prettiest girl in school. Skip then further serves as matchmaker for Willie and Rivers at the movie theater, and lends a paw after Willie is challenged by Big Boy Wilkinson, Henjie Henick and Spit McGee to prove his worth in a football game. With Skip's canine help, Willie starts becoming \"one of the boys.\" Then unexpectedly, Dink returns to Yazoo. But the dark truth soon emerges: Dink, when confronted by the realities of war, went AWOL. In trying to reconcile his hero worship of the Dink he once knew with his disappointment in the disgraced soldier, Willie begins to contend with the complexities of war and human conduct. He reaches a new perspective on these matters through his father's eyes and his own. Dink fails to show up at Willie's first baseball game, and the disappointed Willie takes it out on Skip, who runs away. The dog's disappearance and subsequent recovery teach Willie the strength of forgiveness, and give Dink a chance to embrace the power of redemption. Ultimately, it is a dog's love that teaches Willie Morris lifelong lessons of the human spirit.",
         "PG",
         "Drama|Kids and Family",
         "Jay Russell",
         "Gail Gilchriest",
         "2000-03-03 00:00:00",
         "2000-07-11 00:00:00",
         "95 "
        ],
        [
         "6",
         "10",
         "Some cast and crew from NBC's highly acclaimed, little-seen series Freaks and Geeks reunite for this teen comedy that also marks the first starring role for Tom Hanks' son, Colin. The younger Hanks plays Shaun Brumder, a high schooler eager to propel himself out of the land of surf bums and ranch homes to which the film's title refers. He's had his sights set on Stanford ever since he read the works of professor Marcus Skinner (Kevin Kline), and his transcript is stellar enough to gain him admission. Shaun is understandably furious, then, when he receives a rejection letter in the mail; after some detective work on his part, he realizes that his flaky counselor (Lily Tomlin) mistakenly sent the university the wrong papers. It's up to him to get to Stanford within 24 hours to set the record straight -- literally -- and he enlists the help of his slacker brother Lance (Jack Black) to do so. Orange County co-stars Catharine O'Hara and John Lithgow as Shaun and Lance's slightly unhinged parents; the film was directed by Jake Kasdan and written by Mike White, both of whom contributed to several episodes of Freaks and Geeks.",
         "PG-13",
         "Comedy",
         "Jake Kasdan",
         "Mike White",
         "2002-01-11 00:00:00",
         "2002-06-18 00:00:00",
         "82 "
        ],
        [
         "7",
         "13",
         "Stewart Kane, an Irishman living in the Australian town of Jindabyne, is on a fishing trip in isolated hill country with three other men when they discover the body of a murdered girl in the river. Rather than return to the town immediately, they continue fishing and report their gruesome find days later. Stewart's wife Claire is the last to find out. Deeply disturbed by her husband's actions, her faith in her relationship with Stewart is shaken to the core. She wants to understand and tries to make things right. In her determination to help the victim's family Claire sets herself not only against her own family and friends but also those of the dead girl. Her marriage is taken to the brink and her peaceful life with Stewart and their young son hangs in the balance.",
         "R",
         "Drama",
         "Ray Lawrence",
         "Raymond Carver|Beatrix Christian",
         "2006-04-27 00:00:00",
         "2007-10-02 00:00:00",
         "123 "
        ],
        [
         "8",
         "14",
         "\"Love Ranch\" is a bittersweet love story that turns explosive when the players in a romantic triangle lose control and cross the line. Set in the late-1970s, the film depicts larger than life personalities living on the edge, Grace Bontempo and Charlie Bontempo, the husband and wife team who own and run Nevada's first legalized brothel. Their lives are suddenly altered when Armando Bruza, a husky, world famous heavy weight boxer from South America is brought to the Ranch to train as part of Charlie's ever-expanding entrepreneurial empire. Plans quickly go awry when Bruza comes between Grace and Charlie as an unforeseen love triangle develops that erupts into uncontrollable passion and murder.",
         "R",
         "Drama",
         "Taylor Hackford",
         "Mark Jacobson",
         "2010-06-30 00:00:00",
         "2010-11-09 00:00:00",
         "117 "
        ],
        [
         "9",
         "15",
         "When a diamond expedition in the Congo is lost, a scientist is sent in to find out what happened. Tagging along is an primatologist taking a trained gorilla back to the wild and a Romanian treasure hunter. Jungle adventure flick is fun but never realistic.",
         "PG-13",
         "Action and Adventure|Mystery and Suspense|Science Fiction and Fantasy",
         "Frank Marshall",
         "John Patrick Shanley",
         "1995-06-09 00:00:00",
         "1999-07-27 00:00:00",
         "108 "
        ],
        [
         "12",
         "19",
         "While Microsoft may be the biggest software company in the world, not every computer user is a fan of their products, or their way of doing business. While Microsoft's Windows became the most widely used operating system for personal computers in the world, many experts took issue with Microsoft's strict policies regarding licensing, ownership, distribution, and alteration of their software. The objections of many high-profile technology experts, most notably Richard Stallman, led to what has become known as \"the Open Source Movement,\" which is centered on the belief that computer software should be free both in the economic and intellectual senses of the word. Eventually, one of Stallman's admirers, Linus Torvalds, created a new operating system called Linux, a freely distributed software which many programmers consider to be markedly superior to Windows. Revolution OS is a documentary that examines the genesis of the Open Source Movement, and explores and explains the technical and intellectual issues involved in a manner understandable to computer aficionados and non-techheads alike.",
         "NR",
         "Documentary|Special Interest",
         null,
         null,
         "2002-08-23 00:00:00",
         "2003-09-30 00:00:00",
         "90 "
        ],
        [
         "13",
         "20",
         "Rachel (Britt Ekland) is an Amish girl who rejects her religious upbringing and travels to the big city. She meets Raymond Paine (Jason Robards) and Billy Minsky (Elliot Gould) who put her on stage. A sensual striptease emerges from what was supposed to be a religious dance, eventually causing the cops to bust the place. Soon her father comes after his daughter who by now is coveted by gangsters. Forrest Tucker plays gangster Trim Houlihan, the quick-tempered Irishman. The film accurately reflects the mood of the burlesque halls which had died out by the time the feature was released. Veteran comic Burt Lahr, one of the last true burlesque and vaudeville performers, makes his last film appearance as Professor Spats. British comedian Norman Wisdom steals the show in his role as Chick Williams. Rudy Valee, the top crooning heartthrob of the 1920s, narrates and sings a few songs. The surviving Minsky brother Morton acted as technical advisor for this song and dance filled slice of Americana. Burlesque had all but died out by the time the film was release, and this feature accurately recalls the bygone era that started before talking pictures and even radio were mainstream items.",
         "PG-13",
         "Classics|Comedy|Drama",
         "William Friedkin",
         "Sidney Michaels|Arnold Schulman|Norman Lear",
         "1968-12-22 00:00:00",
         "2008-05-20 00:00:00",
         "97 "
        ],
        [
         "14",
         "21",
         "Old-school comic Rodney \"I get no respect\" Dangerfield headlines this broad-based comedy satire of trashy '90s-style television talk-shows. He plays the title host of an afternoon show that has become so sleazy that all but his most die-hard fans have stopped watching. Studio executive Lenny Spencer (Burt Reynolds) is so disgusted, that he gives Sparks one week to improve the ratings or else. To this end, Sparks attends a special reception hosted by his arch nemesis, ultra-conservative Governor Floyd Preston (David Ogden Stiers).",
         "R",
         "Comedy",
         "Peter Baldwin",
         "Rodney Dangerfield|Harry Basil",
         "1997-01-31 00:00:00",
         "1999-09-20 00:00:00",
         "106 "
        ],
        [
         "15",
         "22",
         "Two-time Academy Award Winner Kevin Spacey gives the performance of a lifetime in CASINO JACK, a riotous new film starring Spacey as a man hell bent on acquiring all that the good life has to offer. He plays in the same game as the highest of rollers and resorts to awe-inspiring levels of conning, scheming and fraudulent antics to get what he wants. Inspired by true events that are too over-the-top for even the wildest imaginations to conjure, CASINO JACK lays bare the wild excesses and escapades of Jack Abramoff. Aided by his business partner Michael Scanlon (Barry Pepper), Jack parlays his clout over some of the world's most powerful men with the goal of creating a personal empire of wealth and influence. When the two enlist a mob-connected buddy (Jon Lovitz) to help with one of their illegal schemes, they soon find themselves in over their heads, entrenched in a world of mafia assassins, murder and a scandal that spins so out of control that it makes worldwide headlines. Directed by George Hickenlooper (FACTORY GIRL, THE MAN FROM ELYSIAN FIELDS), CASINO JACK returns Spacey to the type of role that made him famous - a cool-headed, articulate snake charmer whose wild ambitions knows no limits or boundaries. The film also stars Kelly Preston and Rachelle Lefevre and is produced by Gary Howsam, Bill Marks and George Vitetzakis from an original screenplay by Norman Snider. Executive Producers are Richard Rionda Del Castro, Lewin Webb, Donald Zuckerman, Dana Brunetti, Patricia Eberle, Warren Nimchuk, Angelo Paletta and Domenic Serafino. The Associate Producer is Rick Chad. -- (C) Art Takes Over",
         "R",
         "Comedy|Drama|Mystery and Suspense",
         "George Hickenlooper",
         "Norman Snider",
         "2010-12-17 00:00:00",
         "2011-04-05 00:00:00",
         "108 "
        ],
        [
         "16",
         "23",
         "A fictional film set in the alluring world of one of the most stunning scandals to rock our nation, American Hustle tells the story of brilliant con man Irving Rosenfeld (Christian Bale), who along with his equally cunning and seductive British partner Sydney Prosser (Amy Adams) is forced to work for a wild FBI agent Richie DiMaso (Bradley Cooper). DiMaso pushes them into a world of Jersey powerbrokers and mafia that's as dangerous as it is enchanting. Jeremy Renner is Carmine Polito, the passionate, volatile, New Jersey political operator caught between the con-artists and Feds. Irving's unpredictable wife Rosalyn (Jennifer Lawrence) could be the one to pull the thread that brings the entire world crashing down. Like David O. Russell's previous films, American Hustle defies genre, hinging on raw emotion, and life and death stakes. (c) Sony",
         "R",
         "Drama",
         null,
         null,
         "2013-12-20 00:00:00",
         "2014-03-18 00:00:00",
         "129 "
        ],
        [
         "17",
         "24",
         "Three young boys discover a stranded Russian sailor on the shores of Key West in this well-meaning but unexciting drama. Initially viewing him as an enemy, the boys soon grow to like their new companion and agree to help him find a way back to his homeland.",
         "PG",
         "Action and Adventure|Comedy|Drama",
         "Rick Rosenthal",
         "Sheldon Lettich|Michael Nankin|Alan Jay Glueckman",
         "1987-11-06 00:00:00",
         "2005-03-08 00:00:00",
         "98 "
        ],
        [
         "18",
         "25",
         "From ancient Japan's most enduring tale, the epic 3D fantasy-adventure 47 Ronin is born. Keanu Reeves leads the cast as Kai, an outcast who joins Oishi (Hiroyuki Sanada), the leader of 47 outcast samurai. Together they seek vengeance upon the treacherous overlord who killed their master and banished their kind. To restore honor to their homeland, the warriors embark upon a quest that challenges them with a series of trials that would destroy ordinary warriors. 47 Ronin is helmed by visionary director Carl Erik Rinsch (The Gift). Inspired by styles as diverse as Miyazaki and Hokusai, Rinsch will bring to life the stunning landscapes and enormous battles that will display the timeless Ronin story to global audiences in a way that's never been seen before. -- (C) Universal",
         "PG-13",
         "Action and Adventure|Drama|Science Fiction and Fantasy",
         "Carl Erik Rinsch",
         "Chris Morgan|Hossein Amini",
         "2013-12-25 00:00:00",
         "2014-04-01 00:00:00",
         "127 "
        ],
        [
         "19",
         "26",
         "A comic series of short vignettes build on one another to create a cumulative effect, as the characters discuss things as diverse as caffeine popsicles, Paris in the '20s, and the use of nicotine as an insecticide--all the while sitting around sipping coffee and smoking cigarettes. As director Jim Jarmusch delves into the normal pace of our world from an extraordinary angle, he shows just how absorbing the obsessions, joys and addictions of life can be, if truly observed.",
         "R",
         "Art House and International|Comedy|Drama|Musical and Performing Arts",
         "Jim Jarmusch",
         "Jim Jarmusch",
         "2004-05-14 00:00:00",
         "2004-09-21 00:00:00",
         "96 "
        ],
        [
         "21",
         "28",
         "Elvis goes Hawaiian for the second time in this tuneful romantic adventure. He plays an irresponsible pilot who, with a partner, struggles to set up a charter helicopter business. When not toiling at that, the King is wooing island beauties and singing.",
         "G",
         "Classics|Comedy|Musical and Performing Arts|Romance",
         null,
         "Allan Weiss|Anthony Lawrence",
         "1966-06-15 00:00:00",
         "2003-01-07 00:00:00",
         "90 "
        ],
        [
         "22",
         "29",
         "This futuristic adventure stars Lee Majors as a former racing champ who reassembles his old Porsche and drives to California in a world where cars have been outlawed by the powers that be.",
         "PG",
         "Action and Adventure|Drama|Science Fiction and Fantasy",
         "Martyn Burke",
         null,
         "1981-04-01 00:00:00",
         "2011-05-10 00:00:00",
         "101 "
        ],
        [
         "23",
         "33",
         "Howard W. Campbell Jr. (Nick Nolte) is an American playwright living in pre-World War II Berlin. He is happily married to his lovely wife Helga (Sheryl Lee), and is acclaimed for his work, which gains him entree into Berlin's highest political and social circles. Then one day he's approached by Frank Wirtenan (John Goodman), an American intelligence agent who offers Campbell the opportunity to spy for his country. Campbell refuses. He wonders why he was asked. \"You're obsessed with the notion of pure hearts and heroism. You love good and you hate evil ...and you'd sacrifice anything in the name of romance,\" Wirtenan tells him. So Campbell agrees. He seamlessly infiltrates the Nazis and gets a job spewing hateful Nazi propaganda on a weekly radio show beamed across Europe. He barely survives the war, his wife supposedly doesn't, and finds himself living in New York City, penniless and befriended by a next-door neighbor, a painter and fellow widower (Alan Arkin). He might have lived quietly beyond that, but gets found by a ragged group of American neo-Nazis -- and, incredibly, his wife. The neo-Nazis publicize his presence and he learns that his neighbor is actually a spy and that his wife is really her little sister. Guilt-stricken and alone, Campbell turns himself in to the Israelis, who charge him with being a war criminal. He's about to go on trial in Israel when he receives a letter from Wirteman promising to reveal his heroic spying and exonerate him, but Campbell hangs himself in his cell.",
         "R",
         "Action and Adventure|Drama|Mystery and Suspense",
         "Keith Gordon",
         null,
         "1996-11-01 00:00:00",
         "2000-08-22 00:00:00",
         "114 "
        ],
        [
         "24",
         "34",
         "Director John Woo brings Hong Kong-style martial arts action to this comic book-flavored sequel that eschews the complicated plot and political maneuverings of its predecessor in favor of pure, adrenaline-charged thrills. Tom Cruise returns as Ethan Hunt, an operative for the top-secret government agency IMF (Impossible Missions Force). Fellow agent Sean Ambrose (Dougray Scott) has gone rogue, stealing a sample of a deadly synthetic virus named Chimera that could rapidly wipe out the world's population. Ambrose's plan is to sell Chimera to the highest bidder in exchange for shares of stock in the winner's company. Summoned by the new IMF chief (Anthony Hopkins in an uncredited cameo role), Ethan is assigned to recruit the help of Ambrose's former lover Nyah Nordoff-Hall (Thandie Newton), a gorgeous woman who left Ambrose broken-hearted and who may be able to quickly regain his confidence. Once he meets and spends a night with Nyah, however, Ethan is smitten, and now must both capture Ambrose and keep Nyah alive as she infiltrates a nest of vipers. Sophisticated disguises, gun battles, and high-speed chases are the order of the day, very much in the James Bond mold. Mission: Impossible 2 is based on a story by Star Trek: The Next Generation writers Ronald D. Moore and Brannon Braga, with a script polish by Robert Towne.",
         "PG-13",
         "Action and Adventure|Mystery and Suspense",
         "John Woo",
         "William Goldman|John Logan|David Marconi|Michael Tolkin|Robert Towne|Rick Berman",
         "2000-12-31 00:00:00",
         "2000-11-07 00:00:00",
         "123 "
        ],
        [
         "25",
         "35",
         "In this film, conjoined twins Blake and Francis Falls share many vital organs. They have come to the big city to find their long-lost mother and end their suffering. Befriending a prostitute, Blake reveals that Francis is dying. He must choose between dying with his brother or a risky operation.",
         "R",
         "Drama",
         "Michael Polish",
         "Michael Polish|Mark Polish",
         "1999-07-30 00:00:00",
         "2000-01-18 00:00:00",
         "110 "
        ],
        [
         "26",
         "38",
         "You'd think they would know better from their first glance at the foreboding stone exterior of the blood-sucking Count's castle, but apparently they didn't, for this young couple, who are looking for the young man's missing brother, walks right into Dracula's lair. Christopher Lee plays Count Dracula in this gory and violent scare-maker.",
         "R",
         "Art House and International|Classics|Horror|Mystery and Suspense",
         "Roy Ward Baker",
         "Anthony Hinds|John Elder",
         "1970-12-23 00:00:00",
         "2001-08-07 00:00:00",
         "96 "
        ],
        [
         "27",
         "39",
         "A group of stoners at a rock festival is stalked by a serial killer wearing a Ronald Reagan mask in the unrated version of this outrageous horror comedy featuring a cast that includes Courteney Cox and David Arquette, who also co-wrote and directed. Jaime King, Thomas Jane, Jason Mewes, Balthazar Getty.",
         "R",
         "Horror",
         "David Arquette",
         "David Arquette|Joe Harris",
         "2007-04-20 00:00:00",
         "2007-10-30 00:00:00",
         "97 "
        ],
        [
         "28",
         "40",
         "John Sayles' Casa de los Babys tells the tale of a half-dozen American women who travel to Latin America in order to pick up their adopted children. They all stay at the same motel while they each wade through the bureaucracy. Sharing with each other their fears, hopes, dreams, and frustrations at the thoughts of becoming mothers comprises the majority of the drama in the film. The cast includes Maggie Gyllenhaal, Daryl Hannah, Marcia Gay Harden, Susan Lynch, Mary Steenburgen, Lili Taylor, and Rita Moreno.",
         "R",
         "Drama",
         "John Sayles",
         "John Sayles",
         "2003-09-19 00:00:00",
         "2004-04-13 00:00:00",
         "95 "
        ],
        [
         "29",
         "41",
         "Ken Loach directs Sweet Sixteen, a gritty drama about a young man slowly succumbing to a life of crime. Liam (Martin Compson) hopes that his imprisoned mother (Michelle Coulter) will be free by his 16th birthday. Hoping to help his mother escape her abusive heroin-dealing boyfriend (Gary McCormack), Liam rats him out to the cops. Liam's sister, Chantelle (Annmarie Fulton), suggests that a new trailer park might be a better place for their mother to live. With the help of his best friend, Pinball (William Ruanne), Liam sells the boyfriend's supply in order to raise the money, but this gets him into trouble with gangsters whose turf he was selling in. Soon Liam is on the way up in the criminal world, but that success comes with a toll. The accents in this Scottish-set film are so thick that English subtitles are used throughout. Sweet Sixteen was screened in competition at the 2002 Cannes Film Festival.",
         "R",
         "Drama",
         "Ken Loach",
         "Paul Laverty",
         "2003-05-16 00:00:00",
         "2003-10-07 00:00:00",
         "106 "
        ],
        [
         "32",
         "44",
         "Can death be a good career move? The star of Bio-Dome, Jury Duty, and In the Army Now decides to find out in this satirical comedy. Pauly Shore (playing himself) takes a role on a new situation comedy series for FOX TV after a string of awful movies puts paid to his film career, but when the show is axed at the last moment, Shore finds himself flat broke and unable to find work in Hollywood. At the end of his rope, one night Shore is visited by the ghost of comic Sam Kinison, who suggests that killing himself might be the answer. Shore lacks the nerve to go quite that far, but he goes half-way by faking his own death and is amazed to discover an outpouring of post-mortem enthusiasm for him and his body of work, with the dead comic now praised as a genius; however, as Shore tries to figure out how to capitalize on this outpouring of acceptance, word begins to spread that the comic is actually alive and well, which only causes more problems for him. Produced under the title You'll Never Wiez In This Town Again, Pauly Shore Is Dead was written and directed by Shore himself and features an impressive list of celebrity cameos including Chris Rock, Sean Penn, Ellen DeGeneres, Britney Spears, Vince Vaughn, Andy Dick, Paris Hilton, and lots more.",
         "R",
         "Comedy",
         "Pauly Shore",
         "Pauly Shore|Kirk Fox",
         "2003-03-11 00:00:00",
         "2005-01-25 00:00:00",
         "82 "
        ],
        [
         "34",
         "46",
         "Six guys with nothing left to lose try losing their clothing for fun and profit in this international hit comedy. Gaz (Robert Carlyle) and Dave (Mark Addy) are two former steelworkers in the British industrial town of Sheffield who have been devastated by the economic downturn in their community. Gaz is threatened with losing visitation rights with his son if he can't pay his child support, while Dave feels emasculated by his inability to support his wife. One day, Gaz stops by a local pub for a drink and is told it's women only tonight -- the Chippendales male exotic dancing troupe is playing, and they are demanding a hefty cover charge. Gaz decides there's nothing a bunch of pantywaists from America can do that he and his pals can't do better, and decides to form his own crew of male strippers, called \"Hard Steel.\" However, the local talent pool leaves a bit to be desired. Gaz isn't bad looking, but Dave is a bit heavy and very self conscious about it. Horse (Paul Barber) was probably hot stuff at Soul Night in the mid-70's, but his joints don't move like they used to. Guy (Hugo Speer) can't dance to save his life, but makes the troupe because ... well, let's say he and Dirk Diggler would have a lot to say to each other. Lomper (Steve Huison) is sometimes too busy attempting suicide to practice. And Gerald (Tom Wilkinson), their choreographer, isn't much on male exotic dancing -- ballroom dancing is more his speed. While \"Hard Steel\"'s performances are more amusing then enticing, for the first time since they lost their jobs the men have a reason to get up in the morning; joining the group has given them a circle of friendship, and a renewed sense of purpose. Combining broad comedy with believable and well-drawn characters, The Full Monty was a major box-office hit both in England and the United States and was nominated for Academy Awards as Best Picture, Best Director, and Best Original Screenplay.",
         "R",
         "Comedy|Musical and Performing Arts",
         "Peter Cattaneo",
         "Simon Beaufoy|Simon Beaufor",
         "1997-08-13 00:00:00",
         "1999-11-02 00:00:00",
         "91 "
        ],
        [
         "38",
         "51",
         "Wait Until Dark is an innovative, highly entertaining and suspenseful thriller about a blind housewife, Susy Hendrix (Audrey Hepburn). Independent and resourceful, Susy is learning to cope with her blindness, which resulted from a recent accident. She is aided by her difficult, slightly unreliable young neighbor Gloria (Julie Herrod) with whom she has an exasperated but lovingly maternal relationship. Susy's life is changed as she is terrorized by a group of criminals who believe she has hidden a baby doll used by them to smuggle heroin into the country. Unknown to Susy, her photographer husband Sam (Efrem Zimbalist Jr.) took the doll as a favor for a woman he met on an international plane flight and unwittingly brought the doll to the couple's New York apartment when the woman became afraid of the customs officials. Alone in her apartment and cut-off from the outside world, Susy must fight for her life against a gang of ruthless criminals, led by the violent, psychotic Roat (Alan Arkin). The tension builds as Roat, aided by his gang, impersonates police officers and friends of her husband in order to win Susy's confidence, gaining access to her apartment to look for the doll. The climax of the film, a violent physical confrontation between Susie and Roat in her dark kitchen, is one of the most memorable and frightening scenes in screen history. All performances are outstanding, particularly those of Audrey Hepburn who plays a vulnerable, but self-reliant woman, and Alan Arkin, in perhaps his best role, as the ruthless, manipulative Roat.",
         "NR",
         "Mystery and Suspense",
         "Terence Young",
         "Jane-Howard Carrington|Robert Carrington",
         "1967-10-26 00:00:00",
         "2003-08-05 00:00:00",
         "108 "
        ],
        [
         "39",
         "52",
         "This offbeat romantic comedy has some rather dark underpinnings that add, rather than detract from the fun. It is the story of Lucy, an extremely lonely young woman who works as a toll-taker for the Chicago Transit Authority. She is secretly in love with a handsome stranger in a camel-hair coat who passes by her every day but never even says hello to her. Just before Christmas, she is at work when she sees her \"love\" pushed, mugged and shoved off the train platform. Without hesitation she leaps down to pull the unconscious fellow out of the path of a speeding train. Later in the hospital, a series of complex misunderstandings occur and the woman is mistaken for the man's fiancee. As he is deeply comatose, Lucy goes along with it, much to the delight of the man's loud, dysfunctional family. Lucy has no real family, and she is happy to be a part of his strange brood. To make sure she stays, she decides to take certain liberties with her sleeping husband-to-be. Meanwhile, she and the patient's brother find themselves drawn to each other.",
         "PG",
         "Comedy|Drama|Romance",
         "Jon Turteltaub",
         null,
         "1995-04-21 00:00:00",
         "1998-02-03 00:00:00",
         "103 "
        ],
        [
         "41",
         "54",
         "Journalist Jep Gambardella (the dazzling Toni Servillo, Il divo and Gomorrah) has charmed and seduced his way through the lavish nightlife of Rome for decades. Since the legendary success of his one and only novel, he has been a permanent fixture in the city's literary and social circles, but when his sixty-fifth birthday coincides with a shock from the past, Jep finds himself unexpectedly taking stock of his life, turning his cutting wit on himself and his contemporaries, and looking past the extravagant nightclubs, parties, and caf",
         "NR",
         "Comedy|Drama",
         "Paolo Sorrentino",
         "Paolo Sorrentino|Umberto Contarello",
         "2013-11-15 00:00:00",
         "2014-03-25 00:00:00",
         "142 "
        ],
        [
         "43",
         "56",
         "Albert Hughes and his brother Allen Hughes followed their striking debut Menace II Society with this ambitious look at the social and political lives of the African-American community in the late 1960s and early 1970s. Anthony Curtis (Larenz Tate) is a young man coming of age in the Bronx in 1968. Working two part-time jobs -- one as a milkman's helper and another for local numbers runner Kirby (Keith David) -- Anthony is torn between doing the right thing and trying to get by in a environment that offers few opportunities to young black men. After graduating from high school, Anthony decides to join the Marines, news that is not well-received by his parents, who want him to go to college, or his girlfriend Juanita (Rose Jackson), with whom Anthony recently lost his virginity. After serving a horrific tour of duty in Viet Nam with his friends Skip (Chris Tucker) and Jose (Freddy Rodriguez), Anthony finds himself back home in 1973, where Juanita has been raising the child he fathered before he shipped out, drugs and crime have crippled his community, and honest job prospects are practically nil. Eventually, Anthony falls in with Kirby, Skip, and Jose, who have teamed with Juanita's sister Delilah (N'Bushe Wright), a Black Power activist, and Cleon (Bokeem Woodbine), in a scheme to rob an armored truck taking worn greenbacks (\"dead presidents\") to a mint to be destroyed. Martin Sheen and Seymour Cassel appear unbilled in small roles.",
         "R",
         "Drama",
         "Allen Hughes|Albert Hughes",
         "Michael Henry Brown|Albert Hughes|Allen Hughes",
         "1995-10-06 00:00:00",
         "1998-05-19 00:00:00",
         "119 "
        ],
        [
         "44",
         "57",
         "Life doesn't always go according to plan. Pat Solatano (Bradley Cooper) has lost everything -- his house, his job, and his wife. He now finds himself living back with his mother (Jacki Weaver) and father (Robert DeNiro) after spending eight months is a state institution on a plea bargain. Pat is determined to rebuild his life, remain positive and reunite with his wife, despite the challenging circumstances of their separation. All Pat's parents want is for him to get back on his feet-and to share their family's obsession with the Philadelphia Eagles football team. When Pat meets Tiffany (Jennifer Lawrence), a mysterious girl with problems of her own, things get complicated. Tiffany offers to help Pat reconnect with his wife, but only if he'll do something very important for her in return. As their deal plays out, an unexpected bond begins to form between them, and silver linings appear in both of their lives. -- (C) Weinstein",
         "R",
         "Comedy",
         null,
         null,
         "2012-11-21 00:00:00",
         "2013-04-30 00:00:00",
         "122 "
        ],
        [
         "45",
         "58",
         "A smaller, amusing comedy from writer/director Woody Allen, Broadway Danny Rose begins with a bunch of show business vets sitting around a table at New York's Carnegie Deli and reminiscing about the legendary titular character, a loser of an agent who would represent anyone, including blind xylophonists, piano-playing birds, and has-been crooners with drinking problems. Allen plays Rose as a befuddled, warm-hearted schlub who finally has a shot at getting somewhere when he signs washed-up lounge singer Lou Canova (Nick Apollo Forte) and nearly brings his career back to life. Danny gets him a date at the Waldorf, where Milton Berle is in the audience, looking for guests for his TV special. Canova has a complicated love life, juggling both a wife and a girlfriend. so he enlists Danny to take the girlfriend, Tina Vitale (Mia Farrow), to the concert. But Canova and Tina have a fight, she goes back to her Mafioso boyfriend, and Danny winds up getting chased halfway around New York and New Jersey by the Mob. And of course, once Canova gets his big break, he dumps Danny for another agent. Allen, Forte, and especially Farrow all do strong work with characters that could have easily become stereotypes, and the film has a lighter, warmer touch than the Allen films that preceded it (Stardust Memories and Zelig).",
         "PG",
         "Comedy|Romance",
         "Woody Allen",
         "Woody Allen",
         "1984-01-27 00:00:00",
         "2001-11-06 00:00:00",
         "86 "
        ],
        [
         "47",
         "60",
         "In 1982, Crippen High School was the scene of a gruesome series of dismemberment murders, but the killer was never identified. Five years later, Cosmic Pictures arrives at the long-abandoned campus to make a low-budget horror movie based on the tragedy, and suddenly the terror begins anew. The police department arrives at the school to find the building and grounds covered in gore and human body parts, the remains of the unfortunate film crew. The only survivor of this new massacre is the screenwriter, Arthur (Richard Brestoff), who tries to explain the horrifying events to the authorities. The troubled production's leading lady is angered over the demeaning nature of her role, the producer and director argue over the film's lack of artistic merits, and when cast members start disappearing, everyone else assumes that they're just quitting out of disgust. Who is the culprit? Is it the school's principal, appearing as himself in the film for the sake of realism? The janitor, who hopes to parlay his cameo into a pornography career? Or maybe Steven (Brendan Hughes), who was a student at Crippen during the original murder spree and finds himself reluctantly cast as the hero? This self-referential slasher parody features George Clooney in a small part as the film's first victim, and The Brady Bunch's Maureen McCormick as a policewoman with a lust for blood and hot dogs.",
         "R",
         "Horror",
         "Bill Froehlich",
         null,
         "1987-01-01 00:00:00",
         "2001-11-27 00:00:00",
         "95 "
        ],
        [
         "48",
         "61",
         "Death once again shows he's determined to get what he wants in this teen-centric thriller. Wendy (Mary Elizabeth Winstead) is a high school student hanging out with her friends at an amusement park one night when they decide to ride on the roller coaster. Wendy, however, has a premonition that something horrible will happen, and finds a way to save herself shortly before the ride goes off the rails, killing most of its passengers, including her boyfriend, Jason (Jesse Moss), and best friend, Carrie (Gina Holden). However, while Wendy may have survived the night at the park, she soon discovers that a malevolent spirit is following her and her classmates as they begin dying in strange and horrible ways. Wendy learns that a series of snapshots taken that evening give clues to the mayhem that followed her pals, and she teams up with Kevin (Ryan Merriman), Carrie's sweetheart, to try to warn the potential victims about the fates soon to befall them. Final Destination 3 was directed and co-scripted by James Wong, who also helmed the first two films in the franchise.",
         "R",
         "Action and Adventure|Drama|Horror|Mystery and Suspense",
         "James Wong",
         "James Wong|Glen Morgan",
         "2006-02-10 00:00:00",
         "2006-07-25 00:00:00",
         "93 "
        ],
        [
         "49",
         "63",
         "A policeman plays Good Samaritan to a visitor from Ireland, only to discover that he has a potentially deadly secret. Belfast-born Frankie McGuire (Brad Pitt) saw his father gunned down by enemy soldiers at the age of eight, and when he grew up he joined the Irish Republican Army, determined that one day his father's death would be avenged. An especially ruthless \"volunteer,\" Frankie is responsible for the death of 13 British soldiers and 11 policemen. After a particularly bloody battle, Frankie sails to the United States in a ragged tugboat he has restored; with a huge bundle of cash, Frankie intends to buy a stock of Stinger missiles from an underground arms dealer in America, Billy Burke (Treat Williams). Upon arrival in New York, Frankie is met by a judge who is sympathetic to the IRA's cause and who arranges a place for him to stay. Using the name Rory Devaney, Frankie moves into the home of Tom O'Meara (Harrison Ford), a scrupulously honest cop. Tom is already in the midst of a personal crisis; his friend and partner Edwin Diaz (Ruben Blades) recently shot a man that he knew was unarmed in the line of duty, and while Edwin wants Tom to help him cover up the matter, Tom's conscience will not allow it. When Tom begins to realize that \"Rory\" is not simply a man running from the violence of his homeland, he's torn between his sympathy for Frankie's tragic childhood and his desire to see justice served and prevent needless death in Ireland.",
         "R",
         "Action and Adventure|Drama|Mystery and Suspense",
         null,
         "David Aaron Cohen|Kevin Jarre|Vincent Patrick|Robin Squibb|Karen Wookey|Gary Capo",
         "1997-03-26 00:00:00",
         "1998-02-24 00:00:00",
         "111 "
        ],
        [
         "50",
         "64",
         "Somewhere in the naked city lurks a one-armed, one-legged, one-eyed man responsible for the murder for which Ryan Harrison has been wrongfully accused. To find him, all Ryan needs is a clue.",
         "PG-13",
         "Comedy",
         "Pat Proft",
         "Pat Proft",
         "1998-08-21 00:00:00",
         "1998-12-22 00:00:00",
         "86 "
        ],
        [
         "51",
         "65",
         "A classic Disney fairytale collides with modern-day New York City in a story about a fairytale princess from the past who is thrust into present-day by an evil queen. Soon after her arrival, Princess Giselle begins to change her views on life and love after meeting a handsome lawyer. Can a storybook view of romance survive in the real world?",
         "PG",
         "Comedy|Kids and Family|Romance",
         "Kevin Lima",
         null,
         "2007-11-21 00:00:00",
         "2008-03-18 00:00:00",
         "108 "
        ],
        [
         "52",
         "66",
         "Niels Arden Oplev, the acclaimed director of the original The Girl with the Dragon Tattoo, makes his American theatrical debut with the new action thriller, DEAD MAN DOWN. Colin Farrell and Noomi Rapace star as two strangers who are irresistibly drawn to one another by their mutual desire for revenge. The film co-stars Academy Award (R) nominee Terrence Howard and Dominic Cooper, from a screenplay by J.H.Wyman (Fringe). (c) Film District",
         "R",
         "Mystery and Suspense",
         "Niels Arden Oplev",
         null,
         "2013-03-08 00:00:00",
         "2013-07-09 00:00:00",
         "118 "
        ],
        [
         "53",
         "67",
         "After a mysterious, lost night on their honeymoon, a newlywed couple finds themselves dealing with an earlier-than-planned pregnancy. While recording everything for posterity, the husband begins to notice odd behavior in his wife that they initially write off to nerves, but, as the months pass, it becomes evident that the dark changes to her body and mind have a much more sinister origin. (C) Fox",
         "R",
         "Horror",
         "Matt Bettinelli-Olpin|Tyler Gillett",
         "Lindsay Devlin",
         "2014-01-17 00:00:00",
         "2014-04-29 00:00:00",
         "89 "
        ],
        [
         "54",
         "68",
         "This filmization of Aben Kandel's novel City for Conquest stars James Cagney as a truck driver-turned-boxer. As Cagney rises to the top in the ring, his ex-girlfriend Ann Sheridan forms a dance act with Anthony Quinn. Blinded during a fight by acid-tinged boxing gloves, Cagney tries to exact revenge on the gangster who arranged the \"accident,\" but is wounded in the melee. Now physically handicapped as well as visually challenged, Cagney becomes the manager of a New York newsstand through the kindness of his former manager Donald Crisp. Cagney uses his earnings to finance the musical education of his violinist brother Arthur Kennedy. Years later, a jilted Sheridan is reunited with Cagney at his newsstand, as both of them listen to the radio debut of Kennedy's first symphony. Upon its reissue in 1948, the film then ends abruptly (as do several preceding scenes) in order to fit a 98 minute running time; the original 1940 release ran 106 minutes.",
         "NR",
         "Classics|Drama",
         "Anatole Litvak",
         "John Wexley",
         "1940-09-21 00:00:00",
         "2006-07-18 00:00:00",
         "106 "
        ],
        [
         "56",
         "70",
         "Indiana Jones (Harrison Ford) is no ordinary archeologist. When we first see him, he is somewhere in the Peruvian jungle in 1936, running a booby-trapped gauntlet (complete with an over-sized rolling boulder) to fetch a solid-gold idol. He loses this artifact to his chief rival, a French archeologist named Belloq (Paul Freeman), who then prepares to kill our hero. In the first of many serial-like escapes, Indy eludes Belloq by hopping into a convenient plane. So, then: is Indiana Jones afraid of anything? Yes, snakes. The next time we see Jones, he's a soft-spoken, bespectacled professor. He is then summoned from his ivy-covered environs by Marcus Brody (Denholm Elliott) to find the long-lost Ark of the Covenant. The Nazis, it seems, are already searching for the Ark, which the mystical-minded Hitler hopes to use to make his stormtroopers invincible. But to find the Ark, Indy must first secure a medallion kept under the protection of Indy's old friend Abner Ravenwood, whose daughter, Marion (Karen Allen), evidently has a \"history\" with Jones. Whatever their personal differences, Indy and Marion become partners in one action-packed adventure after another, ranging from wandering the snake pits of the Well of Souls to surviving the pyrotechnic unearthing of the sacred Ark. A joint project of Hollywood prodigies George Lucas and Steven Spielberg, with a script co-written by Lawrence Kasdan and Philip Kaufman, among others, Raiders of the Lost Ark is not so much a movie as a 115-minute thrill ride. Costing 22 million dollars (nearly three times the original estimate), Raiders of the Lost Ark reaped 200 million dollars during its first run. It was followed by Indiana Jones and the Temple of Doom (1985) and Indiana Jones and the Last Crusade (1989), as well as a short-lived TV-series \"prequel.\"",
         "PG",
         "Action and Adventure",
         "Steven Spielberg",
         "Lawrence Kasdan",
         "1981-06-12 00:00:00",
         "2003-10-21 00:00:00",
         "115 "
        ],
        [
         "57",
         "71",
         "Alan Alda wrote, directed, and starred in this satirical film about the corruption of the film industry's approach to history. Alda plays Michael Burgess, a college professor who has written a historical novel about the American Revolution. The book has been turned into a script, and a Hollywood film crew descends on his North Carolina hometown to make the movie. Predictably, the director and actors make a mess of his concept, and Burgess becomes frustrated as the town is turned upside down. Desperately, he tries to salvage his concept with some last-minute script changes. To make things more complicated, Burgess falls in love with the glamorous female lead in the film, Faith Healy (Michelle Pfeiffer). Meanwhile, his long-time girlfriend, Gretchen (Lise Hilboldt) is pressuring him to get married. The film's male star, Elliott James (Michael Caine), finally shows up in town and becomes Burgess's rival for Faith's affections. Silent film star Lillian Gish appears as Burgess's smother.",
         "PG",
         "Comedy",
         "Alan Alda",
         "Alan Alda|Gore Vidal",
         "1986-05-14 00:00:00",
         "2004-11-23 00:00:00",
         "107 "
        ],
        [
         "58",
         "72",
         "In Harm's Way, based on James Bassett's novel Harm's Way, has enough plot in it for four movies or a good miniseries (when it was shown on network television in prime time, it was broken into two very full nights). On the morning of December 7, 1941, a heavy cruiser, commanded by Captain Rockwell Torrey (John Wayne), and the destroyer Cassidy, under acting commander Lieutenant (jg) William McConnell (Thomas Tryon), are two of a handful of ships that escape the destruction of the Japanese attack on Pearl Harbor. Under Torrey's command, the tiny fleet of a dozen ships carries out its orders to seek out and engage the enemy fleet. But lack of fuel and a daring maneuver (but tragic miscalculation) by Torrey causes his ship to be seriously damaged. He's relieved of command and assigned to a desk job routing convoys in the shakeup following the attack, and his exec and oldest friend, Commander Paul Eddington (Kirk Douglas), is reassigned after a brawl, the result of his anger after identifying the body of his wife (Barbara Bouchet) who was killed during the attack while cavorting with an Marine Corps officer. Torrey's shore assignment leads him to reestablish contact on a very hostile level with his estranged son, Ensign Jere Torrey (Brandon de Wilde), from his long-ended marriage; he establishes a romantic relationship with Lt. Maggie Haynes (Patricia Neal), a navy nurse; and he also befriends Commander Egan Powell (Burgess Meredith), a special-intelligence officer. Partly as a result of his contact with Powell, Torrey is chosen by the commander of the Pacific Fleet (Henry Fonda) to salvage an essential operation called Sky Hook, which has become bogged down through the indecisiveness of its area commander, Vice Admiral Broderick (Dana Andrews). Promoted to rear admiral, with Eddington -- who'd been rotting away on a shore assignment, drunk most of the time -- assigned as his chief of staff, Torrey gets Sky Hook rolling and finally finds his purpose in this war, gaining the belated admiration of his son in the process. Eddington is similarly motivated but is still haunted by the violent, ultimately self-destructive demons that blighted his marriage and his life -- he is particularly attracted to a young nurse, Annalee Dohrn (Jill Haworth), not knowing that she is already involved romantically with Jere Torrey. Meanwhile, McConnell survives the sinking of his ship and is ordered to join Torrey's staff. Matters all come to a head when the Japanese begin a counter-offensive to Torrey's planned troop landing. And just at the time Torrey needs his men at their best, Eddington's violence and rage boil to the surface in a way that will destroy him and blight both men's lives. In a final attempt at redemption, Eddington provides Torrey with the information he needs to set up a battle that he has at least a chance of winning, pitting his small task group of destroyers and cruisers against the Japanese task force led by the Yamato, the largest battleship ever built.",
         "R",
         "Action and Adventure|Classics|Drama",
         "Otto Preminger",
         "Wendell Mayes",
         "1965-04-06 00:00:00",
         "2001-05-22 00:00:00",
         "165 "
        ],
        [
         "60",
         "75",
         "Nicolas Cage headlines this high-octane thriller as Milton, a hard-case felon who breaks out of Hell to prevent the cult that murdered his daughter from sacrificing his infant granddaughter to Satan on the night of the full moon. With just three days to go before the ritual killing, Milton crosses paths with knockout waitress Piper (Amber Heard), who steals her cheating ex-boyfriend's vintage Charger and joins him on his quest to save the Earth from the forces of darkness. With Piper's help and a mean set of wheels to keep them moving, they may have a shot at taking down diabolical cult leader Jonah King (Billy Burke) before he achieves his malevolent goal. But should Jonah get the opportunity to make his dark sacrifice, he will become the most powerful man alive and all of humanity will suffer. Unfortunately for Milton, the cops are quickly closing in, and the Devil's determined minion, \"The Accountant\" (William Fichtner), will stop at nothing to drag him back down to Hell. With each passing minute, Milton's last shot at redemption is fading, and the fate of the entire world inches ever closer to infernal darkness.",
         "R",
         "Action and Adventure|Mystery and Suspense",
         "Patrick Lussier",
         null,
         "2011-02-25 00:00:00",
         "2011-05-31 00:00:00",
         "107 "
        ],
        [
         "61",
         "77",
         "Until he was downsized, affable, amiable Larry Crowne (Tom Hanks) was a superstar team leader at the big-box company where he's worked since his time in the Navy. Underwater on his mortgage and unclear on what to do with his suddenly free days, Larry heads to his local college to start over. There he becomes part of a colorful community of outcasts, also-rans and the overlooked all trying to find a better future for themselves...often moving around town in a herd of scooters. In his public-speaking class, Larry develops an unexpected crush on his teacher Mercedes Tainot (Julia Roberts), who has lost as much passion for teaching as she has for her husband. -- (C) Universal Pictures",
         "PG-13",
         "Comedy|Drama",
         "Tom Hanks",
         "Tom Hanks|Nia Vardalos",
         "2011-07-01 00:00:00",
         "2011-11-15 00:00:00",
         "99 "
        ],
        [
         "62",
         "79",
         "A somber portrait of organized crime and family trauma, Little Odessa centers on the trouble caused when hit man Joshua Shapira (Tim Roth) returns to his old neighborhood of Brighton Beach, Brooklyn. A hired killer for the Russian Mafia, Joshua is given an assignment in his hometown, where he renews contact with his younger brother Reuben (Edward Furlong) and an old flame (Moira Kelly). But others do not welcome Joshua's return, particularly his harsh, estranged father (Maximillian Schell), who had disowned Joshua years before and currently attempts to keep him from visiting his seriously ill mother (Vanessa Redgrave). The pressure of these family crises combine with Joshua's deepening involvement in the local crime scene, ultimately triggering a bloody confrontation. First-time director James Gray creates a solemn, oppressive atmosphere that emphasizes the already grim nature of his story. The slow pace and familiar crime narrative were attacked by many viewers, contributing to a mixed critical reaction, but Little Odessa nevertheless won admiration for Gray's visual sense and the skilled performance by Roth in the unsympathetic lead role.",
         "R",
         "Action and Adventure|Drama|Mystery and Suspense",
         "James Gray",
         "James Gray",
         "1995-05-19 00:00:00",
         "1999-03-16 00:00:00",
         "98 "
        ],
        [
         "63",
         "80",
         "When Francisco Manoel de Silva (Klaus Kinski) impregnates the three daughters of his plantation-owning employer, he is sent to West Africa to round up slaves. The irate land baron hopes the cynical and libidinous Francisco will meet certain death in the African jungles at the hands of hostile natives. Francisco instead manages to overthrow a mad monarch and set himself up as king. Despite enslaving the tribe, he shows signs of humanitarian benevolence. The character portrayed by Kinski in this feature is a cross between his insane portrayal in Aguirre and the comic madness in Fitzcarraldo. Francisco tries to escape from the natives when his employer swindles him and slavery is abolished. This fifth and final collaboration between director Herzog and Kinski is considered the weakest of the five features.",
         "NR",
         "Action and Adventure|Art House and International|Drama",
         "Werner Herzog",
         "Werner Herzog",
         "1987-12-03 00:00:00",
         "2000-10-24 00:00:00",
         "110 "
        ],
        [
         "64",
         "82",
         "Donnie (Jake Gyllenhaal) is a bright and charming high-school student who also has a dark and willfully eccentric side; he does little to mask his contempt for many of his peers and enjoys challenging the authority of the adults around him. Donnie is also visited on occasion by Frank, a monstrous six-foot rabbit that only Donnie can see who often urges him to perform dangerous and destructive pranks. Late one night, Frank leads Donnie out of his home to inform him that the world will come to an end in less than a month; moments later, the engine of a jet aircraft comes crashing through the ceiling of Donnie's room, making him think there might be something to Frank's prophesies after all. The rest of Donnie's world is only marginally less bizarre, as he finds himself dealing with his confused parents (Mary McDonnell and Holmes Osborne), his college-age sister (Maggie Gyllenhaal), his perplexed analyst (Katherine Ross), a rebellious English teacher (Drew Barrymore), a sleazy self-help expert (Patrick Swayze), and the new girl at school who is attracted by Donnie's quirks (Jena Malone). Donnie Darko was the first feature film from writer and director Richard Kelly; Drew Barrymore, who plays teacher Karen Pomeroy, also lent her support to the project as executive producer. A director's cut played in select theaters on a limited basis in the summer of 2004, featuring original music cues and trimmed scenes originally in Kelly's first cut of the film.",
         "R",
         "Comedy|Mystery and Suspense|Science Fiction and Fantasy|Romance",
         "Richard Kelly",
         "Richard Kelly",
         "2001-01-19 00:00:00",
         "2002-03-19 00:00:00",
         "113 "
        ]
       ],
       "shape": {
        "columns": 9,
        "rows": 1201
       }
      },
      "text/html": [
       "<div>\n",
       "<style scoped>\n",
       "    .dataframe tbody tr th:only-of-type {\n",
       "        vertical-align: middle;\n",
       "    }\n",
       "\n",
       "    .dataframe tbody tr th {\n",
       "        vertical-align: top;\n",
       "    }\n",
       "\n",
       "    .dataframe thead th {\n",
       "        text-align: right;\n",
       "    }\n",
       "</style>\n",
       "<table border=\"1\" class=\"dataframe\">\n",
       "  <thead>\n",
       "    <tr style=\"text-align: right;\">\n",
       "      <th></th>\n",
       "      <th>id</th>\n",
       "      <th>synopsis</th>\n",
       "      <th>rating</th>\n",
       "      <th>genre</th>\n",
       "      <th>director</th>\n",
       "      <th>writer</th>\n",
       "      <th>theater_date</th>\n",
       "      <th>dvd_date</th>\n",
       "      <th>runtime</th>\n",
       "    </tr>\n",
       "  </thead>\n",
       "  <tbody>\n",
       "    <tr>\n",
       "      <th>0</th>\n",
       "      <td>1</td>\n",
       "      <td>This gritty, fast-paced, and innovative police...</td>\n",
       "      <td>R</td>\n",
       "      <td>Action and Adventure|Classics|Drama</td>\n",
       "      <td>William Friedkin</td>\n",
       "      <td>Ernest Tidyman</td>\n",
       "      <td>1971-10-09</td>\n",
       "      <td>2001-09-25</td>\n",
       "      <td>104</td>\n",
       "    </tr>\n",
       "    <tr>\n",
       "      <th>1</th>\n",
       "      <td>3</td>\n",
       "      <td>New York City, not-too-distant-future: Eric Pa...</td>\n",
       "      <td>R</td>\n",
       "      <td>Drama|Science Fiction and Fantasy</td>\n",
       "      <td>David Cronenberg</td>\n",
       "      <td>David Cronenberg|Don DeLillo</td>\n",
       "      <td>2012-08-17</td>\n",
       "      <td>2013-01-01</td>\n",
       "      <td>108</td>\n",
       "    </tr>\n",
       "    <tr>\n",
       "      <th>2</th>\n",
       "      <td>5</td>\n",
       "      <td>Illeana Douglas delivers a superb performance ...</td>\n",
       "      <td>R</td>\n",
       "      <td>Drama|Musical and Performing Arts</td>\n",
       "      <td>Allison Anders</td>\n",
       "      <td>Allison Anders</td>\n",
       "      <td>1996-09-13</td>\n",
       "      <td>2000-04-18</td>\n",
       "      <td>116</td>\n",
       "    </tr>\n",
       "    <tr>\n",
       "      <th>3</th>\n",
       "      <td>6</td>\n",
       "      <td>Michael Douglas runs afoul of a treacherous su...</td>\n",
       "      <td>R</td>\n",
       "      <td>Drama|Mystery and Suspense</td>\n",
       "      <td>Barry Levinson</td>\n",
       "      <td>Paul Attanasio|Michael Crichton</td>\n",
       "      <td>1994-12-09</td>\n",
       "      <td>1997-08-27</td>\n",
       "      <td>128</td>\n",
       "    </tr>\n",
       "    <tr>\n",
       "      <th>5</th>\n",
       "      <td>8</td>\n",
       "      <td>The year is 1942. As the Allies unite overseas...</td>\n",
       "      <td>PG</td>\n",
       "      <td>Drama|Kids and Family</td>\n",
       "      <td>Jay Russell</td>\n",
       "      <td>Gail Gilchriest</td>\n",
       "      <td>2000-03-03</td>\n",
       "      <td>2000-07-11</td>\n",
       "      <td>95</td>\n",
       "    </tr>\n",
       "    <tr>\n",
       "      <th>...</th>\n",
       "      <td>...</td>\n",
       "      <td>...</td>\n",
       "      <td>...</td>\n",
       "      <td>...</td>\n",
       "      <td>...</td>\n",
       "      <td>...</td>\n",
       "      <td>...</td>\n",
       "      <td>...</td>\n",
       "      <td>...</td>\n",
       "    </tr>\n",
       "    <tr>\n",
       "      <th>1555</th>\n",
       "      <td>1996</td>\n",
       "      <td>Forget terrorists or hijackers -- there's a ha...</td>\n",
       "      <td>R</td>\n",
       "      <td>Action and Adventure|Horror|Mystery and Suspense</td>\n",
       "      <td>NaN</td>\n",
       "      <td>NaN</td>\n",
       "      <td>2006-08-18</td>\n",
       "      <td>2007-01-02</td>\n",
       "      <td>106</td>\n",
       "    </tr>\n",
       "    <tr>\n",
       "      <th>1556</th>\n",
       "      <td>1997</td>\n",
       "      <td>The popular Saturday Night Live sketch was exp...</td>\n",
       "      <td>PG</td>\n",
       "      <td>Comedy|Science Fiction and Fantasy</td>\n",
       "      <td>Steve Barron</td>\n",
       "      <td>Terry Turner|Tom Davis|Dan Aykroyd|Bonnie Turner</td>\n",
       "      <td>1993-07-23</td>\n",
       "      <td>2001-04-17</td>\n",
       "      <td>88</td>\n",
       "    </tr>\n",
       "    <tr>\n",
       "      <th>1557</th>\n",
       "      <td>1998</td>\n",
       "      <td>Based on a novel by Richard Powell, when the l...</td>\n",
       "      <td>G</td>\n",
       "      <td>Classics|Comedy|Drama|Musical and Performing Arts</td>\n",
       "      <td>Gordon Douglas</td>\n",
       "      <td>NaN</td>\n",
       "      <td>1962-01-01</td>\n",
       "      <td>2004-05-11</td>\n",
       "      <td>111</td>\n",
       "    </tr>\n",
       "    <tr>\n",
       "      <th>1558</th>\n",
       "      <td>1999</td>\n",
       "      <td>The Sandlot is a coming-of-age story about a g...</td>\n",
       "      <td>PG</td>\n",
       "      <td>Comedy|Drama|Kids and Family|Sports and Fitness</td>\n",
       "      <td>David Mickey Evans</td>\n",
       "      <td>David Mickey Evans|Robert Gunter</td>\n",
       "      <td>1993-04-01</td>\n",
       "      <td>2002-01-29</td>\n",
       "      <td>101</td>\n",
       "    </tr>\n",
       "    <tr>\n",
       "      <th>1559</th>\n",
       "      <td>2000</td>\n",
       "      <td>Suspended from the force, Paris cop Hubert is ...</td>\n",
       "      <td>R</td>\n",
       "      <td>Action and Adventure|Art House and Internation...</td>\n",
       "      <td>NaN</td>\n",
       "      <td>Luc Besson</td>\n",
       "      <td>2001-09-27</td>\n",
       "      <td>2003-02-11</td>\n",
       "      <td>94</td>\n",
       "    </tr>\n",
       "  </tbody>\n",
       "</table>\n",
       "<p>1201 rows × 9 columns</p>\n",
       "</div>"
      ],
      "text/plain": [
       "        id                                           synopsis rating  \\\n",
       "0        1  This gritty, fast-paced, and innovative police...      R   \n",
       "1        3  New York City, not-too-distant-future: Eric Pa...      R   \n",
       "2        5  Illeana Douglas delivers a superb performance ...      R   \n",
       "3        6  Michael Douglas runs afoul of a treacherous su...      R   \n",
       "5        8  The year is 1942. As the Allies unite overseas...     PG   \n",
       "...    ...                                                ...    ...   \n",
       "1555  1996  Forget terrorists or hijackers -- there's a ha...      R   \n",
       "1556  1997  The popular Saturday Night Live sketch was exp...     PG   \n",
       "1557  1998  Based on a novel by Richard Powell, when the l...      G   \n",
       "1558  1999  The Sandlot is a coming-of-age story about a g...     PG   \n",
       "1559  2000  Suspended from the force, Paris cop Hubert is ...      R   \n",
       "\n",
       "                                                  genre            director  \\\n",
       "0                   Action and Adventure|Classics|Drama    William Friedkin   \n",
       "1                     Drama|Science Fiction and Fantasy    David Cronenberg   \n",
       "2                     Drama|Musical and Performing Arts      Allison Anders   \n",
       "3                            Drama|Mystery and Suspense      Barry Levinson   \n",
       "5                                 Drama|Kids and Family         Jay Russell   \n",
       "...                                                 ...                 ...   \n",
       "1555   Action and Adventure|Horror|Mystery and Suspense                 NaN   \n",
       "1556                 Comedy|Science Fiction and Fantasy        Steve Barron   \n",
       "1557  Classics|Comedy|Drama|Musical and Performing Arts      Gordon Douglas   \n",
       "1558    Comedy|Drama|Kids and Family|Sports and Fitness  David Mickey Evans   \n",
       "1559  Action and Adventure|Art House and Internation...                 NaN   \n",
       "\n",
       "                                                writer theater_date  \\\n",
       "0                                       Ernest Tidyman   1971-10-09   \n",
       "1                         David Cronenberg|Don DeLillo   2012-08-17   \n",
       "2                                       Allison Anders   1996-09-13   \n",
       "3                      Paul Attanasio|Michael Crichton   1994-12-09   \n",
       "5                                      Gail Gilchriest   2000-03-03   \n",
       "...                                                ...          ...   \n",
       "1555                                               NaN   2006-08-18   \n",
       "1556  Terry Turner|Tom Davis|Dan Aykroyd|Bonnie Turner   1993-07-23   \n",
       "1557                                               NaN   1962-01-01   \n",
       "1558                  David Mickey Evans|Robert Gunter   1993-04-01   \n",
       "1559                                        Luc Besson   2001-09-27   \n",
       "\n",
       "       dvd_date runtime  \n",
       "0    2001-09-25    104   \n",
       "1    2013-01-01    108   \n",
       "2    2000-04-18    116   \n",
       "3    1997-08-27    128   \n",
       "5    2000-07-11     95   \n",
       "...         ...     ...  \n",
       "1555 2007-01-02    106   \n",
       "1556 2001-04-17     88   \n",
       "1557 2004-05-11    111   \n",
       "1558 2002-01-29    101   \n",
       "1559 2003-02-11     94   \n",
       "\n",
       "[1201 rows x 9 columns]"
      ]
     },
     "execution_count": 63,
     "metadata": {},
     "output_type": "execute_result"
    }
   ],
   "source": [
    "# Fill the Nulls\n",
    "rt_info1.fillna({'director': 'Unknown'})\n",
    "rt_info1.fillna({'writer': 'Unknown'})\n",
    "rt_info1.fillna({'synopsis': 'Not available'})"
   ]
  },
  {
   "cell_type": "markdown",
   "metadata": {},
   "source": [
    "#### Feature Engineering"
   ]
  },
  {
   "cell_type": "code",
   "execution_count": 64,
   "metadata": {},
   "outputs": [],
   "source": [
    "#Create new columns for year and month\n",
    "rt_info1['year']= rt_info1['theater_date'].dt.strftime('%Y')\n",
    "rt_info1['month']= rt_info1['theater_date'].dt.strftime('%m')"
   ]
  },
  {
   "cell_type": "markdown",
   "metadata": {},
   "source": [
    "### **Dataset 3**: Box Office Mojo  `bom.movie_gross`"
   ]
  },
  {
   "cell_type": "code",
   "execution_count": 65,
   "metadata": {},
   "outputs": [],
   "source": [
    "# Loading the dataset and creating a copy\n",
    "bom_movie = pd.read_csv(path_1)\n",
    "bom_movie_copy = bom_movie.copy(deep=True)"
   ]
  },
  {
   "cell_type": "code",
   "execution_count": 66,
   "metadata": {},
   "outputs": [
    {
     "name": "stdout",
     "output_type": "stream",
     "text": [
      "<class 'pandas.core.frame.DataFrame'>\n",
      "RangeIndex: 3387 entries, 0 to 3386\n",
      "Data columns (total 5 columns):\n",
      " #   Column          Non-Null Count  Dtype  \n",
      "---  ------          --------------  -----  \n",
      " 0   title           3387 non-null   object \n",
      " 1   studio          3382 non-null   object \n",
      " 2   domestic_gross  3359 non-null   float64\n",
      " 3   foreign_gross   2037 non-null   object \n",
      " 4   year            3387 non-null   int64  \n",
      "dtypes: float64(1), int64(1), object(3)\n",
      "memory usage: 132.4+ KB\n",
      "(3387, 5)\n",
      "Index(['title', 'studio', 'domestic_gross', 'foreign_gross', 'year'], dtype='object')\n"
     ]
    },
    {
     "data": {
      "application/vnd.microsoft.datawrangler.viewer.v0+json": {
       "columns": [
        {
         "name": "index",
         "rawType": "object",
         "type": "string"
        },
        {
         "name": "0",
         "rawType": "int64",
         "type": "integer"
        }
       ],
       "ref": "c99270e3-e98a-4998-9021-45934c03924b",
       "rows": [
        [
         "title",
         "0"
        ],
        [
         "studio",
         "5"
        ],
        [
         "domestic_gross",
         "28"
        ],
        [
         "foreign_gross",
         "1350"
        ],
        [
         "year",
         "0"
        ]
       ],
       "shape": {
        "columns": 1,
        "rows": 5
       }
      },
      "text/plain": [
       "title                0\n",
       "studio               5\n",
       "domestic_gross      28\n",
       "foreign_gross     1350\n",
       "year                 0\n",
       "dtype: int64"
      ]
     },
     "execution_count": 66,
     "metadata": {},
     "output_type": "execute_result"
    }
   ],
   "source": [
    "# Checking for the general structure of the dataset\n",
    "bom_movie_copy.info()\n",
    "print(bom_movie_copy.shape)\n",
    "print(bom_movie_copy.columns)\n",
    "bom_movie_copy.isna().sum()"
   ]
  },
  {
   "cell_type": "markdown",
   "metadata": {},
   "source": [
    "- The dataset contains 3387 rows and 5 columns with 3 columns containing missing values. It also has 3 categorial data and 2 numerical.\n"
   ]
  },
  {
   "cell_type": "code",
   "execution_count": 67,
   "metadata": {},
   "outputs": [
    {
     "data": {
      "application/vnd.microsoft.datawrangler.viewer.v0+json": {
       "columns": [
        {
         "name": "index",
         "rawType": "int64",
         "type": "integer"
        },
        {
         "name": "title",
         "rawType": "object",
         "type": "string"
        },
        {
         "name": "studio",
         "rawType": "object",
         "type": "string"
        },
        {
         "name": "domestic_gross",
         "rawType": "float64",
         "type": "float"
        },
        {
         "name": "foreign_gross",
         "rawType": "object",
         "type": "string"
        },
        {
         "name": "year",
         "rawType": "int64",
         "type": "integer"
        }
       ],
       "ref": "f6962d02-7b25-4d91-a9b1-91de0015b00b",
       "rows": [
        [
         "0",
         "Toy Story 3",
         "BV",
         "415000000.0",
         "652000000",
         "2010"
        ],
        [
         "1",
         "Alice in Wonderland (2010)",
         "BV",
         "334200000.0",
         "691300000",
         "2010"
        ],
        [
         "2",
         "Harry Potter and the Deathly Hallows Part 1",
         "WB",
         "296000000.0",
         "664300000",
         "2010"
        ],
        [
         "3",
         "Inception",
         "WB",
         "292600000.0",
         "535700000",
         "2010"
        ],
        [
         "4",
         "Shrek Forever After",
         "P/DW",
         "238700000.0",
         "513900000",
         "2010"
        ]
       ],
       "shape": {
        "columns": 5,
        "rows": 5
       }
      },
      "text/html": [
       "<div>\n",
       "<style scoped>\n",
       "    .dataframe tbody tr th:only-of-type {\n",
       "        vertical-align: middle;\n",
       "    }\n",
       "\n",
       "    .dataframe tbody tr th {\n",
       "        vertical-align: top;\n",
       "    }\n",
       "\n",
       "    .dataframe thead th {\n",
       "        text-align: right;\n",
       "    }\n",
       "</style>\n",
       "<table border=\"1\" class=\"dataframe\">\n",
       "  <thead>\n",
       "    <tr style=\"text-align: right;\">\n",
       "      <th></th>\n",
       "      <th>title</th>\n",
       "      <th>studio</th>\n",
       "      <th>domestic_gross</th>\n",
       "      <th>foreign_gross</th>\n",
       "      <th>year</th>\n",
       "    </tr>\n",
       "  </thead>\n",
       "  <tbody>\n",
       "    <tr>\n",
       "      <th>0</th>\n",
       "      <td>Toy Story 3</td>\n",
       "      <td>BV</td>\n",
       "      <td>415000000.0</td>\n",
       "      <td>652000000</td>\n",
       "      <td>2010</td>\n",
       "    </tr>\n",
       "    <tr>\n",
       "      <th>1</th>\n",
       "      <td>Alice in Wonderland (2010)</td>\n",
       "      <td>BV</td>\n",
       "      <td>334200000.0</td>\n",
       "      <td>691300000</td>\n",
       "      <td>2010</td>\n",
       "    </tr>\n",
       "    <tr>\n",
       "      <th>2</th>\n",
       "      <td>Harry Potter and the Deathly Hallows Part 1</td>\n",
       "      <td>WB</td>\n",
       "      <td>296000000.0</td>\n",
       "      <td>664300000</td>\n",
       "      <td>2010</td>\n",
       "    </tr>\n",
       "    <tr>\n",
       "      <th>3</th>\n",
       "      <td>Inception</td>\n",
       "      <td>WB</td>\n",
       "      <td>292600000.0</td>\n",
       "      <td>535700000</td>\n",
       "      <td>2010</td>\n",
       "    </tr>\n",
       "    <tr>\n",
       "      <th>4</th>\n",
       "      <td>Shrek Forever After</td>\n",
       "      <td>P/DW</td>\n",
       "      <td>238700000.0</td>\n",
       "      <td>513900000</td>\n",
       "      <td>2010</td>\n",
       "    </tr>\n",
       "  </tbody>\n",
       "</table>\n",
       "</div>"
      ],
      "text/plain": [
       "                                         title studio  domestic_gross  \\\n",
       "0                                  Toy Story 3     BV     415000000.0   \n",
       "1                   Alice in Wonderland (2010)     BV     334200000.0   \n",
       "2  Harry Potter and the Deathly Hallows Part 1     WB     296000000.0   \n",
       "3                                    Inception     WB     292600000.0   \n",
       "4                          Shrek Forever After   P/DW     238700000.0   \n",
       "\n",
       "  foreign_gross  year  \n",
       "0     652000000  2010  \n",
       "1     691300000  2010  \n",
       "2     664300000  2010  \n",
       "3     535700000  2010  \n",
       "4     513900000  2010  "
      ]
     },
     "execution_count": 67,
     "metadata": {},
     "output_type": "execute_result"
    }
   ],
   "source": [
    "# checking the first five rows\n",
    "bom_movie.head()"
   ]
  },
  {
   "cell_type": "code",
   "execution_count": 70,
   "metadata": {},
   "outputs": [
    {
     "data": {
      "application/vnd.microsoft.datawrangler.viewer.v0+json": {
       "columns": [
        {
         "name": "index",
         "rawType": "object",
         "type": "string"
        },
        {
         "name": "title",
         "rawType": "object",
         "type": "unknown"
        },
        {
         "name": "studio",
         "rawType": "object",
         "type": "unknown"
        },
        {
         "name": "domestic_gross",
         "rawType": "float64",
         "type": "float"
        },
        {
         "name": "foreign_gross",
         "rawType": "object",
         "type": "unknown"
        },
        {
         "name": "year",
         "rawType": "float64",
         "type": "float"
        }
       ],
       "ref": "f1013aef-115a-4dd0-9476-5a8cb3b1f4f9",
       "rows": [
        [
         "count",
         "3387",
         "3382",
         "3359.0",
         "2037",
         "3387.0"
        ],
        [
         "unique",
         "3386",
         "257",
         null,
         "1204",
         null
        ],
        [
         "top",
         "Bluebeard",
         "IFC",
         null,
         "1200000",
         null
        ],
        [
         "freq",
         "2",
         "166",
         null,
         "23",
         null
        ],
        [
         "mean",
         null,
         null,
         "28745845.06698422",
         null,
         "2013.9580749926188"
        ],
        [
         "std",
         null,
         null,
         "66982498.23736458",
         null,
         "2.4781410973889413"
        ],
        [
         "min",
         null,
         null,
         "100.0",
         null,
         "2010.0"
        ],
        [
         "25%",
         null,
         null,
         "120000.0",
         null,
         "2012.0"
        ],
        [
         "50%",
         null,
         null,
         "1400000.0",
         null,
         "2014.0"
        ],
        [
         "75%",
         null,
         null,
         "27900000.0",
         null,
         "2016.0"
        ],
        [
         "max",
         null,
         null,
         "936700000.0",
         null,
         "2018.0"
        ]
       ],
       "shape": {
        "columns": 5,
        "rows": 11
       }
      },
      "text/html": [
       "<div>\n",
       "<style scoped>\n",
       "    .dataframe tbody tr th:only-of-type {\n",
       "        vertical-align: middle;\n",
       "    }\n",
       "\n",
       "    .dataframe tbody tr th {\n",
       "        vertical-align: top;\n",
       "    }\n",
       "\n",
       "    .dataframe thead th {\n",
       "        text-align: right;\n",
       "    }\n",
       "</style>\n",
       "<table border=\"1\" class=\"dataframe\">\n",
       "  <thead>\n",
       "    <tr style=\"text-align: right;\">\n",
       "      <th></th>\n",
       "      <th>title</th>\n",
       "      <th>studio</th>\n",
       "      <th>domestic_gross</th>\n",
       "      <th>foreign_gross</th>\n",
       "      <th>year</th>\n",
       "    </tr>\n",
       "  </thead>\n",
       "  <tbody>\n",
       "    <tr>\n",
       "      <th>count</th>\n",
       "      <td>3387</td>\n",
       "      <td>3382</td>\n",
       "      <td>3.359000e+03</td>\n",
       "      <td>2037</td>\n",
       "      <td>3387.000000</td>\n",
       "    </tr>\n",
       "    <tr>\n",
       "      <th>unique</th>\n",
       "      <td>3386</td>\n",
       "      <td>257</td>\n",
       "      <td>NaN</td>\n",
       "      <td>1204</td>\n",
       "      <td>NaN</td>\n",
       "    </tr>\n",
       "    <tr>\n",
       "      <th>top</th>\n",
       "      <td>Bluebeard</td>\n",
       "      <td>IFC</td>\n",
       "      <td>NaN</td>\n",
       "      <td>1200000</td>\n",
       "      <td>NaN</td>\n",
       "    </tr>\n",
       "    <tr>\n",
       "      <th>freq</th>\n",
       "      <td>2</td>\n",
       "      <td>166</td>\n",
       "      <td>NaN</td>\n",
       "      <td>23</td>\n",
       "      <td>NaN</td>\n",
       "    </tr>\n",
       "    <tr>\n",
       "      <th>mean</th>\n",
       "      <td>NaN</td>\n",
       "      <td>NaN</td>\n",
       "      <td>2.874585e+07</td>\n",
       "      <td>NaN</td>\n",
       "      <td>2013.958075</td>\n",
       "    </tr>\n",
       "    <tr>\n",
       "      <th>std</th>\n",
       "      <td>NaN</td>\n",
       "      <td>NaN</td>\n",
       "      <td>6.698250e+07</td>\n",
       "      <td>NaN</td>\n",
       "      <td>2.478141</td>\n",
       "    </tr>\n",
       "    <tr>\n",
       "      <th>min</th>\n",
       "      <td>NaN</td>\n",
       "      <td>NaN</td>\n",
       "      <td>1.000000e+02</td>\n",
       "      <td>NaN</td>\n",
       "      <td>2010.000000</td>\n",
       "    </tr>\n",
       "    <tr>\n",
       "      <th>25%</th>\n",
       "      <td>NaN</td>\n",
       "      <td>NaN</td>\n",
       "      <td>1.200000e+05</td>\n",
       "      <td>NaN</td>\n",
       "      <td>2012.000000</td>\n",
       "    </tr>\n",
       "    <tr>\n",
       "      <th>50%</th>\n",
       "      <td>NaN</td>\n",
       "      <td>NaN</td>\n",
       "      <td>1.400000e+06</td>\n",
       "      <td>NaN</td>\n",
       "      <td>2014.000000</td>\n",
       "    </tr>\n",
       "    <tr>\n",
       "      <th>75%</th>\n",
       "      <td>NaN</td>\n",
       "      <td>NaN</td>\n",
       "      <td>2.790000e+07</td>\n",
       "      <td>NaN</td>\n",
       "      <td>2016.000000</td>\n",
       "    </tr>\n",
       "    <tr>\n",
       "      <th>max</th>\n",
       "      <td>NaN</td>\n",
       "      <td>NaN</td>\n",
       "      <td>9.367000e+08</td>\n",
       "      <td>NaN</td>\n",
       "      <td>2018.000000</td>\n",
       "    </tr>\n",
       "  </tbody>\n",
       "</table>\n",
       "</div>"
      ],
      "text/plain": [
       "            title studio  domestic_gross foreign_gross         year\n",
       "count        3387   3382    3.359000e+03          2037  3387.000000\n",
       "unique       3386    257             NaN          1204          NaN\n",
       "top     Bluebeard    IFC             NaN       1200000          NaN\n",
       "freq            2    166             NaN            23          NaN\n",
       "mean          NaN    NaN    2.874585e+07           NaN  2013.958075\n",
       "std           NaN    NaN    6.698250e+07           NaN     2.478141\n",
       "min           NaN    NaN    1.000000e+02           NaN  2010.000000\n",
       "25%           NaN    NaN    1.200000e+05           NaN  2012.000000\n",
       "50%           NaN    NaN    1.400000e+06           NaN  2014.000000\n",
       "75%           NaN    NaN    2.790000e+07           NaN  2016.000000\n",
       "max           NaN    NaN    9.367000e+08           NaN  2018.000000"
      ]
     },
     "execution_count": 70,
     "metadata": {},
     "output_type": "execute_result"
    }
   ],
   "source": [
    "# Checking statistical Summary\n",
    "bom_movie.describe( include='all')"
   ]
  },
  {
   "cell_type": "code",
   "execution_count": 71,
   "metadata": {},
   "outputs": [
    {
     "data": {
      "text/plain": [
       "0"
      ]
     },
     "execution_count": 71,
     "metadata": {},
     "output_type": "execute_result"
    }
   ],
   "source": [
    "#checking for duplicates\n",
    "bom_movie.duplicated().sum()"
   ]
  },
  {
   "cell_type": "markdown",
   "metadata": {},
   "source": [
    "- The Box Office Mojo dataset has no duplicated values."
   ]
  },
  {
   "cell_type": "code",
   "execution_count": 72,
   "metadata": {},
   "outputs": [
    {
     "data": {
      "text/plain": [
       "array(['BV', 'WB', 'P/DW', 'Sum.', 'Par.', 'Uni.', 'Fox', 'Wein.', 'Sony',\n",
       "       'FoxS', 'SGem', 'WB (NL)', 'LGF', 'MBox', 'CL', 'W/Dim.', 'CBS',\n",
       "       'Focus', 'MGM', 'Over.', 'Mira.', 'IFC', 'CJ', 'NM', 'SPC', 'ParV',\n",
       "       'Gold.', 'JS', 'RAtt.', 'Magn.', 'Free', '3D', 'UTV', 'Rela.',\n",
       "       'Zeit.', 'Anch.', 'PDA', 'Lorb.', 'App.', 'Drft.', 'Osci.', 'IW',\n",
       "       'Rog.', nan, 'Eros', 'Relbig.', 'Viv.', 'Hann.', 'Strand', 'NGE',\n",
       "       'Scre.', 'Kino', 'Abr.', 'CZ', 'ATO', 'First', 'GK', 'FInd.',\n",
       "       'NFC', 'TFC', 'Pala.', 'Imag.', 'NAV', 'Arth.', 'CLS', 'Mont.',\n",
       "       'Olive', 'CGld', 'FOAK', 'IVP', 'Yash', 'ICir', 'FM', 'Vita.',\n",
       "       'WOW', 'Truly', 'Indic.', 'FD', 'Vari.', 'TriS', 'ORF', 'IM',\n",
       "       'Elev.', 'Cohen', 'NeoC', 'Jan.', 'MNE', 'Trib.', 'Rocket',\n",
       "       'OMNI/FSR', 'KKM', 'Argo.', 'SMod', 'Libre', 'FRun', 'WHE', 'P4',\n",
       "       'KC', 'SD', 'AM', 'MPFT', 'Icar.', 'AGF', 'A23', 'Da.', 'NYer',\n",
       "       'Rialto', 'DF', 'KL', 'ALP', 'LG/S', 'WGUSA', 'MPI', 'RTWC', 'FIP',\n",
       "       'RF', 'ArcEnt', 'PalUni', 'EpicPics', 'EOne', 'LD', 'AF', 'TFA',\n",
       "       'Myr.', 'BM&DH', 'SEG', 'PalT', 'Outs', 'OutF', 'BSM', 'WAMCR',\n",
       "       'PM&E', 'A24', 'Cdgm.', 'Distrib.', 'Imax', 'PH', 'HTR', 'ELS',\n",
       "       'PI', 'E1', 'TVC', 'FEF', 'EXCL', 'MSF', 'P/108', 'FCW', 'XL',\n",
       "       'Shout!', 'SV', 'CE', 'VPD', 'KE', 'Saban', 'CF&SR', 'Triu', 'DR',\n",
       "       'Crnth', 'Ampl.', 'CP', 'Proud', 'BGP', 'Abk.', 'DLA', 'B360',\n",
       "       'BWP', 'SEA', 'RME', 'KS', 'VE', 'LGP', 'EC', 'FUN', 'STX', 'AR',\n",
       "       'BG', 'PFR', 'BST', 'BH Tilt', 'BSC', 'U/P', 'UHE', 'CLF', 'FR',\n",
       "       'AaF', 'Orch.', 'Alc', 'PBS', 'SHO', 'Grav.', 'Gathr', 'Asp.',\n",
       "       'ADC', 'Rel.', 'SM', 'AZ', 'UEP', 'ITL', 'TA', 'MR', 'BBC',\n",
       "       'CFilms', 'Part.', 'FOR', 'TAFC', 'JBG', 'PNT', 'CineGalaxy',\n",
       "       'Fathom', 'Zee', 'Men.', 'YFG', 'Gaatri', 'Mon', 'Ghop',\n",
       "       'Cleopatra', 'Dreamwest', 'SDS', 'Linn', 'Electric', 'Jampa', 'HC',\n",
       "       'GrtIndia', 'Neon', 'ENTMP', 'Good Deed', 'ParC', 'Aviron',\n",
       "       'Annapurna', 'Amazon', 'Affirm', 'MOM', 'Orion', 'CFI', 'UTMW',\n",
       "       'Crimson', 'CAVU', 'EF', 'Arrow', 'Hiber', 'Studio 8',\n",
       "       'Global Road', 'Trafalgar', 'Greenwich', 'Spanglish', 'Blue Fox',\n",
       "       'RLJ', 'Swen', 'PackYourBag', 'Gaum.', 'Grindstone',\n",
       "       'Conglomerate', 'MUBI', 'Darin Southa', 'Super', 'CARUSEL', 'PDF',\n",
       "       'Synergetic'], dtype=object)"
      ]
     },
     "execution_count": 72,
     "metadata": {},
     "output_type": "execute_result"
    }
   ],
   "source": [
    "# Checking studio column missing values and cleaning the names\n",
    "bom_movie_copy[\"studio\"].unique()\n"
   ]
  },
  {
   "cell_type": "code",
   "execution_count": 76,
   "metadata": {},
   "outputs": [
    {
     "data": {
      "application/vnd.microsoft.datawrangler.viewer.v0+json": {
       "columns": [
        {
         "name": "index",
         "rawType": "int64",
         "type": "integer"
        },
        {
         "name": "studio",
         "rawType": "object",
         "type": "unknown"
        }
       ],
       "ref": "9649c414-775c-4bf2-ad7b-8d694b69bf71",
       "rows": [
        [
         "0",
         "BV"
        ],
        [
         "1",
         "BV"
        ],
        [
         "2",
         "WB"
        ],
        [
         "3",
         "WB"
        ],
        [
         "4",
         "P/DW"
        ],
        [
         "5",
         "SUM"
        ],
        [
         "6",
         "PAR"
        ],
        [
         "7",
         "BV"
        ],
        [
         "8",
         "UNI"
        ],
        [
         "9",
         "P/DW"
        ],
        [
         "10",
         "WB"
        ],
        [
         "11",
         "FOX"
        ],
        [
         "12",
         "WEIN"
        ],
        [
         "13",
         "BV"
        ],
        [
         "14",
         "SONY"
        ],
        [
         "15",
         "BV"
        ],
        [
         "16",
         "FOXS"
        ],
        [
         "17",
         "P/DW"
        ],
        [
         "18",
         "UNI"
        ],
        [
         "19",
         "PAR"
        ],
        [
         "20",
         "UNI"
        ],
        [
         "21",
         "SGEM"
        ],
        [
         "22",
         "PAR"
        ],
        [
         "23",
         "SONY"
        ],
        [
         "24",
         "WB (NL)"
        ],
        [
         "25",
         "SONY"
        ],
        [
         "26",
         "LGF"
        ],
        [
         "27",
         "SONY"
        ],
        [
         "28",
         "FOX"
        ],
        [
         "29",
         "PAR"
        ],
        [
         "30",
         "FOX"
        ],
        [
         "31",
         "FOX"
        ],
        [
         "32",
         "SONY"
        ],
        [
         "33",
         "WB (NL)"
        ],
        [
         "34",
         "BV"
        ],
        [
         "35",
         "WB"
        ],
        [
         "36",
         "SONY"
        ],
        [
         "37",
         "WB"
        ],
        [
         "38",
         "SUM"
        ],
        [
         "39",
         "PAR"
        ],
        [
         "40",
         "FOX"
        ],
        [
         "41",
         "PAR"
        ],
        [
         "42",
         "SONY"
        ],
        [
         "43",
         "FOX"
        ],
        [
         "44",
         "BV"
        ],
        [
         "45",
         "WB"
        ],
        [
         "46",
         "WB"
        ],
        [
         "47",
         "FOX"
        ],
        [
         "48",
         "WB"
        ],
        [
         "49",
         "UNI"
        ]
       ],
       "shape": {
        "columns": 1,
        "rows": 3387
       }
      },
      "text/plain": [
       "0               BV\n",
       "1               BV\n",
       "2               WB\n",
       "3               WB\n",
       "4             P/DW\n",
       "           ...    \n",
       "3382          MAGN\n",
       "3383            FM\n",
       "3384          SONY\n",
       "3385    SYNERGETIC\n",
       "3386          GRAV\n",
       "Name: studio, Length: 3387, dtype: object"
      ]
     },
     "execution_count": 76,
     "metadata": {},
     "output_type": "execute_result"
    }
   ],
   "source": [
    "# Removing white spaces and trailings then making them uppercase\n",
    "bom_movie_copy[\"studio\"].str.strip().str.replace(r\"\\.$\",\"\",regex=True).str.upper()"
   ]
  },
  {
   "cell_type": "code",
   "execution_count": 77,
   "metadata": {},
   "outputs": [],
   "source": [
    "# Handling missing values\n",
    "bom_movie_copy[\"studio\"].fillna(\"Unknown\", inplace=True)"
   ]
  },
  {
   "cell_type": "code",
   "execution_count": 86,
   "metadata": {},
   "outputs": [
    {
     "name": "stderr",
     "output_type": "stream",
     "text": [
      "c:\\Users\\USER\\anaconda3\\Lib\\site-packages\\seaborn\\_oldcore.py:1119: FutureWarning: use_inf_as_na option is deprecated and will be removed in a future version. Convert inf values to NaN before operating instead.\n",
      "  with pd.option_context('mode.use_inf_as_na', True):\n"
     ]
    },
    {
     "data": {
      "image/png": "[encoded data removed]",
      "text/plain": [
       "<Figure size 640x480 with 1 Axes>"
      ]
     },
     "metadata": {},
     "output_type": "display_data"
    }
   ],
   "source": [
    "# Cleaning domestic gross column\n",
    "# Checking for skewness\n",
    "bom_movie_copy['domestic_gross'].skew()\n",
    "sns.kdeplot(bom_movie_copy['domestic_gross']);\n"
   ]
  },
  {
   "cell_type": "code",
   "execution_count": 87,
   "metadata": {},
   "outputs": [],
   "source": [
    "# Since data is skewed positively to the right, impute null values with median\n",
    "median_dom_gross = bom_movie_copy.domestic_gross.median()\n",
    "bom_movie_copy['domestic_gross'].fillna(median_dom_gross, inplace=True)"
   ]
  },
  {
   "cell_type": "code",
   "execution_count": 88,
   "metadata": {},
   "outputs": [
    {
     "data": {
      "application/vnd.microsoft.datawrangler.viewer.v0+json": {
       "columns": [
        {
         "name": "index",
         "rawType": "int64",
         "type": "integer"
        },
        {
         "name": "foreign_gross",
         "rawType": "float64",
         "type": "float"
        }
       ],
       "ref": "424e8114-c5bd-4117-81d6-2ea82a532310",
       "rows": [
        [
         "0",
         "652000000.0"
        ],
        [
         "1",
         "691300000.0"
        ],
        [
         "2",
         "664300000.0"
        ],
        [
         "3",
         "535700000.0"
        ],
        [
         "4",
         "513900000.0"
        ],
        [
         "5",
         "398000000.0"
        ],
        [
         "6",
         "311500000.0"
        ],
        [
         "7",
         "391000000.0"
        ],
        [
         "8",
         "291600000.0"
        ],
        [
         "9",
         "277300000.0"
        ],
        [
         "10",
         "330000000.0"
        ],
        [
         "11",
         "311300000.0"
        ],
        [
         "12",
         "275400000.0"
        ],
        [
         "13",
         "228000000.0"
        ],
        [
         "14",
         "182500000.0"
        ],
        [
         "15",
         "245600000.0"
        ],
        [
         "16",
         "222400000.0"
        ],
        [
         "17",
         "173500000.0"
        ],
        [
         "18",
         "216400000.0"
        ],
        [
         "19",
         "187900000.0"
        ],
        [
         "20",
         "162200000.0"
        ],
        [
         "21",
         "240100000.0"
        ],
        [
         "22",
         "166800000.0"
        ],
        [
         "23",
         "175200000.0"
        ],
        [
         "24",
         "193000000.0"
        ],
        [
         "25",
         "210700000.0"
        ],
        [
         "26",
         "171400000.0"
        ],
        [
         "27",
         "109400000.0"
        ],
        [
         "28",
         "185500000.0"
        ],
        [
         "29",
         "81000000.0"
        ],
        [
         "30",
         "194600000.0"
        ],
        [
         "31",
         "137700000.0"
        ],
        [
         "32",
         "128000000.0"
        ],
        [
         "33",
         "106000000.0"
        ],
        [
         "34",
         "152100000.0"
        ],
        [
         "35",
         "111200000.0"
        ],
        [
         "36",
         "124000000.0"
        ],
        [
         "37",
         "101300000.0"
        ],
        [
         "38",
         "108600000.0"
        ],
        [
         "39",
         "92800000.0"
        ],
        [
         "40",
         "100000000.0"
        ],
        [
         "41",
         "54500000.0"
        ],
        [
         "42",
         "51200000.0"
        ],
        [
         "43",
         "86200000.0"
        ],
        [
         "44",
         "116900000.0"
        ],
        [
         "45",
         "62300000.0"
        ],
        [
         "46",
         "61800000.0"
        ],
        [
         "47",
         "53600000.0"
        ],
        [
         "48",
         "84400000.0"
        ],
        [
         "49",
         "77800000.0"
        ]
       ],
       "shape": {
        "columns": 1,
        "rows": 3387
       }
      },
      "text/plain": [
       "0       652000000.0\n",
       "1       691300000.0\n",
       "2       664300000.0\n",
       "3       535700000.0\n",
       "4       513900000.0\n",
       "           ...     \n",
       "3382            NaN\n",
       "3383            NaN\n",
       "3384            NaN\n",
       "3385            NaN\n",
       "3386            NaN\n",
       "Name: foreign_gross, Length: 3387, dtype: float64"
      ]
     },
     "execution_count": 88,
     "metadata": {},
     "output_type": "execute_result"
    }
   ],
   "source": [
    "# Cleaning foreign gross column \n",
    "# converting the column from string to float\n",
    "bom_movie_copy['foreign_gross'] = pd.to_numeric(bom_movie_copy['foreign_gross'], errors='coerce')\n",
    "bom_movie_copy['foreign_gross']"
   ]
  },
  {
   "cell_type": "code",
   "execution_count": 89,
   "metadata": {},
   "outputs": [
    {
     "name": "stderr",
     "output_type": "stream",
     "text": [
      "c:\\Users\\USER\\anaconda3\\Lib\\site-packages\\seaborn\\_oldcore.py:1119: FutureWarning: use_inf_as_na option is deprecated and will be removed in a future version. Convert inf values to NaN before operating instead.\n",
      "  with pd.option_context('mode.use_inf_as_na', True):\n"
     ]
    },
    {
     "data": {
      "image/png": "[encoded data removed]",
      "text/plain": [
       "<Figure size 640x480 with 1 Axes>"
      ]
     },
     "metadata": {},
     "output_type": "display_data"
    }
   ],
   "source": [
    "# Checking for skewness and imputing null values\n",
    "bom_movie_copy['foreign_gross'].skew()\n",
    "sns.kdeplot(bom_movie_copy['foreign_gross']);"
   ]
  },
  {
   "cell_type": "code",
   "execution_count": 90,
   "metadata": {},
   "outputs": [],
   "source": [
    "# Imputing null values on foreign_gross column, because values are skewed to the right.\n",
    "median_foreign_gross = bom_movie_copy[\"foreign_gross\"].median()\n",
    "bom_movie_copy['foreign_gross'].fillna(median_foreign_gross, inplace=True)"
   ]
  },
  {
   "cell_type": "code",
   "execution_count": 92,
   "metadata": {},
   "outputs": [
    {
     "name": "stdout",
     "output_type": "stream",
     "text": [
      "   year   total_gross\n",
      "0  2010  1.067000e+09\n",
      "1  2010  1.025500e+09\n",
      "2  2010  9.603000e+08\n",
      "3  2010  8.283000e+08\n",
      "4  2010  7.526000e+08\n"
     ]
    }
   ],
   "source": [
    "# Feature engineering\n",
    "bom_movie_copy['total_gross'] = bom_movie_copy['domestic_gross'] + bom_movie_copy['foreign_gross'] \n",
    "print(bom_movie_copy[['year', 'total_gross']].head())\n",
    "#bom_movie['total_gross'] "
   ]
  },
  {
   "cell_type": "code",
   "execution_count": 93,
   "metadata": {},
   "outputs": [
    {
     "data": {
      "application/vnd.microsoft.datawrangler.viewer.v0+json": {
       "columns": [
        {
         "name": "index",
         "rawType": "object",
         "type": "string"
        },
        {
         "name": "0",
         "rawType": "int64",
         "type": "integer"
        }
       ],
       "ref": "0bb92428-df0b-4076-be9d-95def87937ce",
       "rows": [
        [
         "title",
         "0"
        ],
        [
         "studio",
         "0"
        ],
        [
         "domestic_gross",
         "0"
        ],
        [
         "foreign_gross",
         "0"
        ],
        [
         "year",
         "0"
        ],
        [
         "total_gross",
         "0"
        ]
       ],
       "shape": {
        "columns": 1,
        "rows": 6
       }
      },
      "text/plain": [
       "title             0\n",
       "studio            0\n",
       "domestic_gross    0\n",
       "foreign_gross     0\n",
       "year              0\n",
       "total_gross       0\n",
       "dtype: int64"
      ]
     },
     "execution_count": 93,
     "metadata": {},
     "output_type": "execute_result"
    }
   ],
   "source": [
    "# Rechecking for null values\n",
    "bom_movie_copy.isna().sum()"
   ]
  },
  {
   "cell_type": "markdown",
   "metadata": {},
   "source": [
    "### **Dataset 4**: TheMovieDB `tmdb.movies.csv.gz`"
   ]
  },
  {
   "cell_type": "code",
   "execution_count": 96,
   "metadata": {},
   "outputs": [
    {
     "data": {
      "application/vnd.microsoft.datawrangler.viewer.v0+json": {
       "columns": [
        {
         "name": "index",
         "rawType": "int64",
         "type": "integer"
        },
        {
         "name": "Unnamed: 0",
         "rawType": "int64",
         "type": "integer"
        },
        {
         "name": "genre_ids",
         "rawType": "object",
         "type": "string"
        },
        {
         "name": "id",
         "rawType": "int64",
         "type": "integer"
        },
        {
         "name": "original_language",
         "rawType": "object",
         "type": "string"
        },
        {
         "name": "original_title",
         "rawType": "object",
         "type": "string"
        },
        {
         "name": "popularity",
         "rawType": "float64",
         "type": "float"
        },
        {
         "name": "release_date",
         "rawType": "object",
         "type": "string"
        },
        {
         "name": "title",
         "rawType": "object",
         "type": "string"
        },
        {
         "name": "vote_average",
         "rawType": "float64",
         "type": "float"
        },
        {
         "name": "vote_count",
         "rawType": "int64",
         "type": "integer"
        }
       ],
       "ref": "685fa1d7-39b9-4413-a9aa-d218c6a4d009",
       "rows": [
        [
         "0",
         "0",
         "[12, 14, 10751]",
         "12444",
         "en",
         "Harry Potter and the Deathly Hallows: Part 1",
         "33.533",
         "2010-11-19",
         "Harry Potter and the Deathly Hallows: Part 1",
         "7.7",
         "10788"
        ],
        [
         "1",
         "1",
         "[14, 12, 16, 10751]",
         "10191",
         "en",
         "How to Train Your Dragon",
         "28.734",
         "2010-03-26",
         "How to Train Your Dragon",
         "7.7",
         "7610"
        ],
        [
         "2",
         "2",
         "[12, 28, 878]",
         "10138",
         "en",
         "Iron Man 2",
         "28.515",
         "2010-05-07",
         "Iron Man 2",
         "6.8",
         "12368"
        ],
        [
         "3",
         "3",
         "[16, 35, 10751]",
         "862",
         "en",
         "Toy Story",
         "28.005",
         "1995-11-22",
         "Toy Story",
         "7.9",
         "10174"
        ],
        [
         "4",
         "4",
         "[28, 878, 12]",
         "27205",
         "en",
         "Inception",
         "27.92",
         "2010-07-16",
         "Inception",
         "8.3",
         "22186"
        ]
       ],
       "shape": {
        "columns": 10,
        "rows": 5
       }
      },
      "text/html": [
       "<div>\n",
       "<style scoped>\n",
       "    .dataframe tbody tr th:only-of-type {\n",
       "        vertical-align: middle;\n",
       "    }\n",
       "\n",
       "    .dataframe tbody tr th {\n",
       "        vertical-align: top;\n",
       "    }\n",
       "\n",
       "    .dataframe thead th {\n",
       "        text-align: right;\n",
       "    }\n",
       "</style>\n",
       "<table border=\"1\" class=\"dataframe\">\n",
       "  <thead>\n",
       "    <tr style=\"text-align: right;\">\n",
       "      <th></th>\n",
       "      <th>Unnamed: 0</th>\n",
       "      <th>genre_ids</th>\n",
       "      <th>id</th>\n",
       "      <th>original_language</th>\n",
       "      <th>original_title</th>\n",
       "      <th>popularity</th>\n",
       "      <th>release_date</th>\n",
       "      <th>title</th>\n",
       "      <th>vote_average</th>\n",
       "      <th>vote_count</th>\n",
       "    </tr>\n",
       "  </thead>\n",
       "  <tbody>\n",
       "    <tr>\n",
       "      <th>0</th>\n",
       "      <td>0</td>\n",
       "      <td>[12, 14, 10751]</td>\n",
       "      <td>12444</td>\n",
       "      <td>en</td>\n",
       "      <td>Harry Potter and the Deathly Hallows: Part 1</td>\n",
       "      <td>33.533</td>\n",
       "      <td>2010-11-19</td>\n",
       "      <td>Harry Potter and the Deathly Hallows: Part 1</td>\n",
       "      <td>7.7</td>\n",
       "      <td>10788</td>\n",
       "    </tr>\n",
       "    <tr>\n",
       "      <th>1</th>\n",
       "      <td>1</td>\n",
       "      <td>[14, 12, 16, 10751]</td>\n",
       "      <td>10191</td>\n",
       "      <td>en</td>\n",
       "      <td>How to Train Your Dragon</td>\n",
       "      <td>28.734</td>\n",
       "      <td>2010-03-26</td>\n",
       "      <td>How to Train Your Dragon</td>\n",
       "      <td>7.7</td>\n",
       "      <td>7610</td>\n",
       "    </tr>\n",
       "    <tr>\n",
       "      <th>2</th>\n",
       "      <td>2</td>\n",
       "      <td>[12, 28, 878]</td>\n",
       "      <td>10138</td>\n",
       "      <td>en</td>\n",
       "      <td>Iron Man 2</td>\n",
       "      <td>28.515</td>\n",
       "      <td>2010-05-07</td>\n",
       "      <td>Iron Man 2</td>\n",
       "      <td>6.8</td>\n",
       "      <td>12368</td>\n",
       "    </tr>\n",
       "    <tr>\n",
       "      <th>3</th>\n",
       "      <td>3</td>\n",
       "      <td>[16, 35, 10751]</td>\n",
       "      <td>862</td>\n",
       "      <td>en</td>\n",
       "      <td>Toy Story</td>\n",
       "      <td>28.005</td>\n",
       "      <td>1995-11-22</td>\n",
       "      <td>Toy Story</td>\n",
       "      <td>7.9</td>\n",
       "      <td>10174</td>\n",
       "    </tr>\n",
       "    <tr>\n",
       "      <th>4</th>\n",
       "      <td>4</td>\n",
       "      <td>[28, 878, 12]</td>\n",
       "      <td>27205</td>\n",
       "      <td>en</td>\n",
       "      <td>Inception</td>\n",
       "      <td>27.920</td>\n",
       "      <td>2010-07-16</td>\n",
       "      <td>Inception</td>\n",
       "      <td>8.3</td>\n",
       "      <td>22186</td>\n",
       "    </tr>\n",
       "  </tbody>\n",
       "</table>\n",
       "</div>"
      ],
      "text/plain": [
       "   Unnamed: 0            genre_ids     id original_language  \\\n",
       "0           0      [12, 14, 10751]  12444                en   \n",
       "1           1  [14, 12, 16, 10751]  10191                en   \n",
       "2           2        [12, 28, 878]  10138                en   \n",
       "3           3      [16, 35, 10751]    862                en   \n",
       "4           4        [28, 878, 12]  27205                en   \n",
       "\n",
       "                                 original_title  popularity release_date  \\\n",
       "0  Harry Potter and the Deathly Hallows: Part 1      33.533   2010-11-19   \n",
       "1                      How to Train Your Dragon      28.734   2010-03-26   \n",
       "2                                    Iron Man 2      28.515   2010-05-07   \n",
       "3                                     Toy Story      28.005   1995-11-22   \n",
       "4                                     Inception      27.920   2010-07-16   \n",
       "\n",
       "                                          title  vote_average  vote_count  \n",
       "0  Harry Potter and the Deathly Hallows: Part 1           7.7       10788  \n",
       "1                      How to Train Your Dragon           7.7        7610  \n",
       "2                                    Iron Man 2           6.8       12368  \n",
       "3                                     Toy Story           7.9       10174  \n",
       "4                                     Inception           8.3       22186  "
      ]
     },
     "execution_count": 96,
     "metadata": {},
     "output_type": "execute_result"
    }
   ],
   "source": [
    "# Loading the dataset, making a copy and checking the first five records\n",
    "tmdb_df = pd.read_csv(path_4)\n",
    "tmdb_df_copy = tmdb_df.copy(deep=True)\n",
    "tmdb_df_copy.head()\n"
   ]
  },
  {
   "cell_type": "code",
   "execution_count": 109,
   "metadata": {},
   "outputs": [
    {
     "name": "stdout",
     "output_type": "stream",
     "text": [
      "<class 'pandas.core.frame.DataFrame'>\n",
      "RangeIndex: 26517 entries, 0 to 26516\n",
      "Data columns (total 10 columns):\n",
      " #   Column             Non-Null Count  Dtype  \n",
      "---  ------             --------------  -----  \n",
      " 0   Unnamed: 0         26517 non-null  int64  \n",
      " 1   genre_ids          26517 non-null  object \n",
      " 2   id                 26517 non-null  int64  \n",
      " 3   original_language  26517 non-null  object \n",
      " 4   original_title     26517 non-null  object \n",
      " 5   popularity         26517 non-null  float64\n",
      " 6   release_date       26517 non-null  object \n",
      " 7   title              26517 non-null  object \n",
      " 8   vote_average       26517 non-null  float64\n",
      " 9   vote_count         26517 non-null  int64  \n",
      "dtypes: float64(2), int64(3), object(5)\n",
      "memory usage: 2.0+ MB\n",
      "(26517, 10)\n",
      "Index(['Unnamed: 0', 'genre_ids', 'id', 'original_language', 'original_title',\n",
      "       'popularity', 'release_date', 'title', 'vote_average', 'vote_count'],\n",
      "      dtype='object')\n",
      "        Unnamed: 0             id    popularity  vote_average    vote_count\n",
      "count  26517.00000   26517.000000  26517.000000  26517.000000  26517.000000\n",
      "mean   13258.00000  295050.153260      3.130912      5.991281    194.224837\n",
      "std     7654.94288  153661.615648      4.355229      1.852946    960.961095\n",
      "min        0.00000      27.000000      0.600000      0.000000      1.000000\n",
      "25%     6629.00000  157851.000000      0.600000      5.000000      2.000000\n",
      "50%    13258.00000  309581.000000      1.374000      6.000000      5.000000\n",
      "75%    19887.00000  419542.000000      3.694000      7.000000     28.000000\n",
      "max    26516.00000  608444.000000     80.773000     10.000000  22186.000000\n"
     ]
    }
   ],
   "source": [
    "# Checking the info, shape, columns, summary\n",
    "tmdb_df_copy.info()\n",
    "print(tmdb_df_copy.shape)\n",
    "print(tmdb_df_copy.columns)\n",
    "print(tmdb_df_copy.describe())"
   ]
  },
  {
   "cell_type": "markdown",
   "metadata": {},
   "source": [
    "- The dataset is contains 10 columns and 26517 rows.\n",
    "- It has 5 categorical data and 5 numerical data."
   ]
  },
  {
   "cell_type": "code",
   "execution_count": 118,
   "metadata": {},
   "outputs": [
    {
     "data": {
      "text/plain": [
       "0"
      ]
     },
     "execution_count": 118,
     "metadata": {},
     "output_type": "execute_result"
    }
   ],
   "source": [
    "# Checking for missing values \n",
    "tmdb_df_copy.isna().sum()\n",
    "# Checking for duplicated\n",
    "tmdb_df_copy.duplicated().sum()"
   ]
  },
  {
   "cell_type": "markdown",
   "metadata": {},
   "source": [
    "- The dataset has no missing value and no duplicates."
   ]
  },
  {
   "cell_type": "markdown",
   "metadata": {},
   "source": [
    "### **Dataset 5:** The Numbers `tn.movie_budgets.csv.gz`"
   ]
  },
  {
   "cell_type": "code",
   "execution_count": 108,
   "metadata": {},
   "outputs": [
    {
     "data": {
      "application/vnd.microsoft.datawrangler.viewer.v0+json": {
       "columns": [
        {
         "name": "index",
         "rawType": "int64",
         "type": "integer"
        },
        {
         "name": "id",
         "rawType": "int64",
         "type": "integer"
        },
        {
         "name": "release_date",
         "rawType": "object",
         "type": "string"
        },
        {
         "name": "movie",
         "rawType": "object",
         "type": "string"
        },
        {
         "name": "production_budget",
         "rawType": "object",
         "type": "string"
        },
        {
         "name": "domestic_gross",
         "rawType": "object",
         "type": "string"
        },
        {
         "name": "worldwide_gross",
         "rawType": "object",
         "type": "string"
        }
       ],
       "ref": "f8df0377-2066-4d07-b5ea-cc6343162083",
       "rows": [
        [
         "0",
         "1",
         "Dec 18, 2009",
         "Avatar",
         "$425,000,000",
         "$760,507,625",
         "$2,776,345,279"
        ],
        [
         "1",
         "2",
         "May 20, 2011",
         "Pirates of the Caribbean: On Stranger Tides",
         "$410,600,000",
         "$241,063,875",
         "$1,045,663,875"
        ],
        [
         "2",
         "3",
         "Jun 7, 2019",
         "Dark Phoenix",
         "$350,000,000",
         "$42,762,350",
         "$149,762,350"
        ],
        [
         "3",
         "4",
         "May 1, 2015",
         "Avengers: Age of Ultron",
         "$330,600,000",
         "$459,005,868",
         "$1,403,013,963"
        ],
        [
         "4",
         "5",
         "Dec 15, 2017",
         "Star Wars Ep. VIII: The Last Jedi",
         "$317,000,000",
         "$620,181,382",
         "$1,316,721,747"
        ]
       ],
       "shape": {
        "columns": 6,
        "rows": 5
       }
      },
      "text/html": [
       "<div>\n",
       "<style scoped>\n",
       "    .dataframe tbody tr th:only-of-type {\n",
       "        vertical-align: middle;\n",
       "    }\n",
       "\n",
       "    .dataframe tbody tr th {\n",
       "        vertical-align: top;\n",
       "    }\n",
       "\n",
       "    .dataframe thead th {\n",
       "        text-align: right;\n",
       "    }\n",
       "</style>\n",
       "<table border=\"1\" class=\"dataframe\">\n",
       "  <thead>\n",
       "    <tr style=\"text-align: right;\">\n",
       "      <th></th>\n",
       "      <th>id</th>\n",
       "      <th>release_date</th>\n",
       "      <th>movie</th>\n",
       "      <th>production_budget</th>\n",
       "      <th>domestic_gross</th>\n",
       "      <th>worldwide_gross</th>\n",
       "    </tr>\n",
       "  </thead>\n",
       "  <tbody>\n",
       "    <tr>\n",
       "      <th>0</th>\n",
       "      <td>1</td>\n",
       "      <td>Dec 18, 2009</td>\n",
       "      <td>Avatar</td>\n",
       "      <td>$425,000,000</td>\n",
       "      <td>$760,507,625</td>\n",
       "      <td>$2,776,345,279</td>\n",
       "    </tr>\n",
       "    <tr>\n",
       "      <th>1</th>\n",
       "      <td>2</td>\n",
       "      <td>May 20, 2011</td>\n",
       "      <td>Pirates of the Caribbean: On Stranger Tides</td>\n",
       "      <td>$410,600,000</td>\n",
       "      <td>$241,063,875</td>\n",
       "      <td>$1,045,663,875</td>\n",
       "    </tr>\n",
       "    <tr>\n",
       "      <th>2</th>\n",
       "      <td>3</td>\n",
       "      <td>Jun 7, 2019</td>\n",
       "      <td>Dark Phoenix</td>\n",
       "      <td>$350,000,000</td>\n",
       "      <td>$42,762,350</td>\n",
       "      <td>$149,762,350</td>\n",
       "    </tr>\n",
       "    <tr>\n",
       "      <th>3</th>\n",
       "      <td>4</td>\n",
       "      <td>May 1, 2015</td>\n",
       "      <td>Avengers: Age of Ultron</td>\n",
       "      <td>$330,600,000</td>\n",
       "      <td>$459,005,868</td>\n",
       "      <td>$1,403,013,963</td>\n",
       "    </tr>\n",
       "    <tr>\n",
       "      <th>4</th>\n",
       "      <td>5</td>\n",
       "      <td>Dec 15, 2017</td>\n",
       "      <td>Star Wars Ep. VIII: The Last Jedi</td>\n",
       "      <td>$317,000,000</td>\n",
       "      <td>$620,181,382</td>\n",
       "      <td>$1,316,721,747</td>\n",
       "    </tr>\n",
       "  </tbody>\n",
       "</table>\n",
       "</div>"
      ],
      "text/plain": [
       "   id  release_date                                        movie  \\\n",
       "0   1  Dec 18, 2009                                       Avatar   \n",
       "1   2  May 20, 2011  Pirates of the Caribbean: On Stranger Tides   \n",
       "2   3   Jun 7, 2019                                 Dark Phoenix   \n",
       "3   4   May 1, 2015                      Avengers: Age of Ultron   \n",
       "4   5  Dec 15, 2017            Star Wars Ep. VIII: The Last Jedi   \n",
       "\n",
       "  production_budget domestic_gross worldwide_gross  \n",
       "0      $425,000,000   $760,507,625  $2,776,345,279  \n",
       "1      $410,600,000   $241,063,875  $1,045,663,875  \n",
       "2      $350,000,000    $42,762,350    $149,762,350  \n",
       "3      $330,600,000   $459,005,868  $1,403,013,963  \n",
       "4      $317,000,000   $620,181,382  $1,316,721,747  "
      ]
     },
     "execution_count": 108,
     "metadata": {},
     "output_type": "execute_result"
    }
   ],
   "source": [
    "# Loading the dataset, creating a copy and checking the first five rows\n",
    "tn_budget = pd.read_csv(path_5)\n",
    "tn_budget_copy = tn_budget.copy(deep=True)\n",
    "tn_budget_copy.head()"
   ]
  },
  {
   "cell_type": "code",
   "execution_count": 116,
   "metadata": {},
   "outputs": [
    {
     "name": "stdout",
     "output_type": "stream",
     "text": [
      "<class 'pandas.core.frame.DataFrame'>\n",
      "RangeIndex: 5782 entries, 0 to 5781\n",
      "Data columns (total 6 columns):\n",
      " #   Column             Non-Null Count  Dtype \n",
      "---  ------             --------------  ----- \n",
      " 0   id                 5782 non-null   int64 \n",
      " 1   release_date       5782 non-null   object\n",
      " 2   movie              5782 non-null   object\n",
      " 3   production_budget  5782 non-null   object\n",
      " 4   domestic_gross     5782 non-null   object\n",
      " 5   worldwide_gross    5782 non-null   object\n",
      "dtypes: int64(1), object(5)\n",
      "memory usage: 271.2+ KB\n",
      "(5782, 6)\n",
      "Index(['id', 'release_date', 'movie', 'production_budget', 'domestic_gross',\n",
      "       'worldwide_gross'],\n",
      "      dtype='object')\n",
      "                id\n",
      "count  5782.000000\n",
      "mean     50.372363\n",
      "std      28.821076\n",
      "min       1.000000\n",
      "25%      25.000000\n",
      "50%      50.000000\n",
      "75%      75.000000\n",
      "max     100.000000\n"
     ]
    }
   ],
   "source": [
    "# Checking for the info, shape, columns, summary\n",
    "tn_budget_copy.info()\n",
    "print(tn_budget_copy.shape)\n",
    "print(tn_budget_copy.columns)\n",
    "print(tn_budget_copy.describe())"
   ]
  },
  {
   "cell_type": "markdown",
   "metadata": {},
   "source": [
    "- The dataset has 6 columns and 5782 rows."
   ]
  },
  {
   "cell_type": "code",
   "execution_count": 117,
   "metadata": {},
   "outputs": [
    {
     "data": {
      "text/plain": [
       "0"
      ]
     },
     "execution_count": 117,
     "metadata": {},
     "output_type": "execute_result"
    }
   ],
   "source": [
    "# Checking for missing values and duplicates \n",
    "tn_budget_copy.isna().sum()\n",
    "tn_budget_copy.duplicated().sum()\n"
   ]
  },
  {
   "cell_type": "markdown",
   "metadata": {},
   "source": [
    "- The dataset is clean. It has no missing values and no duplicates."
   ]
  },
  {
   "cell_type": "markdown",
   "metadata": {},
   "source": [
    "### **Merging datasets to answer our business questions**"
   ]
  },
  {
   "cell_type": "markdown",
   "metadata": {},
   "source": [
    "#### **Question 1:** What genres are most profitable"
   ]
  },
  {
   "cell_type": "code",
   "execution_count": null,
   "metadata": {},
   "outputs": [],
   "source": []
  }
 ],
 "metadata": {
  "kernelspec": {
   "display_name": "Python (learn-env)",
   "language": "python",
   "name": "learn-env"
  },
  "language_info": {
   "codemirror_mode": {
    "name": "ipython",
    "version": 3
   },
   "file_extension": ".py",
   "mimetype": "text/x-python",
   "name": "python",
   "nbconvert_exporter": "python",
   "pygments_lexer": "ipython3",
   "version": "3.11.7"
  }
 },
 "nbformat": 4,
 "nbformat_minor": 4
}
